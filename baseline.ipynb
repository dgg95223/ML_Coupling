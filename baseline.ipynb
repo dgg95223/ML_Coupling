{
 "cells": [
  {
   "cell_type": "code",
   "execution_count": 1,
   "id": "308307b8-4561-470e-9de8-9945aa98df0f",
   "metadata": {},
   "outputs": [
    {
     "name": "stderr",
     "output_type": "stream",
     "text": [
      "2022-08-30 23:09:35.539494: W tensorflow/stream_executor/platform/default/dso_loader.cc:64] Could not load dynamic library 'libcudart.so.11.0'; dlerror: libcudart.so.11.0: cannot open shared object file: No such file or directory\n",
      "2022-08-30 23:09:35.539621: I tensorflow/stream_executor/cuda/cudart_stub.cc:29] Ignore above cudart dlerror if you do not have a GPU set up on your machine.\n"
     ]
    }
   ],
   "source": [
    "import mo_descriptor as md\n",
    "import nn_frame as nn\n",
    "import numpy as np\n",
    "import subprocess\n",
    "# subprocess.run('export TF_INTRA_OP_PARALLELISM_THREADS=12', shell=True)"
   ]
  },
  {
   "cell_type": "code",
   "execution_count": 2,
   "id": "4f8166d3-a125-4e64-b77b-185abcdc7daa",
   "metadata": {
    "scrolled": true,
    "tags": []
   },
   "outputs": [],
   "source": [
    "x = np.linspace(-4, 4, 81)\n",
    "y = np.linspace(-4, 4, 81)\n",
    "train_y = np.log(np.outer(np.exp(np.square(x)), np.exp(-np.square(y))))\n",
    "train_x = []\n",
    "for ii, i in np.ndenumerate(train_y):\n",
    "    idx = ii[0] * 81 + ii[1]\n",
    "    train_x.append((np.array(ii)-40)*0.1)\n",
    "train_x = np.array(train_x)\n",
    "train_y = train_y.flatten()\n"
   ]
  },
  {
   "cell_type": "code",
   "execution_count": 9,
   "id": "dac96c68-4689-41b3-8270-a8a8fbca0865",
   "metadata": {
    "scrolled": true,
    "tags": []
   },
   "outputs": [
    {
     "name": "stdout",
     "output_type": "stream",
     "text": [
      "training step:     0\n",
      "loss 6.43627691\n"
     ]
    },
    {
     "name": "stderr",
     "output_type": "stream",
     "text": [
      "/mnt/e/work/ML_MO_COUPLE/nn_frame.py:162: RuntimeWarning: divide by zero encountered in true_divide\n",
      "  error = np.mean((self.model(X, training=False).numpy()-Y)/Y)\n",
      "/home/dgg95223/anaconda3/lib/python3.7/site-packages/numpy/core/_methods.py:178: RuntimeWarning: invalid value encountered in reduce\n",
      "  ret = umr_sum(arr, axis, dtype, out, keepdims, where=where)\n"
     ]
    },
    {
     "name": "stdout",
     "output_type": "stream",
     "text": [
      "training step:  1000\n",
      "loss 6.43884277\n",
      "training step:  2000\n",
      "loss 12.6731367\n",
      "training step:  3000\n",
      "loss 7.22173262\n",
      "training step:  4000\n",
      "loss 8.52408886\n",
      "training step:  5000\n",
      "loss 8.50222206\n",
      "training step:  6000\n",
      "loss 9.09528446\n",
      "training step:  7000\n",
      "loss 8.27200699\n",
      "training step:  8000\n",
      "loss 5.72384691\n",
      "training step:  9000\n",
      "loss 6.84270954\n",
      "training step: 10000\n",
      "loss 7.08947515\n",
      "training step: 11000\n",
      "loss 6.18969917\n",
      "training step: 12000\n",
      "loss 6.66176224\n",
      "training step: 13000\n",
      "loss 7.70994902\n",
      "training step: 14000\n",
      "loss 7.69330835\n",
      "training step: 15000\n",
      "loss 6.89894915\n",
      "training step: 16000\n",
      "loss 8.60284\n",
      "training step: 17000\n",
      "loss 4.51965094\n",
      "training step: 18000\n",
      "loss 5.75983477\n",
      "training step: 19000\n",
      "loss 5.03642797\n",
      "training step: 20000\n",
      "loss 7.4101963\n",
      "training step: 21000\n",
      "loss 5.3601408\n",
      "training step: 22000\n",
      "loss 7.1323514\n",
      "training step: 23000\n",
      "loss 4.87322474\n",
      "training step: 24000\n",
      "loss 6.44499969\n",
      "training step: 25000\n",
      "loss 4.18568659\n",
      "training step: 26000\n",
      "loss 6.39061308\n",
      "training step: 27000\n",
      "loss 10.041625\n",
      "training step: 28000\n",
      "loss 11.5246134\n",
      "training step: 29000\n",
      "loss 7.7058\n",
      "training step: 30000\n",
      "loss 6.85309458\n",
      "training step: 31000\n",
      "loss 10.6601868\n",
      "training step: 32000\n",
      "loss 7.94377089\n",
      "training step: 33000\n",
      "loss 4.74118471\n",
      "training step: 34000\n",
      "loss 4.67832947\n",
      "training step: 35000\n",
      "loss 4.77509975\n",
      "training step: 36000\n",
      "loss 6.39373779\n",
      "training step: 37000\n",
      "loss 6.7500639\n",
      "training step: 38000\n",
      "loss 6.1920619\n",
      "training step: 39000\n",
      "loss 8.77716064\n",
      "training step: 40000\n",
      "loss 5.67730951\n",
      "training step: 41000\n",
      "loss 6.16666794\n",
      "training step: 42000\n",
      "loss 6.30798435\n",
      "training step: 43000\n",
      "loss 4.29923916\n",
      "training step: 44000\n",
      "loss 4.88491678\n",
      "training step: 45000\n",
      "loss 4.14197779\n",
      "training step: 46000\n",
      "loss 4.1481061\n",
      "training step: 47000\n",
      "loss 4.42711258\n",
      "training step: 48000\n",
      "loss 9.21203709\n",
      "training step: 49000\n",
      "loss 4.60879612\n",
      "training step: 50000\n",
      "loss 4.36657143\n",
      "training step: 51000\n",
      "loss 7.08506107\n"
     ]
    },
    {
     "ename": "KeyboardInterrupt",
     "evalue": "",
     "output_type": "error",
     "traceback": [
      "\u001b[0;31m---------------------------------------------------------------------------\u001b[0m",
      "\u001b[0;31mKeyboardInterrupt\u001b[0m                         Traceback (most recent call last)",
      "\u001b[0;32m/tmp/ipykernel_8851/956721960.py\u001b[0m in \u001b[0;36m<module>\u001b[0;34m\u001b[0m\n\u001b[1;32m      3\u001b[0m 'seed':None, 'debug_traj': True}\n\u001b[1;32m      4\u001b[0m \u001b[0mNN\u001b[0m \u001b[0;34m=\u001b[0m \u001b[0mnn\u001b[0m\u001b[0;34m.\u001b[0m\u001b[0mNN\u001b[0m\u001b[0;34m(\u001b[0m\u001b[0msetting_dict\u001b[0m\u001b[0;34m=\u001b[0m\u001b[0msetting\u001b[0m\u001b[0;34m)\u001b[0m\u001b[0;34m\u001b[0m\u001b[0;34m\u001b[0m\u001b[0m\n\u001b[0;32m----> 5\u001b[0;31m \u001b[0mNN\u001b[0m\u001b[0;34m.\u001b[0m\u001b[0mtrain\u001b[0m\u001b[0;34m(\u001b[0m\u001b[0mtrain_x\u001b[0m\u001b[0;34m,\u001b[0m\u001b[0mtrain_y\u001b[0m\u001b[0;34m)\u001b[0m\u001b[0;34m\u001b[0m\u001b[0;34m\u001b[0m\u001b[0m\n\u001b[0m",
      "\u001b[0;32m/mnt/e/work/ML_MO_COUPLE/nn_frame.py\u001b[0m in \u001b[0;36mtrain\u001b[0;34m(self, X, Y)\u001b[0m\n\u001b[1;32m    160\u001b[0m                             \u001b[0;32mimport\u001b[0m \u001b[0mmatplotlib\u001b[0m\u001b[0;34m.\u001b[0m\u001b[0mpyplot\u001b[0m \u001b[0;32mas\u001b[0m \u001b[0mplt\u001b[0m\u001b[0;34m\u001b[0m\u001b[0;34m\u001b[0m\u001b[0m\n\u001b[1;32m    161\u001b[0m \u001b[0;34m\u001b[0m\u001b[0m\n\u001b[0;32m--> 162\u001b[0;31m                             \u001b[0merror\u001b[0m \u001b[0;34m=\u001b[0m \u001b[0mnp\u001b[0m\u001b[0;34m.\u001b[0m\u001b[0mmean\u001b[0m\u001b[0;34m(\u001b[0m\u001b[0;34m(\u001b[0m\u001b[0mself\u001b[0m\u001b[0;34m.\u001b[0m\u001b[0mmodel\u001b[0m\u001b[0;34m(\u001b[0m\u001b[0mX\u001b[0m\u001b[0;34m,\u001b[0m \u001b[0mtraining\u001b[0m\u001b[0;34m=\u001b[0m\u001b[0;32mFalse\u001b[0m\u001b[0;34m)\u001b[0m\u001b[0;34m.\u001b[0m\u001b[0mnumpy\u001b[0m\u001b[0;34m(\u001b[0m\u001b[0;34m)\u001b[0m\u001b[0;34m-\u001b[0m\u001b[0mY\u001b[0m\u001b[0;34m)\u001b[0m\u001b[0;34m/\u001b[0m\u001b[0mY\u001b[0m\u001b[0;34m)\u001b[0m\u001b[0;34m\u001b[0m\u001b[0;34m\u001b[0m\u001b[0m\n\u001b[0m\u001b[1;32m    163\u001b[0m                             \u001b[0mx\u001b[0m \u001b[0;34m=\u001b[0m \u001b[0mnp\u001b[0m\u001b[0;34m.\u001b[0m\u001b[0mlinspace\u001b[0m\u001b[0;34m(\u001b[0m\u001b[0;34m-\u001b[0m\u001b[0;36m4\u001b[0m\u001b[0;34m,\u001b[0m \u001b[0;36m4\u001b[0m\u001b[0;34m,\u001b[0m \u001b[0;36m81\u001b[0m\u001b[0;34m)\u001b[0m\u001b[0;34m\u001b[0m\u001b[0;34m\u001b[0m\u001b[0m\n\u001b[1;32m    164\u001b[0m                             \u001b[0my\u001b[0m \u001b[0;34m=\u001b[0m \u001b[0mnp\u001b[0m\u001b[0;34m.\u001b[0m\u001b[0mlinspace\u001b[0m\u001b[0;34m(\u001b[0m\u001b[0;34m-\u001b[0m\u001b[0;36m4\u001b[0m\u001b[0;34m,\u001b[0m \u001b[0;36m4\u001b[0m\u001b[0;34m,\u001b[0m \u001b[0;36m81\u001b[0m\u001b[0;34m)\u001b[0m\u001b[0;34m\u001b[0m\u001b[0;34m\u001b[0m\u001b[0m\n",
      "\u001b[0;31mKeyboardInterrupt\u001b[0m: "
     ]
    }
   ],
   "source": [
    "setting = {'activation':'tanh', 'nn_shape':(240, 240, 240), 'batch_size':81, 'training_steps':500000,\\\n",
    "'learning_rate': 0.05, 'decay_rate':0.95, 'decay_per_steps':1000, 'save_step':1000, 'drop_rate':0, 'save_path':'./save2/model',\\\n",
    "'seed':None, 'debug_traj': True}\n",
    "NN = nn.NN(setting_dict=setting)\n",
    "NN.train(train_x,train_y)"
   ]
  },
  {
   "cell_type": "code",
   "execution_count": 4,
   "id": "530b9623-554e-4ccc-9f51-8a661f23a825",
   "metadata": {},
   "outputs": [
    {
     "data": {
      "text/plain": [
       "<matplotlib.contour.QuadContourSet at 0x7fd99ceea750>"
      ]
     },
     "execution_count": 4,
     "metadata": {},
     "output_type": "execute_result"
    },
    {
     "data": {
      "application/vnd.jupyter.widget-view+json": {
       "model_id": "658a346fe7c949deb4e8a6f85e058ad0",
       "version_major": 2,
       "version_minor": 0
      },
      "image/png": "[encoded data removed]",
      "text/html": [
       "\n",
       "            <div style=\"display: inline-block;\">\n",
       "                <div class=\"jupyter-widgets widget-label\" style=\"text-align: center;\">\n",
       "                    Figure\n",
       "                </div>\n",
       "                <img src='data:image/png;base64,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' width=640.0/>\n",
       "            </div>\n",
       "        "
      ],
      "text/plain": [
       "Canvas(toolbar=Toolbar(toolitems=[('Home', 'Reset original view', 'home', 'home'), ('Back', 'Back to previous …"
      ]
     },
     "metadata": {},
     "output_type": "display_data"
    }
   ],
   "source": [
    "import matplotlib.pyplot as plt\n",
    "%matplotlib inline\n",
    "%matplotlib widget\n",
    "\n",
    "x = np.linspace(-4, 4, 81)\n",
    "y = np.linspace(-4, 4, 81)\n",
    "X, Y = np.meshgrid(x, y)\n",
    "Z = np.log(np.outer(np.exp(np.square(x)), np.exp(-np.square(y))))\n",
    "\n",
    "fig = plt.figure()\n",
    "ax = fig.add_subplot()\n",
    "ax.contourf(X,Y,Z)"
   ]
  },
  {
   "cell_type": "code",
   "execution_count": 5,
   "id": "cdcaa214-d31f-431c-a239-8c0ace40caf7",
   "metadata": {},
   "outputs": [
    {
     "name": "stdout",
     "output_type": "stream",
     "text": [
      "-4.0\n"
     ]
    }
   ],
   "source": [
    "print(X[1][0])"
   ]
  },
  {
   "cell_type": "code",
   "execution_count": null,
   "id": "83970ce7-a323-44cf-b7b9-f822bb4a36b8",
   "metadata": {},
   "outputs": [],
   "source": []
  }
 ],
 "metadata": {
  "kernelspec": {
   "display_name": "venv",
   "language": "python",
   "name": "venv"
  },
  "language_info": {
   "codemirror_mode": {
    "name": "ipython",
    "version": 3
   },
   "file_extension": ".py",
   "mimetype": "text/x-python",
   "name": "python",
   "nbconvert_exporter": "python",
   "pygments_lexer": "ipython3",
   "version": "3.7.11"
  }
 },
 "nbformat": 4,
 "nbformat_minor": 5
}
