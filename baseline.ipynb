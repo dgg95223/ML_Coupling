{
 "cells": [
  {
   "cell_type": "code",
   "execution_count": null,
   "id": "308307b8-4561-470e-9de8-9945aa98df0f",
   "metadata": {},
   "outputs": [],
   "source": [
    "import mo_descriptor as md\n",
    "import nn_frame as nn\n",
    "import numpy as np\n",
    "import subprocess\n",
    "subprocess.run('export TF_INTRA_OP_PARALLELISM_THREADS=12', shell=True)"
   ]
  },
  {
   "cell_type": "code",
   "execution_count": null,
   "id": "20816bfe-f957-4a6d-b7cb-12a679e6c7c4",
   "metadata": {},
   "outputs": [],
   "source": [
    "x = np.arange(0, 4.1, 0.1)\n",
    "y = np.arange(0, 4.1, 0.1)\n",
    "z = np.zeros(x.shape)"
   ]
  },
  {
   "cell_type": "code",
   "execution_count": null,
   "id": "dac96c68-4689-41b3-8270-a8a8fbca0865",
   "metadata": {},
   "outputs": [],
   "source": [
    "setting = {'activation':'tanh', 'nn_shape':(256,256,256), 'batch_size':41, 'training_steps':500000,\\\n",
    "'learning_rate': 0.0005, 'decay_rate':0.99, 'decay_per_steps':41, 'save_step':41, 'drop_rate':0, 'save_path':'./save2/model',\\\n",
    "'seed':None, 'debug_traj': True}\n",
    "NN = nn.NN(setting_dict=setting)\n",
    "NN.train(train_homo_pairs,train_c_homo)"
   ]
  }
 ],
 "metadata": {
  "kernelspec": {
   "display_name": "venv",
   "language": "python",
   "name": "venv"
  },
  "language_info": {
   "codemirror_mode": {
    "name": "ipython",
    "version": 3
   },
   "file_extension": ".py",
   "mimetype": "text/x-python",
   "name": "python",
   "nbconvert_exporter": "python",
   "pygments_lexer": "ipython3",
   "version": "3.7.11"
  }
 },
 "nbformat": 4,
 "nbformat_minor": 5
}
