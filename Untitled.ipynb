{
 "cells": [
  {
   "cell_type": "code",
   "execution_count": 1,
   "id": "063620c6-d179-4211-8873-ad620320804a",
   "metadata": {
    "scrolled": true,
    "tags": []
   },
   "outputs": [],
   "source": [
    "import mo_descriptor as md\n",
    "import numpy as np"
   ]
  },
  {
   "cell_type": "code",
   "execution_count": 4,
   "id": "24ba78af-b682-47b0-a710-92eed1289b7a",
   "metadata": {},
   "outputs": [
    {
     "name": "stdout",
     "output_type": "stream",
     "text": [
      "1 start clustering\n",
      "2 start getting center\n",
      "[[ 11.77200248  11.77253095  11.77367814  11.77294799 -11.77263085\n",
      "  -11.77190328 -11.77304824 -11.77357676]\n",
      " [ 11.77253095  11.77305944  11.77420669  11.7734765  -11.77315935\n",
      "  -11.77243175 -11.77357676 -11.7741053 ]\n",
      " [ 11.77367814  11.77420669  11.77535405  11.77462379 -11.7743066\n",
      "  -11.77357894 -11.77472406 -11.77525265]\n",
      " [ 11.77294799  11.7734765   11.77462379  11.77389358 -11.77357641\n",
      "  -11.77284879 -11.77399384 -11.7745224 ]\n",
      " [-11.77263085 -11.77315935 -11.7743066  -11.77357641  11.77325925\n",
      "   11.77253165  11.77367667  11.77420521]\n",
      " [-11.77190328 -11.77243175 -11.77357894 -11.77284879  11.77253165\n",
      "   11.77180409  11.77294904  11.77347755]\n",
      " [-11.77304824 -11.77357676 -11.77472406 -11.77399384  11.77367667\n",
      "   11.77294904  11.7740941   11.77462266]\n",
      " [-11.77357676 -11.7741053  -11.77525265 -11.7745224   11.77420521\n",
      "   11.77347755  11.77462266  11.77515125]]\n"
     ]
    },
    {
     "name": "stderr",
     "output_type": "stream",
     "text": [
      "/home/dgg95223/anaconda3/lib/python3.7/site-packages/numpy/core/_asarray.py:102: VisibleDeprecationWarning: Creating an ndarray from ragged nested sequences (which is a list-or-tuple of lists-or-tuples-or ndarrays with different lengths or shapes) is deprecated. If you meant to do this, you must specify 'dtype=object' when creating the ndarray.\n",
      "  return array(a, dtype, copy=False, order=order)\n"
     ]
    }
   ],
   "source": [
    "'''prepare data_set'''\n",
    "\n",
    "x_shift = np.arange(0, 4.1, 0.1)\n",
    "y_shift = np.arange(0, 4.1, 0.1)\n",
    "\n",
    "z_shift = np.zeros(x_shift.shape)\n",
    "# the original mo, e.g. homo\n",
    "mo1 = md.MO_descriptor('data/homo-s0.cube').make()\n",
    "\n",
    "# for the original pair of one mo and itself\n",
    "mo_pair = md.MO_pair_descriptor(mo1, mo1).make()\n",
    "\n",
    "# for the shifted pair\n",
    "mo_pairs = np.zeros((len(x_shift)*len(y_shift),) + mo_pair.shape)\n",
    "for ii, i in enumerate(x_shift):\n",
    "    for jj, j in enumerate(y_shift):\n",
    "        idx = ii * len(y_shift) + jj\n",
    "        mo_pairs[idx][0] = mo_pair[0]\n",
    "        mo_pairs[idx][1] = np.add(mo_pair[1],i)\n",
    "        mo_pairs[idx][2] = np.add(mo_pair[2],j)\n",
    "        mo_pairs[idx][3] = mo_pair[3]\n",
    "np.save('homo_homo_pair.npy', mo_pairs)\n",
    "print(mo_pair[0])"
   ]
  },
  {
   "cell_type": "code",
   "execution_count": 16,
   "id": "50b6df75-9323-4737-9bd3-379b06c3876c",
   "metadata": {},
   "outputs": [
    {
     "name": "stdout",
     "output_type": "stream",
     "text": [
      "[[ 2.1     -3.42135  2.1     -3.42135  2.1     -3.42135  2.1     -3.42135]\n",
      " [ 7.62135  2.1      7.62135  2.1      7.62135  2.1      7.62135  2.1    ]\n",
      " [ 2.1     -3.42135  2.1     -3.42135  2.1     -3.42135  2.1     -3.42135]\n",
      " [ 7.62135  2.1      7.62135  2.1      7.62135  2.1      7.62135  2.1    ]\n",
      " [ 2.1     -3.42135  2.1     -3.42135  2.1     -3.42135  2.1     -3.42135]\n",
      " [ 7.62135  2.1      7.62135  2.1      7.62135  2.1      7.62135  2.1    ]\n",
      " [ 2.1     -3.42135  2.1     -3.42135  2.1     -3.42135  2.1     -3.42135]\n",
      " [ 7.62135  2.1      7.62135  2.1      7.62135  2.1      7.62135  2.1    ]]\n"
     ]
    }
   ],
   "source": [
    "print(mo_pairs[1456][2].astype(np.float128))"
   ]
  },
  {
   "cell_type": "code",
   "execution_count": null,
   "id": "997fec9d-f58e-49f5-b374-9bfe6d568428",
   "metadata": {},
   "outputs": [
    {
     "name": "stdout",
     "output_type": "stream",
     "text": [
      "(23281, 3)\n"
     ]
    },
    {
     "ename": "NameError",
     "evalue": "name 'e' is not defined",
     "output_type": "error",
     "traceback": [
      "\u001b[0;31m---------------------------------------------------------------------------\u001b[0m",
      "\u001b[0;31mNameError\u001b[0m                                 Traceback (most recent call last)",
      "\u001b[0;32m/tmp/ipykernel_15682/4096813530.py\u001b[0m in \u001b[0;36m<module>\u001b[0;34m\u001b[0m\n\u001b[1;32m     10\u001b[0m \u001b[0;32mimport\u001b[0m \u001b[0mmatplotlib\u001b[0m\u001b[0;34m.\u001b[0m\u001b[0mpyplot\u001b[0m \u001b[0;32mas\u001b[0m \u001b[0mplt\u001b[0m\u001b[0;34m\u001b[0m\u001b[0;34m\u001b[0m\u001b[0m\n\u001b[1;32m     11\u001b[0m \u001b[0;34m\u001b[0m\u001b[0m\n\u001b[0;32m---> 12\u001b[0;31m \u001b[0mX\u001b[0m \u001b[0;34m=\u001b[0m \u001b[0me\u001b[0m\u001b[0;34m\u001b[0m\u001b[0;34m\u001b[0m\u001b[0m\n\u001b[0m\u001b[1;32m     13\u001b[0m \u001b[0mY\u001b[0m \u001b[0;34m=\u001b[0m \u001b[0mnp\u001b[0m\u001b[0;34m.\u001b[0m\u001b[0marray\u001b[0m\u001b[0;34m(\u001b[0m\u001b[0mnegative\u001b[0m\u001b[0;34m)\u001b[0m\u001b[0;34m\u001b[0m\u001b[0;34m\u001b[0m\u001b[0m\n\u001b[1;32m     14\u001b[0m \u001b[0;31m# db = DBSCAN(eps=1, min_samples=5).fit_predict(X)\u001b[0m\u001b[0;34m\u001b[0m\u001b[0;34m\u001b[0m\u001b[0;34m\u001b[0m\u001b[0m\n",
      "\u001b[0;31mNameError\u001b[0m: name 'e' is not defined"
     ]
    }
   ],
   "source": [
    "from cube2ovlp import load_cube, load_dat\n",
    "nq, dq, value = load_cube('data/homo-s0.cube')\n",
    "negative = []\n",
    "for ii, i in np.ndenumerate(value):\n",
    "    if (i < -1.5e-3 and i > -2e-3) or (i > 1.5e-3 and i < 2e-3):\n",
    "        negative.append(ii)\n",
    "print(np.array(negative).shape)\n",
    "%matplotlib inline\n",
    "%matplotlib widget\n",
    "import matplotlib.pyplot as plt\n",
    "\n",
    "X = e\n",
    "Y = np.array(negative)\n",
    "# db = DBSCAN(eps=1, min_samples=5).fit_predict(X)\n",
    "\n",
    "fig = plt.figure()\n",
    "ax = fig.add_subplot(projection='3d')\n",
    "ax.scatter(X[:, 0], X[:, 1], X[:, 2])\n",
    "ax.scatter(Y[:, 0], Y[:, 1], Y[:, 2], alpha=0.01)\n",
    "ax.set_xlim(0,102)\n",
    "ax.set_ylim(0,84)\n",
    "ax.set_zlim(0, 60)\n",
    "plt.show()\n",
    "# plt.savefig('test.pdf')"
   ]
  },
  {
   "cell_type": "code",
   "execution_count": null,
   "id": "6c4e8a1e-3722-4899-a560-675739030d16",
   "metadata": {},
   "outputs": [],
   "source": []
  }
 ],
 "metadata": {
  "interpreter": {
   "hash": "06b450032188d17929360143d4ff9880f4fe0f4392f2905f4ea30c53c38970fb"
  },
  "kernelspec": {
   "display_name": "Python 3",
   "language": "python",
   "name": "python3"
  },
  "language_info": {
   "codemirror_mode": {
    "name": "ipython",
    "version": 3
   },
   "file_extension": ".py",
   "mimetype": "text/x-python",
   "name": "python",
   "nbconvert_exporter": "python",
   "pygments_lexer": "ipython3",
   "version": "3.7.11"
  }
 },
 "nbformat": 4,
 "nbformat_minor": 5
}
