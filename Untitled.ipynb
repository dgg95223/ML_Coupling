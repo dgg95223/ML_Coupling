{
 "cells": [
  {
   "cell_type": "code",
   "execution_count": 29,
   "id": "588daac3-0dda-4130-bb27-c0fe8f894821",
   "metadata": {},
   "outputs": [
    {
     "name": "stdout",
     "output_type": "stream",
     "text": [
      "good\n",
      "-185.41149673671214\n"
     ]
    }
   ],
   "source": [
    "import numpy as np\n",
    "from pyscf.data.nist import BOHR\n",
    "\n",
    "def load_dat(dat_file):\n",
    "    '''return the values on grids in a 3-d tensor array'''\n",
    "    natom = np.loadtxt(dat_file, max_rows=1, skiprows=2, usecols=0, dtype=int)                 # number of atom  \n",
    "    [nx, ny, nz] = np.loadtxt(dat_file, max_rows=3, skiprows=3, usecols=0, dtype=int) \n",
    "    [dx, dy, dz] = np.loadtxt(dat_file, max_rows=3, skiprows=3, usecols=1)  # grid size along x, y, z axis, in Bohr\n",
    "\n",
    "    value = np.loadtxt(dat_file, skiprows=6, dtype=np.float64)    # values of mo1 on every grid point, in a.u.\n",
    "    return [nx, ny, nz], [dx, dy, dz], value\n",
    "\n",
    "def cal_ovlp(dat_file1, dat_file2, trans):\n",
    "    [nx1, ny1, nz1], [dx1, dy1, dz1], mo1 = load_dat(dat_file1)\n",
    "    [nx2, ny2, nz2], [dx2, dy2, dz2], mo2 = load_dat(dat_file2)\n",
    "    N_grid = nx1*ny1*nz1\n",
    "    if N_grid == len(mo1):\n",
    "        print('good')\n",
    "    ovlp = 0\n",
    "    for i in range(0, nx1):\n",
    "        for j in range(0, ny1):\n",
    "            for k in range(0, nz1):\n",
    "                n1 = i * ny1 * nz1 + j * nz1 + k\n",
    "                if (abs(mo1[n1]) > 1e-4):\n",
    "                    x1 = i + round((trans[0]/BOHR + 0)/dx1)\n",
    "                    y1 = j + round((trans[1]/BOHR + 0)/dy1)\n",
    "                    z1 = k + round((trans[2]/BOHR + 0)/dz1)\n",
    "                    if (z1 < nz1):\n",
    "                        n2 = x1 * ny1 * nz1 + y1 * nz1 + z1\n",
    "                        ovlp = ovlp + mo1[n1] * mo2[n2]\n",
    "                                             \n",
    "    return ovlp\n",
    "                                    \n",
    "a = cal_ovlp('./overlap-1d/homo-xyz.dat', './overlap-1d/homo-xyz.dat', [0,0,3.5])\n",
    "print(a)\n",
    "                \n",
    "    "
   ]
  },
  {
   "cell_type": "code",
   "execution_count": 9,
   "id": "7a73e912-c2f3-4daf-98f2-676f0361937a",
   "metadata": {},
   "outputs": [
    {
     "name": "stdout",
     "output_type": "stream",
     "text": [
      "[ 8. 56.] [16. 16.]\n",
      "[0.5 3.5]\n"
     ]
    }
   ],
   "source": [
    "import numpy as np\n",
    "# from cube2ovlp import load_cube, load_dat\n",
    "\n",
    "def get_center(mo):\n",
    "    sum_qv = np.zeros(mo.ndim)\n",
    "    sum_v = np.zeros(mo.ndim)\n",
    "    qc = np.zeros(mo.ndim)\n",
    "    for ii, i in np.ndenumerate(mo):\n",
    "        for j in range(0, len(sum_qv)):\n",
    "            sum_qv[j] += ii[j] * i\n",
    "            sum_v[j] += i\n",
    "\n",
    "    for k in range(0, len(sum_v)):\n",
    "        qc[k] = sum_qv[k] / sum_v[k]\n",
    "        \n",
    "    print(sum_qv, sum_v)\n",
    "\n",
    "    return qc\n",
    "\n",
    "a = np.ones(16).reshape((2,8))\n",
    "b = get_center(a)\n",
    "print(b)"
   ]
  },
  {
   "cell_type": "code",
   "execution_count": 12,
   "id": "275e85ef-4c8b-4e59-96d2-7fc6f62334c6",
   "metadata": {},
   "outputs": [
    {
     "data": {
      "text/plain": [
       "array([1, 1, 1])"
      ]
     },
     "execution_count": 12,
     "metadata": {},
     "output_type": "execute_result"
    }
   ],
   "source": [
    "np.array((1,1,1))"
   ]
  },
  {
   "cell_type": "code",
   "execution_count": 18,
   "id": "67eecbdf-22a4-41ce-8485-f3c917ada210",
   "metadata": {},
   "outputs": [
    {
     "name": "stdout",
     "output_type": "stream",
     "text": [
      "((1, 2), 1.0)\n"
     ]
    }
   ],
   "source": [
    "a = []\n",
    "b = np.ones((3,3))\n",
    "for ii, i in np.ndenumerate(b):\n",
    "    a.append((ii,i))\n",
    "print(a[5])"
   ]
  },
  {
   "cell_type": "code",
   "execution_count": null,
   "id": "61f7b63c-1aec-485d-91e2-a1d793fea73e",
   "metadata": {},
   "outputs": [],
   "source": []
  }
 ],
 "metadata": {
  "kernelspec": {
   "display_name": "Python 3",
   "language": "python",
   "name": "python3"
  },
  "language_info": {
   "codemirror_mode": {
    "name": "ipython",
    "version": 3
   },
   "file_extension": ".py",
   "mimetype": "text/x-python",
   "name": "python",
   "nbconvert_exporter": "python",
   "pygments_lexer": "ipython3",
   "version": "3.7.11"
  }
 },
 "nbformat": 4,
 "nbformat_minor": 5
}
