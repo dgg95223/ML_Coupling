{
 "cells": [
  {
   "cell_type": "code",
   "execution_count": 1,
   "id": "023b50ca-f2bf-42ac-ac36-14d95dc9543d",
   "metadata": {},
   "outputs": [
    {
     "name": "stderr",
     "output_type": "stream",
     "text": [
      "2023-02-10 15:25:09.649549: W tensorflow/stream_executor/platform/default/dso_loader.cc:64] Could not load dynamic library 'libcudart.so.11.0'; dlerror: libcudart.so.11.0: cannot open shared object file: No such file or directory\n",
      "2023-02-10 15:25:09.649601: I tensorflow/stream_executor/cuda/cudart_stub.cc:29] Ignore above cudart dlerror if you do not have a GPU set up on your machine.\n"
     ]
    },
    {
     "data": {
      "text/plain": [
       "CompletedProcess(args='export TF_INTRA_OP_PARALLELISM_THREADS=12', returncode=0)"
      ]
     },
     "execution_count": 1,
     "metadata": {},
     "output_type": "execute_result"
    }
   ],
   "source": [
    "import ML_Coupling.mo_descriptor as md\n",
    "import ML_Coupling.nn_frame as nn\n",
    "import numpy as np\n",
    "import subprocess\n",
    "import copy\n",
    "subprocess.run('export TF_INTRA_OP_PARALLELISM_THREADS=12', shell=True)"
   ]
  },
  {
   "cell_type": "code",
   "execution_count": 2,
   "id": "b8944749-5d75-4cfb-a251-4021a8f3a439",
   "metadata": {},
   "outputs": [],
   "source": [
    "'''\n",
    "1. load mo_pair descriptor\n",
    "'''\n",
    "homo_pairs = np.load('./data/homo_homo_pair.npy')\n",
    "lumo_pairs = np.load('./data/lumo_lumo_pair.npy')\n",
    "homo_rot_pairs = np.load('./data/homo_pair_rot.npy')\n",
    "lumo_rot_pairs = np.load('./data/lumo_pair_rot.npy')"
   ]
  },
  {
   "cell_type": "code",
   "execution_count": 3,
   "id": "fa8f7b97-7068-4ff8-a822-f022d2a41d8c",
   "metadata": {},
   "outputs": [],
   "source": [
    "'''\n",
    "2. read coupling\n",
    "'''\n",
    "raw_data = np.loadtxt('./data/results.csv', delimiter=',',comments='#')\n",
    "raw_data_rot = np.loadtxt('./data/results_rot.csv', delimiter=',',comments='#')\n",
    "c_homo = abs(raw_data[:,3])\n",
    "c_lumo = abs(raw_data[:,4])\n",
    "c_homo_rot = abs(raw_data_rot[:,3])\n",
    "c_lumo_rot = abs(raw_data_rot[:,4])"
   ]
  },
  {
   "cell_type": "code",
   "execution_count": 4,
   "id": "e4b4e3d8-fc9a-4a27-996b-42042ddf7ea1",
   "metadata": {},
   "outputs": [
    {
     "name": "stdout",
     "output_type": "stream",
     "text": [
      "34461\n"
     ]
    }
   ],
   "source": [
    "'''\n",
    "3. collect data every n-1 points along each axis\n",
    "'''\n",
    "# step_size = [2.0, 4.0, 5.0, 10.0]\n",
    "step_size = 2\n",
    "index = 0\n",
    "\n",
    "new_homo_pairs = []\n",
    "new_c_homo = []\n",
    "new_lumo_pairs = []\n",
    "new_c_lumo = []\n",
    "for ii, i in enumerate(c_homo):\n",
    "    if index < len(c_homo):\n",
    "        new_c_homo.append(c_homo[ii])\n",
    "        new_homo_pairs.append(homo_pairs[ii])\n",
    "        new_c_lumo.append(c_lumo[ii])\n",
    "        new_lumo_pairs.append(lumo_pairs[ii])\n",
    "    index += step_size\n",
    "    \n",
    "new_homo_pairs = np.array(new_homo_pairs)\n",
    "new_c_homo = np.array(new_c_homo)\n",
    "new_lumo_pairs = np.array(new_lumo_pairs)\n",
    "new_c_lumo = np.array(new_c_lumo)\n",
    "print(len(new_homo_pairs))"
   ]
  },
  {
   "cell_type": "code",
   "execution_count": 5,
   "id": "c99ea47a-6f1d-4fc7-93f4-02aecf43d1ac",
   "metadata": {},
   "outputs": [
    {
     "name": "stdout",
     "output_type": "stream",
     "text": [
      "Number of points to be deleted for homo:   1154\n",
      "Number of points to be deleted for lumo:   1140\n"
     ]
    }
   ],
   "source": [
    "'''\n",
    "4. remove zero values for full data set\n",
    "'''\n",
    "ihzero = []\n",
    "for ii,i in np.ndenumerate(c_homo):\n",
    "    if i<=0.00000000:\n",
    "        ihzero.append(ii)\n",
    "        c_homo[ii] = 1e-9\n",
    "print('Number of points to be deleted for homo:  ',len(ihzero))\n",
    "homo_pairs  = np.delete(homo_pairs , ihzero, 0)\n",
    "c_homo= np.delete(c_homo , ihzero, 0)\n",
    "\n",
    "ilzero = []\n",
    "for ii,i in np.ndenumerate(c_lumo):\n",
    "    if i<=0.00000000:\n",
    "        ilzero.append(ii)\n",
    "        c_lumo[ii] = 1e-9\n",
    "print('Number of points to be deleted for lumo:  ',len(ilzero))\n",
    "lumo_pairs  = np.delete(lumo_pairs , ilzero, 0)\n",
    "c_lumo = np.delete(c_lumo , ilzero, 0)"
   ]
  },
  {
   "cell_type": "code",
   "execution_count": 9,
   "id": "24cbe033-85a8-42a8-9ba8-e9e00909ed08",
   "metadata": {},
   "outputs": [
    {
     "name": "stdout",
     "output_type": "stream",
     "text": [
      "Number of points to be deleted for homo:   0\n",
      "Number of points to be deleted for lumo:   2\n"
     ]
    }
   ],
   "source": [
    "'''\n",
    "5. remove zero values for selected data set\n",
    "'''\n",
    "ihzero = []\n",
    "for ii,i in np.ndenumerate(new_c_homo):\n",
    "    if i<=0.00000000:\n",
    "        ihzero.append(ii)\n",
    "        new_c_homo[ii] = 1e-9\n",
    "print('Number of points to be deleted for homo:  ',len(ihzero))\n",
    "new_homo_pairs  = np.delete(new_homo_pairs , ihzero, 0)\n",
    "new_c_homo= np.delete(new_c_homo , ihzero, 0)\n",
    "\n",
    "ilzero = []\n",
    "for ii,i in np.ndenumerate(new_c_lumo):\n",
    "    if i<=0.00000000:\n",
    "        ilzero.append(ii)\n",
    "        new_c_lumo[ii] = 1e-9\n",
    "print('Number of points to be deleted for lumo:  ',len(ilzero))\n",
    "new_lumo_pairs  = np.delete(new_lumo_pairs , ilzero, 0)\n",
    "new_c_lumo = np.delete(new_c_lumo , ilzero, 0)"
   ]
  },
  {
   "cell_type": "code",
   "execution_count": 10,
   "id": "6fe46cbe-a7e0-4ee4-8212-a5035b8c9844",
   "metadata": {},
   "outputs": [
    {
     "name": "stdout",
     "output_type": "stream",
     "text": [
      "Size of full training set for homo:    34461\n",
      "Size of selected training set for homo:    34461\n",
      "Size of full training set for lumo:    34459\n",
      "Size of selected training set for lumo:    34459\n"
     ]
    }
   ],
   "source": [
    "'''\n",
    "5. build training set\n",
    "'''\n",
    "train_homo_pairs = new_homo_pairs[:]\n",
    "train_lumo_pairs = new_lumo_pairs[:]\n",
    "\n",
    "train_c_homo = -np.log(new_c_homo)[:]\n",
    "train_c_lumo = -np.log(new_c_lumo)[:]\n",
    "\n",
    "train_homo = copy.deepcopy(train_homo_pairs)\n",
    "train_chomo = copy.deepcopy(train_c_homo)\n",
    "print('Size of full training set for homo:   ',len(train_chomo))\n",
    "index = np.random.choice(len(train_c_homo), size=int(len(train_c_homo)*0), replace=False)\n",
    "train_homo_ = np.delete(train_homo,index,0)\n",
    "train_chomo_ = np.delete(train_chomo,index,0)\n",
    "print('Size of selected training set for homo:   ',len(train_homo_))\n",
    "\n",
    "train_lumo = copy.deepcopy(train_lumo_pairs)\n",
    "train_clumo = copy.deepcopy(train_c_lumo)\n",
    "print('Size of full training set for lumo:   ',len(train_clumo))\n",
    "index = np.random.choice(len(train_c_lumo), size=int(len(train_c_lumo)*0), replace=False)\n",
    "train_lumo_ = np.delete(train_lumo,index,0)\n",
    "train_clumo_ = np.delete(train_clumo,index,0)\n",
    "print('Size of selected training set for lumo:   ',len(train_lumo_))"
   ]
  },
  {
   "cell_type": "code",
   "execution_count": 11,
   "id": "6bdcc3aa-5a2c-4813-8b90-a7640c9e3c83",
   "metadata": {},
   "outputs": [],
   "source": [
    "'''\n",
    "6. build testing set\n",
    "'''\n",
    "iall = np.arange(len(train_c_homo))\n",
    "idiff = np.setdiff1d(iall,index)\n",
    "test_homo = np.delete(copy.deepcopy(train_homo_pairs),idiff,0)\n",
    "test_chomo = np.delete(copy.deepcopy(train_chomo),idiff,0)\n",
    "\n",
    "iall = np.arange(len(train_c_lumo))\n",
    "idiff = np.setdiff1d(iall,index)\n",
    "test_lumo = np.delete(copy.deepcopy(train_lumo_pairs),idiff,0)\n",
    "test_clumo = np.delete(copy.deepcopy(train_clumo),idiff,0)"
   ]
  },
  {
   "cell_type": "code",
   "execution_count": null,
   "id": "9880a9f0-4b72-406f-baf4-1a72aedcebe6",
   "metadata": {
    "scrolled": true,
    "tags": []
   },
   "outputs": [
    {
     "name": "stderr",
     "output_type": "stream",
     "text": [
      "2023-02-10 15:26:03.331363: W tensorflow/stream_executor/platform/default/dso_loader.cc:64] Could not load dynamic library 'libcuda.so.1'; dlerror: libcuda.so.1: cannot open shared object file: No such file or directory\n",
      "2023-02-10 15:26:03.331449: W tensorflow/stream_executor/cuda/cuda_driver.cc:269] failed call to cuInit: UNKNOWN ERROR (303)\n",
      "2023-02-10 15:26:03.331508: I tensorflow/stream_executor/cuda/cuda_diagnostics.cc:156] kernel driver does not appear to be running on this host (Bai-Group): /proc/driver/nvidia/version does not exist\n",
      "2023-02-10 15:26:03.331992: I tensorflow/core/platform/cpu_feature_guard.cc:151] This TensorFlow binary is optimized with oneAPI Deep Neural Network Library (oneDNN) to use the following CPU instructions in performance-critical operations:  AVX2 AVX512F FMA\n",
      "To enable them in other operations, rebuild TensorFlow with the appropriate compiler flags.\n"
     ]
    },
    {
     "name": "stdout",
     "output_type": "stream",
     "text": [
      "loss:  2.60800862\n",
      "training step:     0\n",
      "loss:  0.00405002711\n",
      "training step:  1000\n",
      "loss:  0.00300906459\n",
      "training step:  2000\n"
     ]
    }
   ],
   "source": [
    "'''\n",
    "7. load model \n",
    "''' \n",
    "setting = {'activation':'tanh','nn_shape':(256,256,256),'batch_size':len(train_homo_), 'training_steps':200000,\\\n",
    "'learning_rate': 0.00008, 'decay_rate':0.95, 'decay_per_steps':1000, 'save_step':1000, 'drop_rate':0, 'save_path':'./trained_model/nat_dimer_homo_total_%d'%len(train_homo_),\\\n",
    "'seed':None, 'debug_traj':False, 'pre_trained_path':'./trained_model/nat_dimer_33884/'}\n",
    "NN_ho = nn.NN(setting_dict=setting)\n",
    "NN_ho.train(train_homo_,train_chomo_)"
   ]
  },
  {
   "cell_type": "code",
   "execution_count": null,
   "id": "77166411-02e0-4775-9e42-eaa42b4a0ae5",
   "metadata": {},
   "outputs": [],
   "source": [
    "setting = {'activation':'tanh','nn_shape':(256,256,256),'batch_size':len(train_lumo_), 'training_steps':200000,\\\n",
    "'learning_rate': 0.00008, 'decay_rate':0.95, 'decay_per_steps':1000, 'save_step':1000, 'drop_rate':0, 'save_path':'./nat_dimer_lumo_total_%d'%len(train_lumo_),\\\n",
    "'seed':None, 'debug_traj':False, 'pre_trained_path':'./trained_model/nat_dimer_33884/'}\n",
    "NN_lu = nn.NN(setting_dict=setting)\n",
    "NN_lu.train(train_lumo_,train_clumo_)"
   ]
  },
  {
   "cell_type": "code",
   "execution_count": null,
   "id": "b91e27fa-6f0d-4c14-8ec9-3f93a290510c",
   "metadata": {},
   "outputs": [],
   "source": [
    "error1 = np.mean(np.multiply(abs(NN_ho.model(homo_pairs, training=False).numpy().reshape((len(homo_pairs),))+np.log(c_homo)), np.power(-np.log(c_homo),-1))*100)\n",
    "error2 = np.mean(np.multiply(abs(NN_ho.model(train_homo_, training=False).numpy().reshape((len(train_homo_),))-train_chomo_), np.power(train_chomo_,-1))*100)\n",
    "error3 = np.mean(np.multiply(abs(NN_ho.model(test_homo, training=False).numpy().reshape((len(test_homo),))-test_chomo), np.power(test_chomo,-1))*100)\n",
    "print('Error of full data set: %5.3f %% \\nError of training set with %d samples: %5.3f %% \\nError of testing set with %d samples: %5.3f %% '\\\n",
    "      %(error1,len(train_homo_),error2,len(test_homo),error3))\n",
    "\n",
    "error1 = np.mean(np.multiply(abs(NN_lu.model(train_lumo_pairs, training=False).numpy().reshape((len(train_lumo_pairs),))-train_c_lumo), np.power(train_c_lumo,-1))*100)\n",
    "error2 = np.mean(np.multiply(abs(NN_lu.model(train_lumo_, training=False).numpy().reshape((len(train_lumo_),))-train_clumo_), np.power(train_clumo_,-1))*100)\n",
    "error3 = np.mean(np.multiply(abs(NN_lu.model(test_lumo, training=False).numpy().reshape((len(test_lumo),))-test_clumo), np.power(test_clumo,-1))*100)\n",
    "print('Error of full data set: %5.3f %% \\nError of training set with %d samples: %5.3f %% \\nError of testing set with %d samples: %5.3f %% '\\\n",
    "      %(error1,len(train_lumo_),error2,len(test_lumo),error3))"
   ]
  }
 ],
 "metadata": {
  "kernelspec": {
   "display_name": "venv",
   "language": "python",
   "name": "venv"
  },
  "language_info": {
   "codemirror_mode": {
    "name": "ipython",
    "version": 3
   },
   "file_extension": ".py",
   "mimetype": "text/x-python",
   "name": "python",
   "nbconvert_exporter": "python",
   "pygments_lexer": "ipython3",
   "version": "3.9.7"
  }
 },
 "nbformat": 4,
 "nbformat_minor": 5
}
