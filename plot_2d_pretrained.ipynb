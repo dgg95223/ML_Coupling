{
 "cells": [
  {
   "cell_type": "code",
   "execution_count": 1,
   "id": "023b50ca-f2bf-42ac-ac36-14d95dc9543d",
   "metadata": {},
   "outputs": [
    {
     "name": "stderr",
     "output_type": "stream",
     "text": [
      "2023-03-02 17:43:09.460447: W tensorflow/stream_executor/platform/default/dso_loader.cc:64] Could not load dynamic library 'libcudart.so.11.0'; dlerror: libcudart.so.11.0: cannot open shared object file: No such file or directory\n",
      "2023-03-02 17:43:09.460495: I tensorflow/stream_executor/cuda/cudart_stub.cc:29] Ignore above cudart dlerror if you do not have a GPU set up on your machine.\n"
     ]
    },
    {
     "data": {
      "text/plain": [
       "CompletedProcess(args='export TF_INTRA_OP_PARALLELISM_THREADS=12', returncode=0)"
      ]
     },
     "execution_count": 1,
     "metadata": {},
     "output_type": "execute_result"
    }
   ],
   "source": [
    "import ML_Coupling.mo_descriptor as md\n",
    "import ML_Coupling.nn_frame as nn\n",
    "import numpy as np\n",
    "import subprocess\n",
    "import copy\n",
    "subprocess.run('export TF_INTRA_OP_PARALLELISM_THREADS=12', shell=True)"
   ]
  },
  {
   "cell_type": "code",
   "execution_count": 2,
   "id": "b8944749-5d75-4cfb-a251-4021a8f3a439",
   "metadata": {},
   "outputs": [],
   "source": [
    "'''\n",
    "1. load mo_pair descriptor\n",
    "'''\n",
    "homo_pairs = np.load('./data/homo_homo_pair.npy')\n",
    "lumo_pairs = np.load('./data/lumo_lumo_pair.npy')\n",
    "homo_rot_pairs = np.load('./data/homo_pair_rot.npy')\n",
    "lumo_rot_pairs = np.load('./data/lumo_pair_rot.npy')"
   ]
  },
  {
   "cell_type": "code",
   "execution_count": 3,
   "id": "fa8f7b97-7068-4ff8-a822-f022d2a41d8c",
   "metadata": {},
   "outputs": [],
   "source": [
    "'''\n",
    "2. read coupling\n",
    "'''\n",
    "raw_data = np.loadtxt('./data/results.csv', delimiter=',',comments='#')\n",
    "raw_data_rot = np.loadtxt('./data/results_rot.csv', delimiter=',',comments='#')\n",
    "c_homo = abs(raw_data[:,3])\n",
    "c_lumo = abs(raw_data[:,4])\n",
    "c_homo_rot = abs(raw_data_rot[:,3])\n",
    "c_lumo_rot = abs(raw_data_rot[:,4])"
   ]
  },
  {
   "cell_type": "code",
   "execution_count": 4,
   "id": "c99ea47a-6f1d-4fc7-93f4-02aecf43d1ac",
   "metadata": {},
   "outputs": [
    {
     "name": "stdout",
     "output_type": "stream",
     "text": [
      "Number of points to be deleted for homo:   1154\n",
      "Number of points to be deleted for lumo:   1140\n"
     ]
    }
   ],
   "source": [
    "'''\n",
    "4. remove zero values for full data set\n",
    "'''\n",
    "ihzero = []\n",
    "for ii,i in np.ndenumerate(c_homo):\n",
    "    if i<=0.00000000:\n",
    "        ihzero.append(ii)\n",
    "        c_homo[ii] = 1e-9\n",
    "print('Number of points to be deleted for homo:  ',len(ihzero))\n",
    "homo_pairs  = np.delete(homo_pairs , ihzero, 0)\n",
    "c_homo= np.delete(c_homo , ihzero, 0)\n",
    "\n",
    "ilzero = []\n",
    "for ii,i in np.ndenumerate(c_lumo):\n",
    "    if i<=0.00000000:\n",
    "        ilzero.append(ii)\n",
    "        c_lumo[ii] = 1e-9\n",
    "print('Number of points to be deleted for lumo:  ',len(ilzero))\n",
    "lumo_pairs  = np.delete(lumo_pairs , ilzero, 0)\n",
    "c_lumo = np.delete(c_lumo , ilzero, 0)"
   ]
  },
  {
   "cell_type": "code",
   "execution_count": 5,
   "id": "6fe46cbe-a7e0-4ee4-8212-a5035b8c9844",
   "metadata": {},
   "outputs": [
    {
     "name": "stdout",
     "output_type": "stream",
     "text": [
      "Size of full training set for homo:    1681\n",
      "Size of selected training set for homo:    1681\n",
      "Size of full training set for lumo:    1681\n",
      "Size of selected training set for lumo:    1681\n"
     ]
    }
   ],
   "source": [
    "'''\n",
    "5. build training set\n",
    "'''\n",
    "n = 5\n",
    "istart = n * 1681\n",
    "iend = (n+1) * 1681\n",
    "train_homo_pairs = homo_pairs[istart:iend]\n",
    "train_lumo_pairs = lumo_pairs[istart:iend]\n",
    "\n",
    "train_c_homo = -np.log(c_homo)[istart:iend]\n",
    "train_c_lumo = -np.log(c_lumo)[istart:iend]\n",
    "\n",
    "train_homo = copy.deepcopy(train_homo_pairs)\n",
    "train_chomo = copy.deepcopy(train_c_homo)\n",
    "print('Size of full training set for homo:   ',len(train_chomo))\n",
    "index = np.random.choice(len(train_c_homo), size=int(len(train_c_homo)*0), replace=False)\n",
    "train_homo_ = np.delete(train_homo,index,0)\n",
    "train_chomo_ = np.delete(train_chomo,index,0)\n",
    "print('Size of selected training set for homo:   ',len(train_homo_))\n",
    "\n",
    "train_lumo = copy.deepcopy(train_lumo_pairs)\n",
    "train_clumo = copy.deepcopy(train_c_lumo)\n",
    "print('Size of full training set for lumo:   ',len(train_clumo))\n",
    "index = np.random.choice(len(train_c_lumo), size=int(len(train_c_lumo)*0), replace=False)\n",
    "train_lumo_ = np.delete(train_lumo,index,0)\n",
    "train_clumo_ = np.delete(train_clumo,index,0)\n",
    "print('Size of selected training set for lumo:   ',len(train_lumo_))"
   ]
  },
  {
   "cell_type": "code",
   "execution_count": 6,
   "id": "6bdcc3aa-5a2c-4813-8b90-a7640c9e3c83",
   "metadata": {},
   "outputs": [],
   "source": [
    "'''\n",
    "6. build testing set\n",
    "'''\n",
    "iall = np.arange(len(train_c_homo))\n",
    "idiff = np.setdiff1d(iall,index)\n",
    "test_homo = np.delete(copy.deepcopy(train_homo_pairs),idiff,0)\n",
    "test_chomo = np.delete(copy.deepcopy(train_chomo),idiff,0)\n",
    "\n",
    "iall = np.arange(len(train_c_lumo))\n",
    "idiff = np.setdiff1d(iall,index)\n",
    "test_lumo = np.delete(copy.deepcopy(train_lumo_pairs),idiff,0)\n",
    "test_clumo = np.delete(copy.deepcopy(train_clumo),idiff,0)"
   ]
  },
  {
   "cell_type": "code",
   "execution_count": 17,
   "id": "9880a9f0-4b72-406f-baf4-1a72aedcebe6",
   "metadata": {
    "scrolled": true,
    "tags": []
   },
   "outputs": [],
   "source": [
    "'''\n",
    "7. load model \n",
    "''' \n",
    "imodel = 67767\n",
    "setting = {'activation':'tanh','nn_shape':(256,256,256),'batch_size':len(train_homo_), 'training_steps':200000,\\\n",
    "'learning_rate': 0.00008, 'decay_rate':0.95, 'decay_per_steps':1000, 'save_step':1000, 'drop_rate':0, 'save_path':'./trained_model/nat_dimer_homo_total_%d'%len(train_homo_),\\\n",
    "'seed':None, 'debug_traj':False, 'pre_trained_path':'./trained_model/nat_dimer_homo_total_%d/model'%imodel}\n",
    "NN_ho = nn.NN(setting_dict=setting)\n",
    "pred_ho = np.exp(-NN_ho.model(train_homo_pairs, training=False).numpy().reshape((len(train_homo_pairs),)))\n"
   ]
  },
  {
   "cell_type": "code",
   "execution_count": 18,
   "id": "77166411-02e0-4775-9e42-eaa42b4a0ae5",
   "metadata": {},
   "outputs": [],
   "source": [
    "imodel2 = 9104\n",
    "setting = {'activation':'tanh','nn_shape':(256,256,256),'batch_size':len(train_lumo_), 'training_steps':200000,\\\n",
    "'learning_rate': 0.00008, 'decay_rate':0.95, 'decay_per_steps':1000, 'save_step':1000, 'drop_rate':0, 'save_path':'./nat_dimer_lumo_total_%d'%len(train_lumo_),\\\n",
    "'seed':None, 'debug_traj':False, 'pre_trained_path':'./trained_model/nat_dimer_lumo_total_%d/model'%imodel2}\n",
    "NN_lu = nn.NN(setting_dict=setting)\n",
    "pred_lu = np.exp(-NN_lu.model(train_lumo_pairs, training=False).numpy().reshape((len(train_lumo_pairs),)))\n"
   ]
  },
  {
   "cell_type": "code",
   "execution_count": 19,
   "id": "b91e27fa-6f0d-4c14-8ec9-3f93a290510c",
   "metadata": {},
   "outputs": [
    {
     "name": "stdout",
     "output_type": "stream",
     "text": [
      "1.699314022464283\n"
     ]
    }
   ],
   "source": [
    "error_ho = np.mean(np.multiply(abs(pred_ho-np.exp(-train_c_homo)), np.power(np.exp(-train_c_homo),-1))*100)\n",
    "print(error_ho)\n",
    "error_lu = np.mean(np.multiply(abs(pred_lu-train_c_lumo), np.power(train_c_lumo,-1))*100)\n"
   ]
  },
  {
   "cell_type": "code",
   "execution_count": 20,
   "id": "2e838ed6-40eb-4e31-b928-0db3c5b1eaf5",
   "metadata": {},
   "outputs": [
    {
     "data": {
      "application/vnd.jupyter.widget-view+json": {
       "model_id": "104a8f6a817f498abb17ab2f94bc7ae5",
       "version_major": 2,
       "version_minor": 0
      },
      "image/png": "[encoded data removed]",
      "text/html": [
       "\n",
       "            <div style=\"display: inline-block;\">\n",
       "                <div class=\"jupyter-widgets widget-label\" style=\"text-align: center;\">\n",
       "                    Figure\n",
       "                </div>\n",
       "                <img src='data:image/png;base64,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' width=576.0/>\n",
       "            </div>\n",
       "        "
      ],
      "text/plain": [
       "Canvas(toolbar=Toolbar(toolitems=[('Home', 'Reset original view', 'home', 'home'), ('Back', 'Back to previous …"
      ]
     },
     "metadata": {},
     "output_type": "display_data"
    }
   ],
   "source": [
    "import matplotlib.pyplot as plt\n",
    "%matplotlib inline\n",
    "%matplotlib widget\n",
    "x = np.linspace(0, 4, 41)\n",
    "y = np.linspace(0, 4, 41)\n",
    "Z1 = np.exp(-train_c_homo).reshape((41,41))\n",
    "\n",
    "fig1, ax1 = plt.subplots(figsize=(8,6))\n",
    "ax1.contourf(x,y, Z1.T)\n",
    "ax1.set_title('True')\n",
    "ax1.set_aspect('equal')\n",
    "ax1.set_xlabel('X axis')\n",
    "ax1.set_ylabel('Y axis')\n",
    "plt.tight_layout()\n",
    "plt.savefig('2d_true.png')"
   ]
  },
  {
   "cell_type": "code",
   "execution_count": 21,
   "id": "8a3b14ea-febd-4874-8b90-05f2a6aad877",
   "metadata": {},
   "outputs": [
    {
     "data": {
      "application/vnd.jupyter.widget-view+json": {
       "model_id": "1704f0a8eef949e79753e8741e40ae23",
       "version_major": 2,
       "version_minor": 0
      },
      "image/png": "[encoded data removed]",
      "text/html": [
       "\n",
       "            <div style=\"display: inline-block;\">\n",
       "                <div class=\"jupyter-widgets widget-label\" style=\"text-align: center;\">\n",
       "                    Figure\n",
       "                </div>\n",
       "                <img src='data:image/png;base64,iVBORw0KGgoAAAANSUhEUgAAAkAAAAGwCAYAAABB4NqyAAAAOXRFWHRTb2Z0d2FyZQBNYXRwbG90bGliIHZlcnNpb24zLjQuMywgaHR0cHM6Ly9tYXRwbG90bGliLm9yZy/MnkTPAAAACXBIWXMAAAsTAAALEwEAmpwYAAAmp0lEQVR4nO3dfbRddX3n8c+HJJBggECjEpPwIGWlhXR4GIootmUchwJSmU7pFFyFlmWbQXEKo9apD0VtVzt1qrYKSozKKEp1OUuLSINIxyKii4fwaFJkGh8KCSwzIOQBIhj4zh9nXzk5Oefec+/dD7+9f+/XWmdx7jn7nPu7+57c/ea399nHESEAAICc7NX0AAAAAOpGAAEAgOwQQAAAIDsEEAAAyA4BBAAAskMAAQCA7BBAAAAgOwQQAADIDgEEAACyQwABAIDsEEAAACA7BBDQYbZ/aHun7R19l8sbHtOf2/6O7V223zPG8sfbvrkY+49sX9x33yts3257u+37bL+y7z7bfqftB21vs/152/v33f/Hth+1vd72yr7bT7Z9TXk/MYAUEUBA9/1GRCzsu7xp2EK25w65bc50vtGYy2+U9DZJ/zDG8y2W9FVJH5P0c5J+XtLXivsOknStpL+WtEjS/5T0FdsHFg8/X9J5kk6W9BJJCyRdVjx2iaTXS3qppNWS/qq4fa6kD0i6ZIyfA0CLEUBApmz/vu1v2f4b2z+W9B7bn7J9he21tp+U9O9s/6Ltm2w/YXuD7df2Pccey0/1fSPi0xFxvaTtYwzzzZJuiIirI+LpiNgeEfcX971C0o8i4n9HxLMR8VlJ/0/Sfyru/w1Jn4yIhyJih6T3Sfod2/tKOkTS3RGxTdI/qhdCUi98ro2IH44xNgAtRgABeXuZpO9LepGkvyhue11xfT9Jt0n6inqzLi+S9F8lXW17Rd9z9C9/i+2P2v5oSeM7SdKPbX/b9hbbX7F9SHGfi0s/S1o54n5L2kfSkerNQv2S7UWSXi1pg+3lks6R9P6Sxg4gYQQQ0H3XFLM3E5c/7Lvv4Yi4LCJ2RcTO4rYvR8S3IuI5ScdKWijpryLimYj4uqTrJJ3b9xw/Wz4ifhIRb4yIN5Y09mWSfk/SxerN2vxA0ueK+74t6SW2z7U9z/bvSTpC0r7F/ddL+gPbh9k+QNJ/L27fNyIeUy/avi7pNZLeKulDxTK/afsbtr9se1lJPweAxOyxzx9A5/zHiPjHEfc9NMVtL5H0UBFDE/5V0tIpnqMsOyX9fUTcIUm23yvpUdsHRMRjts9Sb8bmI5JuUG931qbisVdKWi7pJvX+1n1Avd1imyQpIj6nIqZsv0bS05LulnSvpKMlvbZ47nMq/PkANIQZICBvMcVtD0tabrv/b8UhkjZP8RxluW/g+SeuW5Ii4hsR8csRcZB6BzyvkHR7cd9zEfHuiDgsIpZJ2lCMu3/ssr1A0l9Keot6u8ceKo4NukPSv6nsJwPQKAIIwGRuk/SkpLcVu5lOUW8W5fMzfcLieear9/dnru35k7x77H+pt0vqWNvzJP2ppFsi4oniuY4rnm9/9WZrNkXEDcV9B9k+ong7/FGSPijpzwZmsyTpXZI+FREPS3pQ0grbL1bvgO7vz/TnBJA2Agjovq8MnAfo78d9YEQ8o96uoNMlPSrpo5LOj4jvjnqM7dW2V0/ytB9Xb9fWuZLeWVw/r3jsr9je0ff9vy7pHeq9ZX6Lem+Df13fc72tGNdDkpZI+s2++xZLWqtewF0v6cqIWDMw1hWSTlXx9viIeES9t8RvkPRHkt4+yc8BoMUcUeXsNQAAQHqYAQIAANkhgCpie47tu21fN+Q+2/6w7Y3F6fuPb2KMAADkigCqzsWS7h9x3+nqvdvkSEmrJF1R16AAAAABVIni5GmvkfSJEYucJemq6LlV0qLis4kAAEANCKBq/K16704ZfLvthKXa/eRxm7T7ieUAAECFOBN0yWyfKWlLRNxZnDNl6GJDbtvj7Xi2V6m3i0yet/e/nX/gi8oa5qTm/IR3BjZpr50/bXoIAGZh20+3PBoRL2x6HJgcAVS+kyW91vYZkuZL2t/2ZyPid/uW2aTeKfonLFPvjLu7Kc5ZskaS9n3x8jjynDdXN+oRDnzgmdq/J6QF6zdPvRCAJH1182X/2vQYMDV2gZUsIt4eEcsi4jD1PkPo6wPxI0nXSjq/eDfYSZK2FidgS87jK/bW4yv2bnoYAACUihmgmti+UJIiYrV6Z6c9Q9JGSU9JuqDBoY2lP4KYFarezpVLmQUCgAoRQBWKiJvU+yTqifCZuD0kXdTMqGZvIoYIIQBAW7ELDDPG7jEAQFsxA4RZY0aoGuwGA2Zn58rpnV2Ef295IYBQGkIIQF2mGzdlPSeR1B0EEEpHCJWHWSCgp4rgmYlR4+DfafsQQKgMIQRgplIJnnHtNl5aqBUIIFTu8RV7E0GzwCwQctC24EH7EUCoBbNBAAYRPWgSb4NHrXjb/MywoUCX7Fy5lNc0GscMEGrHbBCQJ6IHKSGA0BiODQK6j+hBqtgFhkZxNunxsSFBm7CbC6ljBghJYDYI6AaiB23BDBCSwUwQ0G7ED9qEAEJSiKDJsYFBitjdhTYigJAcIghoD8IHbcUxQEgSb5UH0kb4oO2YAULSmA3aExseNI3XILqAGSAkj3eIAWkgfNAlzAChFZgJ2h0bItSN1xy6hgBCaxBBQDOIH3QRAYRWIYKAehE/6CoCCK1DBPWwYULVeI2hywggtBIRBFSL+EHXEUBoLSIIqAbxgxwQQGg1IggoF/GDXBBAaL2cI4iNFcrE6wk5IYDQCTlHEFAG4ge5IYAAIHPED3JEAKEzcp0FYuOF2eD1g1wRQOiUXCMIADA9BBA6hwgCxsPsD3JGAKGTcosgNmSYLl4zyB0BBACZIX4AAggdltssEABgfAQQOo0IAnbH7A/QQwABHcGGDVPhNQI8jwAqme35tm+3fa/tDbbfO2SZU2xvtX1Pcbm0ibHmglkgAMCguU0PoIOelvSqiNhhe56kW2xfHxG3Diz3zYg4s4HxZenxFXvrwAeeaXoYQGOY/QF2RwCVLCJC0o7iy3nFJZobEYDcET/AntgFVgHbc2zfI2mLpBsj4rYhi7282E12ve2j6x1hnnLYFcaGDgDGQwBVICKejYhjJS2TdKLtlQOL3CXp0Ig4RtJlkq4Z9jy2V9leZ3vdrp1PVjnkbOQQQUA/ohgYjgCqUEQ8IekmSacN3L4tInYU19dKmmd78ZDHr4mIEyLihLkLXlDDiAEAyAMBVDLbL7S9qLi+QNKrJX13YJmDbbu4fqJ6v4fHah5qtpgFQi6Y/QFG4yDo8i2R9Gnbc9QLmy9ExHW2L5SkiFgt6WxJb7C9S9JOSecUB08Ds7Zz5VItWL+56WEAQNIIoJJFxH2Sjhty++q+65dLurzOcWF3vC0eXcfsDzA5doEBAIDsEEDIFscCAUC+CCCgg9j9kTd+/8DUCCBkjVkgAMgTAQQAHcLsDzAeAgjZYxYIAPJDAAEAgOwQQADQEez+AsZHAAHq5m4wNoYAMBoBBAAAskMAAYUuzgIhH8z4AdNDAAEAgOwQQADQcsz+ANNHAAF92A0GAHkggIAOY2YAAIYjgAAAQHYIIGAAu8HQJszyATNDAAEAgOwQQAAAIDsEEDAEu8EAoNsIIAAAkB0CCABaigOggZkjgICOYyMJAHsigIAROA4IALqLAAIAANkhgAAAQHYIIAAAkB0CCJgExwEBQDcRQADQQry7D5gdAggAAGSHAAIAANkhgAAAQHYIICADHC8CALsjgAAAQHYIIAAAkB0CCJgC5wICgO4hgAAAQHYIoJLZnm/7dtv32t5g+71DlrHtD9veaPs+28c3MVYAAHI1t+kBdNDTkl4VETtsz5N0i+3rI+LWvmVOl3RkcXmZpCuK/wIAgBowA1Sy6NlRfDmvuMTAYmdJuqpY9lZJi2wvqXOcAADkjACqgO05tu+RtEXSjRFx28AiSyU91Pf1puI2AABQAwKoAhHxbEQcK2mZpBNtrxxYxMMeNniD7VW219let2vnkxWMFACAPBFAFYqIJyTdJOm0gbs2SVre9/UySQ8PefyaiDghIk6Yu+AFVQ0TAIDsEEAls/1C24uK6wskvVrSdwcWu1bS+cW7wU6StDUiHql3pAAA5It3gZVviaRP256jXmB+ISKus32hJEXEaklrJZ0haaOkpyRd0NRgMbUDH3im6SEAAEpGAJUsIu6TdNyQ21f3XQ9JF9U5LgAA8Dx2gQEAgOwQQAAAIDsEEAAAyA4BBAAttGD95qaHALQaAQQAALJDAAEAgOwQQMAkOAcQAHQTAQQAALJDAAEAgOwQQADQUrwTDJg5AggAAGSHAAJG4ABoAOguAggAAGSHAAIywLEiALA7AggAWoy4BWaGAAKG4PgfAOg2AggAWo5ZIGD6CCAAAJAdAggAAGSHAAIGcPwP2ojdYMD0EEAAACA7BBDQh9kftBmzQMD4CCAAAJAdAggoMPuDLmAWCBgPAQQAALJDAAHq9uwPMwL54XcOTI0AQva6HD8AgOEIIADoIGaBgMkRQMgasz8AkCcCCNkiftB1zAIBoxFAANBhRBAwHAGELOUy+8PGDwCGI4CQnVziB5hACAN7IoCQFeIHuSKCgN0RQMhGbvHDBg+DeE0AzyOAkIXc4gcYhQgCegigktlebvufbN9ve4Pti4csc4rtrbbvKS6XNjHWHBz4wDPEDzCACAKkuU0PoIN2SXpLRNxlez9Jd9q+MSL+eWC5b0bEmQ2MLxs5hw8bOExlwfrN2rlyadPDABrDDFDJIuKRiLiruL5d0v2S+CtTs5zjBwAwNQKoQrYPk3ScpNuG3P1y2/favt720fWOrNtyjx9mfzAuXivIGQFUEdsLJX1R0iURsW3g7rskHRoRx0i6TNI1I55jle11ttft2vlkpePtitzjB5guIgi5IoAqYHueevFzdUR8afD+iNgWETuK62slzbO9eMhyayLihIg4Ye6CF1Q+7jbjYGdg5ogg5IgAKpltS/qkpPsj4oMjljm4WE62T1Tv9/BYfaPsFsLneWzIMFML1m/m9YOs8C6w8p0s6TxJ37F9T3HbOyQdIkkRsVrS2ZLeYHuXpJ2SzomIaGCsrUb4AOXj3WHIBQFUsoi4RZKnWOZySZfXM6LuIXyG4//eUZaJ1xIhhC5jFxhag+N8gHoR1egyAgjJI3ymxoYKVeG1ha5iFxiSRfQAaWCXGLqIGSAkhxkfIE3MBqFLmAFCEgiemWOjhDoxG4SuIIDQGKIHaC9CCG1HAKE2BE/5mP1B0wghtBUBhMoQPNUifpCS/tcjMYQ2IIBQCmIHwARiCG1AAGFGCJ5mMfuDtiCGkCoCCFMidtJC/KCtOF4IKSGAsBtiB0DVhkU8UYS6EUCZInTaidkfdNXga5sgQtUIoA4harqN+EFOmCVC1QiglpjzkyBwMkb8AFP/O0ghkPi32h4EEJA4/qAC4+HfCqaDD0MFEsYfdACoBgEEJIr4AYDqsAsMSAzhAwDVYwYISAjxAwD1IICARBA/AFAfAghIAPEDAPXiGCCgQYQPADSDAAIaQPgAQLMIIKBGhA8ApIEAAmpA+ABAWgggoEKEDwCkiXeBjWD7t23vV1x/l+0v2T6+6XGhHRas30z8AEDCCKDR/jQittt+paRfl/RpSVc0PCYkjvABgHZgF9hozxb/fY2kKyLiy7bf0+B4kCiCBwDahwAabbPtj0l6taT32d5HzJihD+EDAO1FAI32nyWdJun9EfGE7SWS/rjhMaFBBA8AdAcBNMD2/hGxTdJ8STcVtx0k6WlJ6xocGmpG8ABAdxFAe/o7SWdKulNSSHLffSHppU0MCtUjeAAgHwTQgIg4s/jv4U2PBdUieAAgXwTQCLZfHxGf7Pt6jqR3RcR7GxwWZojYAQD0I4BG+/e2f0vS6yUtlnSlpG80OySMg9gBAEyFABohIl5n+3ckfUfSU5LOjYhvTfU428slXSXpYEnPSVoTER8aWMaSPiTpjOK5fz8i7ir5R8gCsQMAmAkCaATbR0q6WNIXJf2ipPNs3x0RT03x0F2S3hIRdxUfpXGn7Rsj4p/7ljld0pHF5WXqnWH6ZaX/EB1B5AAAykYAjfYVSRdFxP8pZmzeLOkOSUdP9qCIeETSI8X17bbvl7RUUn8AnSXpqogISbfaXmR7SfHY7BA4AIC6EUCjnVicD0hFqHzA9rXTeQLbh0k6TtJtA3ctlfRQ39ebits6F0DEDQAgRQTQCBGxzfZKSUepd1LECf8yzuNtL1Rv99klEyHVf/ewbznkOVZJWiVJ+8xfNM63rRQxAwDoCgJoBNvvlnSKegG0Vr3jdm5R7wDnqR47T734uToivjRkkU2Slvd9vUzSw4MLRcQaSWskab8Dlu0RSOMgWgAA2BMBNNrZko6RdHdEXGD7xZI+MdWDiuOFPinp/oj44IjFrpX0JtufV+/g561THf+z186fEjMAAJSEABptZ0Q8Z3uX7f0lbdF4H4NxsqTzJH3H9j3Fbe+QdIgkRcRq9WaUzpC0Ub23wV9Q8tgBAMAkCKDR1tleJOnj6n0u2A5Jt0/1oIi4RcOP8elfJiRdVMIYAQDADBBAI0TEG4urq21/VdL+EXFfk2MCAADlIIDGEBE/bHoMAACgPHs1PQAAAIC6EUADbK8tTmAIAAA6igDa06ckfc32O4vz+QAAgI7hGKABEfEF2/8g6VL13gn2GfU+1X3i/lHn9gEAAC1BAA33U0lPStpH0n7qCyAAANB+BNAA26dJ+qB6Z2s+PiKeanhIAACgZATQnt4p6bcjYkPTAwEAANUggAZExK80PQYAAFAt3gUGAACyQwABAIDsEEAAACA7BBAAAMgOAQQAALJDAAEAgOwQQAAAIDsEEAAAyA4BBAAAskMAAQCA7BBAAAAgOwQQAADIDgEEAACyQwABAIDsEEAAACA7BBAAAMgOAQQAALJDAAEAgOwQQAAAIDsEEAAAyA4BBAAAskMAAQCA7BBAAAAgOwQQAADIDgEEAACyQwABAIDsEEAls32l7S2214+4/xTbW23fU1wurXuMAADkbm7TA+igT0m6XNJVkyzzzYg4czpP+tyCedq5culsxjW2Bes31/J9AABoCgFUsoi42fZhTY9jNsoKLUIKAJAqAqgZL7d9r6SHJb01IjY0PaAqTDekCCYAQF0IoPrdJenQiNhh+wxJ10g6ctiCtldJWiVJ+8xfVNf4GjNVMBFIAICyEEA1i4htfdfX2v6o7cUR8eiQZddIWiNJ+x2wLGocZpImCyTiCAAwHQRQzWwfLOlHERG2T1TvnXiPNTys1hsVR4QRAGAYAqhktj8n6RRJi21vkvRuSfMkKSJWSzpb0hts75K0U9I5EZH97E5VhoURUQQAIIBKFhHnTnH/5eq9TR4NIYoAAAQQoD2jiCACgG4jgIAh+oOIGAKA7iGAgCkwOwQA3UMAAdPE7BAAtB8BBMwCMQQA7cSnwQMl2blyaW0fWAsAmB1mgICSMSsEAOljBgioELNCAJAmAgioASEEAGkhgIAaEUIAkAaOAWqJZ+dbj6/Yu9bveeADz9T6/XIyEUEcIwQAzSCAMNJ0gotYmhlCCLlJZQaUf3MggFCKqWKJQJocIYQ2SyVqpmO6Y+bfZvcQQKjFqEAijHZHCCFVbYycMk3r5+efbysQQGjUsDAiinp/bIkgNCX32EEeCCAkhyjqYTYIdSB2kCsCCK0wGEU5BRGzQSgb0QMQQGip3IKI2SDMBsED7IkAQif0B1GXY4jZIEwH4QOMRgChc7o+O0QEYTJEDzAeAgid18XZIXaJYRDhA0wPAYSsTMRQl0KICMoX0QPMHAGELHVpVogIyg/hA8weAYTsdWFWiAjqPqIHKBcBBBTaPitEBHUT4QNUY6+mBwCk6PEVe0/5Aa8pYmPZHTtXLuX3CVSIAAIm0cYQYqPZfvwOgeqxC6wlnt1H2n7Ec5V+j/2+Rw+P0rbjhNgd1l7ED1APAgg/M05g5R5JbQohIqhdCB+gXgQQpmWySMopjtoSQkRQOxA/QP0IIJRmVBx1OYweX7E3EYQZI3yA5hBAqNxgGHUtiNowG0QEpYf4AZrVrS0RWmH7Ec/tdumK1N8txgY3HfwugOYxA4TG9UdQ22eH2jAbhGYRP0Aa2r21Qed0ZWYo1dkgNr7NYv0D6SCAkKy2xxARhH6sdyAtBFDJbF9pe4vt9SPut+0P295o+z7bx9c9xjZqawy18UzSKBcfaQGkiQAq36cknTbJ/adLOrK4rJJ0RQ1j6pS2hlBK2CDXg/UMpIsAKllE3Czpx5Mscpakq6LnVkmLbC+pZ3Td0rZZISIoL6xfIG0EUP2WSnqo7+tNxW2YhbaEEBGUB9YrkD4CqH4eclsMXdBeZXud7XXP7niy4mF1QxtCiOOCuo34AdqBAKrfJknL+75eJunhYQtGxJqIOCEiTpiz8AW1DK4r2hJCKWCDDSBHBFD9rpV0fvFusJMkbY2IR5oeVFelHkKpRBDKQUwC7cGZoEtm+3OSTpG02PYmSe+WNE+SImK1pLWSzpC0UdJTki5oZqR5mYigFM80ncIHqvJZYbNH/ADtQgCVLCLOneL+kHTRdJ93zj7PauHhW2c8Lkna8YMDZvX4Lkg1hFKIIMwc8QO0DwGUkXECKpdISjGEmo4gZoEA5IQAwm5GRVJXw2j7Ec8RQZgVZn/K1eRxcfzbywsBhLF0OYxSnA1qCrNA00P8TF/KB/6PMzYiqTsIIMzKYBi1OYhSmQ1iFqgdiJ+ppRw7MzXqZ+LfbPsQQChV24MoldmgJiOIWSDMVBeDZ1y7/ew3NDcOjI8AQqX6g6hNMZTCbBAzQeli9qcn5+BB+zU/349sLDx866zfyl+nFE6g2NQGhg08Rpn4KBfiB23HDBBq16ZZIWaCMCjHOCR20EUEEBrVhhhK5bggNC+3+CF80GX8RUcyUt9F1uQusSY2RLlt7PE8dnEhB8wAITkTEZTijFCTu8TYFdasrgchwYPcMAOEZKU6I5TCwdF16fpGH8z2IF8EEJKXYgg1FUFsqJrR1RDk9YScEUBojdRCiAhCWzHrAxBAaKGUQiiH3WFdnf3IEeEDPI8AQmulEkJNRBAbsfp0JQB5zQC7I4DQerlGEDAOZn2A4QggdEIKs0F1RxAbteq1ffaH1wgwGucBaon99/6JTj3kgZH3f+3BFTWOJl0LD9/a6PmD6j5PUF3nBuIT4tuH+AEmRwB1xGRx1C+HUGo6goAmET7AeAigzIwKpa6FUZNnk+7qLFBu2rj7i/gBxkcAQVJ3w6ip2aAUPkW+bOwGSxvxA0xPt/5Co3SnHvLAzy5t1dTB0XUeFM3Gr1xtm/3h9w9MHzNAGNtgBLVpdoiZIHQV8QPMDAGEGesPojbEUMqfMl8GjgXKD/EDzBz/a4pStH03WZW6dJLEtu0amom2/IzEDzA7zAChVG2YFWpidxi7wlAm4geYPf4iozIpzwo1fdboqrBh7D5+x0A5CCBULtUQqjuCurQrDM0gfoDyEECoTYoh1MWZIDaSM5fy8T/8XoFyEUCoXWohVGcEdWEWKOVI6CriBygfAYTGpBRCRBBSRfwA1SCA0LgcI6hqbDSnL8WZLX6PQHUIICQhldmguiKIWSAAaBYBhKSkEEFACpj9AapFACE5TUdQV2aB2IC2F787oHoEEJKUSwS1VYrHy8xG134eAFMjgCpg+zTbD9jeaPtPhtx/iu2ttu8pLpc2Mc7UpXJcUJU4FgiDmP0B6kEAlcz2HEkfkXS6pKMknWv7qCGLfjMiji0uf1brIFumqQhiFggAuosAKt+JkjZGxPcj4hlJn5d0VsNjar0uR1CVs0DMJrQLvy+gPgRQ+ZZKeqjv603FbYNebvte29fbPrqeobVb13eHoRmpHP9D/AD1IoDK5yG3xcDXd0k6NCKOkXSZpGuGPpG9yvY62+ueevzpckfZUk1EUNtngQAAeyKAyrdJ0vK+r5dJerh/gYjYFhE7iutrJc2zvXjwiSJiTUScEBEn7HvgPlWOuVW6GkHIF7M/07P9iOcmvQDjmNv0ADroDklH2j5c0mZJ50h6Xf8Ctg+W9KOICNsnqheij9U+0hY79ZAH9LUHVzQ9jFZ4fMXeOvCBZ0p/3p0rl2rB+s2lPy8w24iZzuP3+x7zALkigEoWEbtsv0nSDZLmSLoyIjbYvrC4f7WksyW9wfYuSTslnRMRg7vJdvNzc3bovAO/PfY4PvP4K2b6I7RG3RG08PCt2vGDAyp7/u1HPMcf45qlcvxP7pqctRn1vfm32H0EUAWK3VprB25b3Xf9ckmXVzmGUbGUQxgBbZLr7q/Ud1URRt1HAGWmP4y6EENdmwUCui718JlK//iJoXYjgDI2OEvU1iDq0vFAVe0Gq+o4IMxOTrM/bQ+fYYihdiOA8DNtnh2qM4KYBQLG18XwGSaXn7NLSFYMdd6B357WQdcp4ESJmI6mD4Du+uwPb0lH6gggTKqNIVSHKs8LxEYDbUb4oC0IIIylLRHELBDQHMIHbUIAYWzMBu2Os0Njprq4+4v4QdsQQJi21EOoC7NAVWxMqtjoNn0cDZrHLi+0FQGEGUs5ggBUj/BBmxFAmJVUI6iuWSB2g7UTM1ezR/yg7QggzFqqu8S6sCsM3dOF43+IH3QBAYTSpBhBdahqFoiNDFLD8T7oEgIIpUotgpgFAspB+KBrCCCULrUIAgBgEAGEShBBaerC8Sdt1tb1z+wPuogAQmVSiaA6doPxbjB0FfGDriKAUKlUIqit2PgAQDUIIGSBg6GB6SPA0WUEECqXyywQu8HagZMgjof4QdcRQKhFLhEEAGgHAgjZYDcYmtSmd4Ax+4McEECoDbNAM8PGCHXi9YZcEECoVdMRVPUsEMcBAUA7EEBAZtq0KwYAqkIAAQAksfsLeSGAULumd4OhXLytHEAbEUAAACA7BBAa0eQsEG+HB/bE7i/khgACSsY7wTCIA8+B9BBAaAzHAgEAmkIAAUDm2P2FHBFAyFLbjgNiAwUA5SKAAABAdgggAACQHQIIjeJAaABAEwggAACQHQKoArZPs/2A7Y22/2TI/bb94eL++2wf38Q4gdzwsR0AJhBAJbM9R9JHJJ0u6ShJ59o+amCx0yUdWVxWSbqi1kECQIF3GCJXBFD5TpS0MSK+HxHPSPq8pLMGljlL0lXRc6ukRbaX1D1QAAByRQCVb6mkh/q+3lTcNt1lAABAReY2PYAO8pDbYgbLyPYq9XaRSdLTxx66af0sx9aExZIenXyRL9QykGkYY8xJauO46x3z5lKeZfpjvqGU7ztbvD7qs6LpAWBqBFD5Nkla3vf1MkkPz2AZRcQaSWskyfa6iDih3KFWr43jbuOYpXaOmzHXp43jbuOYpd64mx4DpsYusPLdIelI24fb3lvSOZKuHVjmWknnF+8GO0nS1oh4pO6BAgCQK2aAShYRu2y/Sb1J7zmSroyIDbYvLO5fLWmtpDMkbZT0lKQLmhovAAA5IoAqEBFr1Yuc/ttW910PSRdN82nXlDC0JrRx3G0cs9TOcTPm+rRx3G0cs9TecWfFvW0xAABAPjgGCAAAZIcASkwbP0ZjjDGfYnur7XuKy6VNjHNgTFfa3mJ76KkFUlzP0ljjTnFdL7f9T7bvt73B9sVDlklqfY855hTX9Xzbt9u+txj3e4csk9q6HmfMya1rqXfmf9t3275uyH1JrWcMERFcErmod9D09yS9VNLeku6VdNTAMmdIul69cwmdJOm2Foz5FEnXNb1+B8b0q5KOl7R+xP1JredpjDvFdb1E0vHF9f0k/d8WvK7HGXOK69qSFhbX50m6TdJJia/rccac3LouxvVmSX83bGyprWcue16YAUpLGz9GY5wxJycibpb040kWSW09Sxpr3MmJiEci4q7i+nZJ92vPM58ntb7HHHNyivW3o/hyXnEZPNAztXU9zpiTY3uZpNdI+sSIRZJaz9gTAZSWNn6MxrjjeXkxxX297aPrGdqspLaepyPZdW37MEnHqfd/+f2SXd+TjFlKcF0Xu2XukbRF0o0Rkfy6HmPMUnrr+m8lvU3SqE+TTW49Y3cEUFpK+xiNGo0znrskHRoRx0i6TNI1VQ+qBKmt53Elu65tL5T0RUmXRMS2wbuHPKTx9T3FmJNc1xHxbEQcq94Z5k+0vXJgkeTW9RhjTmpd2z5T0paIuHOyxYbc1vhrGs8jgNJS2sdo1GjK8UTEtokp7uidI2me7cX1DXFGUlvPY0l1Xduep15IXB0RXxqySHLre6oxp7quJ0TEE5JuknTawF3JresJo8ac4Lo+WdJrbf9Qvd3+r7L92YFlkl3P6CGA0tLGj9GYcsy2D7bt4vqJ6r3uHqt9pNOT2noeS4rruhjPJyXdHxEfHLFYUut7nDEnuq5faHtRcX2BpFdL+u7AYqmt6ynHnNq6joi3R8SyiDhMvb95X4+I3x1YLKn1jD1xJuiERAs/RmPMMZ8t6Q22d0naKemciGh0Ktj259R7Z8li25skvVu9gy+TXM8Txhh3cutavf9bPk/Sd4rjPCTpHZIOkZJd3+OMOcV1vUTSp23PUS8SvhAR16X8N0TjjTnFdb2HxNczBnAmaAAAkB12gQEAgOwQQAAAIDsEEAAAyA4BBAAAskMAAQCA7BBAAGbFvU9O/4Htg4qvDyy+PrSE5/727EcIAHvibfAAZs322yT9fESssv0xST+MiP/R9LgAYBRmgACU4W8knWT7EkmvlPSBYQvZvsb2nbY32F5V3Hao7X+xvdj2Xra/afvU4r4dxX+X2L7Z9j2219v+lXp+LABdxQwQgFLY/nVJX5V0akTcOGKZgyLix8VHHtwh6dci4jHbf6De5z/dpt5M0n8plt8REQttv0XS/Ij4i+KMwftGxPZafjAAncQMEICynC7pEUmDn+Td749s3yvpVvU+KPJISYqIT0jaT9KFkt465HF3SLrA9nsk/RLxA2C2CCAAs2b7WEn/QdJJkv6b7SVDljlFvQ+6fHlEHCPpbknzi/v2Ve/TsiVp4eBjI+JmSb8qabOkz9g+v/QfAkBWCCAAs1J8SvcVki6JiAcl/bWk9w9Z9ABJj0fEU7Z/Qb1YmvA+SVdLulTSx4d8j0MlbYmIj6v3Ke3Hl/tTAMgNAQRgtv5Q0oN9x/18VNIv2P61geW+Kmmu7fsk/bl6u8FULPfLkt4XEVdLesb24CdnnyLpHtt3S/otSR+q5CcBkA0OggYAANlhBggAAGSHAAIAANkhgAAAQHYIIAAAkB0CCAAAZIcAAgAA2SGAAABAdgggAACQHQIIAABkhwACAADZIYAAAEB2CCAAAJCd/w8TypvjSPvO0AAAAABJRU5ErkJggg==' width=576.0/>\n",
       "            </div>\n",
       "        "
      ],
      "text/plain": [
       "Canvas(toolbar=Toolbar(toolitems=[('Home', 'Reset original view', 'home', 'home'), ('Back', 'Back to previous …"
      ]
     },
     "metadata": {},
     "output_type": "display_data"
    }
   ],
   "source": [
    "Z = pred_ho.reshape((41,41))\n",
    "\n",
    "fig2, ax2 = plt.subplots(figsize=(8,6))\n",
    "ax2.contourf(x,y, Z.T)\n",
    "ax2.set_aspect('equal')\n",
    "ax2.set_title('Error: %5.3f%%'%error_ho)\n",
    "ax2.set_xlabel('X axis')\n",
    "ax2.set_ylabel('Y axis')\n",
    "plt.tight_layout()\n",
    "plt.savefig('2d_pred_model%d.png'%imodel, transparent=False)"
   ]
  },
  {
   "cell_type": "code",
   "execution_count": 1,
   "id": "9a9691ca-99f6-48b5-aa01-9f02a748b93f",
   "metadata": {},
   "outputs": [],
   "source": [
    "import ML_Coupling.tools as tool"
   ]
  },
  {
   "cell_type": "code",
   "execution_count": 2,
   "id": "84e6f4fd-0c19-431c-ad81-67280c963b45",
   "metadata": {},
   "outputs": [],
   "source": [
    "a= tool.cal_dexter_coupling('ML_Coupling/test.out')"
   ]
  },
  {
   "cell_type": "code",
   "execution_count": 5,
   "id": "d34bf935-56af-42a4-a159-fcd6ba514f53",
   "metadata": {},
   "outputs": [
    {
     "name": "stdout",
     "output_type": "stream",
     "text": [
      "0.13073721180792908\n"
     ]
    }
   ],
   "source": [
    "print(a*27.2114)"
   ]
  },
  {
   "cell_type": "code",
   "execution_count": null,
   "id": "e4e8e2a2-a0ee-44fa-8890-f443cfd75914",
   "metadata": {},
   "outputs": [],
   "source": []
  }
 ],
 "metadata": {
  "kernelspec": {
   "display_name": "venv",
   "language": "python",
   "name": "venv"
  },
  "language_info": {
   "codemirror_mode": {
    "name": "ipython",
    "version": 3
   },
   "file_extension": ".py",
   "mimetype": "text/x-python",
   "name": "python",
   "nbconvert_exporter": "python",
   "pygments_lexer": "ipython3",
   "version": "3.9.7"
  }
 },
 "nbformat": 4,
 "nbformat_minor": 5
}
