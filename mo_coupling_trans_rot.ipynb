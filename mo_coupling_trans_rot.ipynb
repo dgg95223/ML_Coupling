{
 "cells": [
  {
   "cell_type": "code",
   "execution_count": null,
   "id": "72e374ea-67ce-4536-80b8-b3c4bac58c03",
   "metadata": {},
   "outputs": [],
   "source": [
    "import mo_descriptor as md\n",
    "import nn_frame as nn\n",
    "import numpy as np\n",
    "import subprocess\n",
    "subprocess.run('export TF_INTRA_OP_PARALLELISM_THREADS=12', shell=True)"
   ]
  },
  {
   "cell_type": "code",
   "execution_count": null,
   "id": "c43b11cb-1fbe-45fa-9086-788654317874",
   "metadata": {},
   "outputs": [],
   "source": [
    "'''\n",
    "1. load mo_pair descriptor\n",
    "'''\n",
    "homo_pairs = np.load('./data/homo_homo_pair.npy')\n",
    "lumo_pairs = np.load('./data/lumo_lumo_pair.npy')\n",
    "homo_rot_pairs = np.load('./data/homo_pair_rot.npy')\n",
    "lumo_rot_pairs = np.load('./data/lumo_pair_rot.npy')"
   ]
  },
  {
   "cell_type": "code",
   "execution_count": null,
   "id": "7812fa84-0a93-4129-a03e-41f895132998",
   "metadata": {},
   "outputs": [],
   "source": [
    "'''\n",
    "2. read coupling\n",
    "'''\n",
    "raw_data = np.loadtxt('results.csv', delimiter=',',comments='#')\n",
    "raw_data_rot = np.loadtxt('results_rot.csv', delimiter=',',comments='#')\n",
    "c_homo = abs(raw_data[:,3])\n",
    "c_lumo = abs(raw_data[:,4])\n",
    "c_homo_rot = abs(raw_data[:,3])\n",
    "c_lumo_rot = abs(raw_data[:,4])"
   ]
  },
  {
   "cell_type": "code",
   "execution_count": null,
   "id": "c99ea47a-6f1d-4fc7-93f4-02aecf43d1ac",
   "metadata": {},
   "outputs": [],
   "source": [
    "'''\n",
    "3. remove zero values\n",
    "'''\n",
    "izero = []\n",
    "for ii,i in enumerate(c_homo):\n",
    "    if i<=0.0000:\n",
    "        izero.append(ii)\n",
    "        c_homo[ii] = 1e-9\n",
    "print(len(izero))\n",
    "homo_pairs = np.delete(homo_pairs, izero, 0)\n",
    "c_homo = np.delete(c_homo, izero, 0)\n",
    "\n",
    "izero = []\n",
    "for ii,i in enumerate(c_lumo):\n",
    "    if i<=0.0000:\n",
    "        izero.append(ii)\n",
    "        c_lumo[ii] = 1e-8\n",
    "print(len(izero))\n"
   ]
  },
  {
   "cell_type": "code",
   "execution_count": null,
   "id": "6fe46cbe-a7e0-4ee4-8212-a5035b8c9844",
   "metadata": {},
   "outputs": [],
   "source": [
    "'''\n",
    "4. build training set\n",
    "'''\n",
    "train_homo_pairs = homo_pairs[:]\n",
    "train_lumo_pairs = lumo_pairs\n",
    "\n",
    "train_c_homo = -np.log(c_homo)[:]\n",
    "train_c_lumo = -np.log(c_lumo)\n",
    "\n",
    "test_homo_pairs = homo_pairs[1200:]\n",
    "test_lumo_pairs = lumo_pairs[1200:]\n",
    "\n",
    "test_c_homo = c_homo[1200:].reshape((len(c_homo[1200:]),1))\n",
    "test_c_lumo = c_lumo[1200:]\n",
    "\n",
    "train_homo = copy.deepcopy(train_homo_pairs)\n",
    "train_chomo = copy.deepcopy(train_c_homo)\n",
    "print(len(train_chomo))\n",
    "index = np.random.choice(len(train_c_homo), size=int(len(train_c_homo)*0.1), replace=False)\n",
    "train_homo_ = np.delete(train_homo,index,0)\n",
    "train_chomo_ = np.delete(train_chomo,index,0)\n",
    "print(len(train_homo_))"
   ]
  },
  {
   "cell_type": "code",
   "execution_count": null,
   "id": "180d41e2-f434-4747-bea5-65e31a00ff8c",
   "metadata": {},
   "outputs": [
    {
     "ename": "NameError",
     "evalue": "name 'train_homo_pairs' is not defined",
     "output_type": "error",
     "traceback": [
      "\u001b[0;31m---------------------------------------------------------------------------\u001b[0m",
      "\u001b[0;31mNameError\u001b[0m                                 Traceback (most recent call last)",
      "\u001b[0;32m/tmp/ipykernel_826/2122161474.py\u001b[0m in \u001b[0;36m<module>\u001b[0;34m\u001b[0m\n\u001b[1;32m      2\u001b[0m '''\n\u001b[1;32m      3\u001b[0m \u001b[0;32mimport\u001b[0m \u001b[0mcopy\u001b[0m\u001b[0;34m\u001b[0m\u001b[0;34m\u001b[0m\u001b[0m\n\u001b[0;32m----> 4\u001b[0;31m \u001b[0mtrain_homo\u001b[0m \u001b[0;34m=\u001b[0m \u001b[0mcopy\u001b[0m\u001b[0;34m.\u001b[0m\u001b[0mdeepcopy\u001b[0m\u001b[0;34m(\u001b[0m\u001b[0mtrain_homo_pairs\u001b[0m\u001b[0;34m)\u001b[0m\u001b[0;34m\u001b[0m\u001b[0;34m\u001b[0m\u001b[0m\n\u001b[0m\u001b[1;32m      5\u001b[0m \u001b[0mtrain_chomo\u001b[0m \u001b[0;34m=\u001b[0m \u001b[0mcopy\u001b[0m\u001b[0;34m.\u001b[0m\u001b[0mdeepcopy\u001b[0m\u001b[0;34m(\u001b[0m\u001b[0mtrain_c_homo\u001b[0m\u001b[0;34m)\u001b[0m\u001b[0;34m\u001b[0m\u001b[0;34m\u001b[0m\u001b[0m\n\u001b[1;32m      6\u001b[0m \u001b[0mprint\u001b[0m\u001b[0;34m(\u001b[0m\u001b[0mlen\u001b[0m\u001b[0;34m(\u001b[0m\u001b[0mtrain_chomo\u001b[0m\u001b[0;34m)\u001b[0m\u001b[0;34m)\u001b[0m\u001b[0;34m\u001b[0m\u001b[0;34m\u001b[0m\u001b[0m\n",
      "\u001b[0;31mNameError\u001b[0m: name 'train_homo_pairs' is not defined"
     ]
    }
   ],
   "source": [
    "'''\n",
    "5. build testing set\n",
    "'''\n",
    "import copy\n",
    "train_homo = copy.deepcopy(train_homo_pairs)\n",
    "train_chomo = copy.deepcopy(train_c_homo)\n",
    "print(len(train_chomo))\n",
    "index = np.random.choice(len(train_c_homo), size=int(len(train_c_homo)*0.1), replace=False)\n",
    "train_homo_ = np.delete(train_homo,index,0)\n",
    "train_chomo_ = np.delete(train_chomo,index,0)\n",
    "print(len(train_homo_))"
   ]
  }
 ],
 "metadata": {
  "kernelspec": {
   "display_name": "venv",
   "language": "python",
   "name": "venv"
  },
  "language_info": {
   "codemirror_mode": {
    "name": "ipython",
    "version": 3
   },
   "file_extension": ".py",
   "mimetype": "text/x-python",
   "name": "python",
   "nbconvert_exporter": "python",
   "pygments_lexer": "ipython3",
   "version": "3.9.7"
  }
 },
 "nbformat": 4,
 "nbformat_minor": 5
}
