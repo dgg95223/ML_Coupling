{
 "cells": [
  {
   "cell_type": "code",
   "execution_count": 1,
   "id": "65900bf3-c182-48a6-b6a0-efd08e340f58",
   "metadata": {},
   "outputs": [
    {
     "name": "stderr",
     "output_type": "stream",
     "text": [
      "2022-09-06 18:31:29.338512: W tensorflow/stream_executor/platform/default/dso_loader.cc:64] Could not load dynamic library 'libcudart.so.11.0'; dlerror: libcudart.so.11.0: cannot open shared object file: No such file or directory\n",
      "2022-09-06 18:31:29.338557: I tensorflow/stream_executor/cuda/cudart_stub.cc:29] Ignore above cudart dlerror if you do not have a GPU set up on your machine.\n"
     ]
    },
    {
     "data": {
      "text/plain": [
       "CompletedProcess(args='export TF_INTRA_OP_PARALLELISM_THREADS=12', returncode=0)"
      ]
     },
     "execution_count": 1,
     "metadata": {},
     "output_type": "execute_result"
    }
   ],
   "source": [
    "import mo_descriptor as md\n",
    "import nn_frame as nn\n",
    "import numpy as np\n",
    "import subprocess\n",
    "subprocess.run('export TF_INTRA_OP_PARALLELISM_THREADS=12', shell=True)"
   ]
  },
  {
   "cell_type": "code",
   "execution_count": 2,
   "id": "3819da32-6769-405e-8d3f-1fa9c336c9b4",
   "metadata": {
    "scrolled": true,
    "tags": []
   },
   "outputs": [
    {
     "name": "stdout",
     "output_type": "stream",
     "text": [
      "1 start clustering\n",
      "2 start getting center\n"
     ]
    },
    {
     "name": "stderr",
     "output_type": "stream",
     "text": [
      "/home/jingheng/anaconda3/lib/python3.9/site-packages/numpy/core/_asarray.py:102: VisibleDeprecationWarning: Creating an ndarray from ragged nested sequences (which is a list-or-tuple of lists-or-tuples-or ndarrays with different lengths or shapes) is deprecated. If you meant to do this, you must specify 'dtype=object' when creating the ndarray.\n",
      "  return array(a, dtype, copy=False, order=order)\n"
     ]
    },
    {
     "name": "stdout",
     "output_type": "stream",
     "text": [
      "1 start clustering\n",
      "2 start getting center\n"
     ]
    },
    {
     "name": "stderr",
     "output_type": "stream",
     "text": [
      "/home/jingheng/anaconda3/lib/python3.9/site-packages/numpy/core/_asarray.py:102: VisibleDeprecationWarning: Creating an ndarray from ragged nested sequences (which is a list-or-tuple of lists-or-tuples-or ndarrays with different lengths or shapes) is deprecated. If you meant to do this, you must specify 'dtype=object' when creating the ndarray.\n",
      "  return array(a, dtype, copy=False, order=order)\n"
     ]
    }
   ],
   "source": [
    "'''\n",
    "prepare data_set\n",
    "1. make mo_pair descriptor\n",
    "'''\n",
    "x_shift = np.arange(0, 4.1, 0.1)\n",
    "y_shift = np.arange(0, 4.1, 0.1)\n",
    "z_shift = np.zeros(x_shift.shape)\n",
    "# the original mo, e.g. homo\n",
    "homo = md.MO_descriptor('data/homo-s0.cube').make()\n",
    "lumo = md.MO_descriptor('data/lumo-s0.cube').make()\n",
    "\n",
    "# for the original pair of one mo and itself\n",
    "homo_pair = md.MO_pair_descriptor(homo, homo).make()\n",
    "lumo_pair = md.MO_pair_descriptor(lumo, lumo).make()\n",
    "\n",
    "homo_pairs = np.zeros((len(x_shift)*len(y_shift),) + homo_pair.shape)\n",
    "lumo_pairs = np.zeros((len(x_shift)*len(y_shift),) + lumo_pair.shape)\n",
    "\n",
    "homo_ = np.zeros(homo.shape)\n",
    "lumo_ = np.zeros(lumo.shape)\n",
    "\n",
    "for ii, i in enumerate(x_shift):\n",
    "    for jj, j in enumerate(y_shift):\n",
    "        idx = ii * len(y_shift) + jj\n",
    "        homo_[:,0] = np.add(homo[:,0],0)\n",
    "        homo_[:,1] = np.add(homo[:,1],i)\n",
    "        homo_[:,2] = np.add(homo[:,2],j)\n",
    "        homo_[:,3] = np.add(homo[:,3],0)\n",
    "        \n",
    "        homo_pair_ = md.MO_pair_descriptor(homo, homo_).make()\n",
    "        homo_pairs[idx] = homo_pair_\n",
    "        \n",
    "        lumo_[:,0] = np.add(lumo[:,0],0)\n",
    "        lumo_[:,1] = np.add(lumo[:,1],i)\n",
    "        lumo_[:,2] = np.add(lumo[:,2],j)\n",
    "        lumo_[:,3] = np.add(lumo[:,3],0)\n",
    "        \n",
    "        lumo_pair_ = md.MO_pair_descriptor(lumo, lumo_).make()\n",
    "        lumo_pairs[idx] = lumo_pair_\n",
    "\n",
    "        \n",
    "# def dir_mat(mat):\n",
    "#     mat_shape = mat.shape\n",
    "#     mat_ = mat.flatten()\n",
    "#     for ii, i in enumerate(mat_):\n",
    "#         if i > 1e-6:\n",
    "#             mat_[ii] = 1\n",
    "#         elif (i < 1e-6) and (i > -1e-6):\n",
    "#             mat_[ii] = -1\n",
    "#         elif i < -1e-6:\n",
    "#             mat_[ii] = -1\n",
    "#     return mat_.reshape(mat_shape)\n",
    "\n",
    "# direct = dir_mat(homo_pair)\n",
    "\n",
    "# # for the shifted pair\n",
    "# homo_pairs = np.zeros((len(x_shift)*len(y_shift),) + homo_pair.shape)\n",
    "# lumo_pairs = np.zeros((len(x_shift)*len(y_shift),) + lumo_pair.shape)\n",
    "# for ii, i in enumerate(x_shift):\n",
    "#     for jj, j in enumerate(y_shift):\n",
    "#         idx = ii * len(y_shift) + jj\n",
    "#         homo_pairs[idx][0] = homo_pair[0]\n",
    "#         homo_pairs[idx][1] = np.add(homo_pair[1],i*direct[1])\n",
    "#         homo_pairs[idx][2] = np.add(homo_pair[2],j*direct[2])\n",
    "#         homo_pairs[idx][3] = homo_pair[3]\n",
    "#         lumo_pairs[idx][0] = lumo_pair[0]\n",
    "#         lumo_pairs[idx][1] = np.add(lumo_pair[1],i)\n",
    "#         lumo_pairs[idx][2] = np.add(lumo_pair[2],j)\n",
    "#         lumo_pairs[idx][3] = lumo_pair[3]\n",
    "np.save('homo_homo_pair.npy', homo_pairs)\n",
    "np.save('lumo_lumo_pair.npy', lumo_pairs)\n",
    "homo_pairs = np.load('homo_homo_pair.npy')\n",
    "lumo_pairs = np.load('lumo_lumo_pair.npy')"
   ]
  },
  {
   "cell_type": "code",
   "execution_count": 3,
   "id": "e91a92a2-f076-46c8-835f-958569393703",
   "metadata": {},
   "outputs": [],
   "source": [
    "'''\n",
    "2. read coupling\n",
    "'''\n",
    "raw_data = np.loadtxt('data/cdft-V1V2.dat')\n",
    "c_homo = np.add(raw_data[:,2], raw_data[:,3]) * 1/2\n",
    "c_lumo = np.add(raw_data[:,4], raw_data[:,5]) * 1/2"
   ]
  },
  {
   "cell_type": "code",
   "execution_count": 4,
   "id": "dda7ef17-1e21-42a4-9daf-27feba4fc51b",
   "metadata": {
    "tags": []
   },
   "outputs": [],
   "source": [
    "# x1 = homo_pairs[:,0,:,:]\n",
    "# x2 = homo_pairs[:,1,:,:]\n",
    "# x3 = homo_pairs[:,2,:,:]\n",
    "# x4 = homo_pairs[:,3,:,:]\n",
    "# x = np.einsum('aij,aij,aij,aij->aij', x1, x2, x3, x4)\n",
    "\n",
    "train_homo_pairs = homo_pairs\n",
    "train_lumo_pairs = lumo_pairs\n",
    "\n",
    "train_c_homo = -np.log(c_homo)\n",
    "train_c_lumo = -np.log(c_lumo)\n",
    "\n",
    "test_homo_pairs = homo_pairs[1200:]\n",
    "test_lumo_pairs = lumo_pairs[1200:]\n",
    "\n",
    "test_c_homo = c_homo[1200:].reshape((len(c_homo[1200:]),1))\n",
    "test_c_lumo = c_lumo[1200:]"
   ]
  },
  {
   "cell_type": "code",
   "execution_count": null,
   "id": "938d30ba-e044-469f-b2eb-25f05497f346",
   "metadata": {
    "scrolled": true,
    "tags": []
   },
   "outputs": [
    {
     "name": "stderr",
     "output_type": "stream",
     "text": [
      "2022-09-06 18:31:40.467736: W tensorflow/stream_executor/platform/default/dso_loader.cc:64] Could not load dynamic library 'libcuda.so.1'; dlerror: libcuda.so.1: cannot open shared object file: No such file or directory\n",
      "2022-09-06 18:31:40.467803: W tensorflow/stream_executor/cuda/cuda_driver.cc:269] failed call to cuInit: UNKNOWN ERROR (303)\n",
      "2022-09-06 18:31:40.467844: I tensorflow/stream_executor/cuda/cuda_diagnostics.cc:156] kernel driver does not appear to be running on this host (Bai-Group): /proc/driver/nvidia/version does not exist\n",
      "2022-09-06 18:31:40.468231: I tensorflow/core/platform/cpu_feature_guard.cc:151] This TensorFlow binary is optimized with oneAPI Deep Neural Network Library (oneDNN) to use the following CPU instructions in performance-critical operations:  AVX2 AVX512F FMA\n",
      "To enable them in other operations, rebuild TensorFlow with the appropriate compiler flags.\n"
     ]
    },
    {
     "name": "stdout",
     "output_type": "stream",
     "text": [
      "loss:  8.76999664\n",
      "training step:     0\n",
      "loss:  7.01703453\n",
      "training step:  1000\n",
      "loss:  6.84662104\n",
      "training step:  2000\n",
      "loss:  6.70279837\n",
      "training step:  3000\n",
      "loss:  6.56296301\n",
      "training step:  4000\n",
      "loss:  6.42302084\n",
      "training step:  5000\n",
      "loss:  6.28665209\n",
      "training step:  6000\n",
      "loss:  6.15365744\n",
      "training step:  7000\n",
      "loss:  6.02085\n",
      "training step:  8000\n",
      "loss:  5.88918734\n",
      "training step:  9000\n",
      "loss:  5.75814819\n",
      "training step: 10000\n",
      "loss:  5.62739182\n",
      "training step: 11000\n",
      "loss:  5.49725866\n",
      "training step: 12000\n",
      "loss:  5.36732292\n",
      "training step: 13000\n",
      "loss:  5.2376647\n",
      "training step: 14000\n",
      "loss:  5.1081295\n",
      "training step: 15000\n",
      "loss:  4.97857094\n",
      "training step: 16000\n",
      "loss:  4.84897804\n",
      "training step: 17000\n",
      "loss:  4.71935701\n",
      "training step: 18000\n",
      "loss:  4.58970594\n",
      "training step: 19000\n",
      "loss:  4.46010494\n",
      "training step: 20000\n",
      "loss:  4.33061123\n",
      "training step: 21000\n",
      "loss:  4.20123625\n",
      "training step: 22000\n",
      "loss:  4.07201672\n",
      "training step: 23000\n",
      "loss:  3.94295526\n",
      "training step: 24000\n",
      "loss:  3.81411648\n",
      "training step: 25000\n",
      "loss:  3.68562436\n",
      "training step: 26000\n",
      "loss:  3.55756235\n",
      "training step: 27000\n",
      "loss:  3.43006253\n",
      "training step: 28000\n"
     ]
    }
   ],
   "source": [
    "setting = {'activation':'tanh', 'nn_shape':(256,256,256), 'batch_size':1681, 'training_steps':200000,\\\n",
    "'learning_rate': 0.000001, 'decay_rate':0.95, 'decay_per_steps':1000, 'save_step':1000, 'drop_rate':0, 'save_path':'./save',\\\n",
    "'seed':None, 'debug_traj': True}\n",
    "NN = nn.NN(setting_dict=setting)\n",
    "NN.train(train_lumo_pairs,train_c_lumo)"
   ]
  },
  {
   "cell_type": "code",
   "execution_count": null,
   "id": "b143ab74-322f-4b26-9ee5-7f7d433b2074",
   "metadata": {},
   "outputs": [],
   "source": [
    "import matplotlib.pyplot as plt\n",
    "%matplotlib inline\n",
    "%matplotlib widget\n",
    "\n",
    "error = np.mean(np.multiply(NN.model(train_lumo_pairs, training=False).numpy().reshape((1681,))-train_c_lumo, np.power(train_c_lumo,-1))*100)\n",
    "x = np.linspace(0, 4, 41)\n",
    "y = np.linspace(0, 4, 41)\n",
    "X, Y = np.meshgrid(x, y)\n",
    "Z = NN.model(train_lumo_pairs, training=False).numpy().reshape((41,41))\n",
    "Z1 = c_lumo.reshape((41,41))\n",
    "\n",
    "fix, ax = plt.subplots()\n",
    "ax.contourf(x,y, np.exp(-Z))\n",
    "ax.set_title('Error: %5.3f%%'%error)"
   ]
  },
  {
   "cell_type": "code",
   "execution_count": null,
   "id": "dbeac264-1b61-4a8a-bb30-b368f5551f44",
   "metadata": {},
   "outputs": [],
   "source": [
    "NN.model.summary()"
   ]
  },
  {
   "cell_type": "code",
   "execution_count": null,
   "id": "43ace6c2-030a-4f0d-aef2-2440da10b435",
   "metadata": {},
   "outputs": [],
   "source": [
    "a = NN.model(train_lumo_pairs, training=False).numpy().reshape((1681,))"
   ]
  },
  {
   "cell_type": "code",
   "execution_count": null,
   "id": "6d8fd3b7-718c-4561-ae73-d226bceeab73",
   "metadata": {},
   "outputs": [],
   "source": [
    "for i in train_c_lumo:\n",
    "    print(i)"
   ]
  },
  {
   "cell_type": "code",
   "execution_count": null,
   "id": "0400e85d-e7ae-41eb-b40a-45a708342731",
   "metadata": {},
   "outputs": [],
   "source": [
    "print(a.shape)"
   ]
  },
  {
   "cell_type": "code",
   "execution_count": null,
   "id": "cdc8b103-0aa4-4c38-a408-14dce3dd6089",
   "metadata": {},
   "outputs": [],
   "source": [
    "print(np.mean(np.multiply(a-train_c_lumo, np.power(train_c_lumo,-1)))*100)"
   ]
  },
  {
   "cell_type": "code",
   "execution_count": null,
   "id": "c790e593-9420-43a7-8f9c-514740afee92",
   "metadata": {},
   "outputs": [],
   "source": [
    "fix, ax = plt.subplots()\n",
    "ax.contourf(x,y, Z1)\n",
    "ax.set_title('True')"
   ]
  },
  {
   "cell_type": "code",
   "execution_count": null,
   "id": "357bcee0-c41f-4b8d-be9b-2225ec9f7b0d",
   "metadata": {},
   "outputs": [],
   "source": []
  }
 ],
 "metadata": {
  "kernelspec": {
   "display_name": "venv",
   "language": "python",
   "name": "venv"
  },
  "language_info": {
   "codemirror_mode": {
    "name": "ipython",
    "version": 3
   },
   "file_extension": ".py",
   "mimetype": "text/x-python",
   "name": "python",
   "nbconvert_exporter": "python",
   "pygments_lexer": "ipython3",
   "version": "3.9.7"
  }
 },
 "nbformat": 4,
 "nbformat_minor": 5
}
