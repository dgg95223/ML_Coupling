{
 "cells": [
  {
   "cell_type": "code",
   "execution_count": 1,
   "id": "65900bf3-c182-48a6-b6a0-efd08e340f58",
   "metadata": {},
   "outputs": [
    {
     "name": "stderr",
     "output_type": "stream",
     "text": [
      "2022-08-31 17:56:15.849377: W tensorflow/stream_executor/platform/default/dso_loader.cc:64] Could not load dynamic library 'libcudart.so.11.0'; dlerror: libcudart.so.11.0: cannot open shared object file: No such file or directory\n",
      "2022-08-31 17:56:15.849424: I tensorflow/stream_executor/cuda/cudart_stub.cc:29] Ignore above cudart dlerror if you do not have a GPU set up on your machine.\n"
     ]
    },
    {
     "data": {
      "text/plain": [
       "CompletedProcess(args='export TF_INTRA_OP_PARALLELISM_THREADS=12', returncode=0)"
      ]
     },
     "execution_count": 1,
     "metadata": {},
     "output_type": "execute_result"
    }
   ],
   "source": [
    "import mo_descriptor as md\n",
    "import nn_frame as nn\n",
    "import numpy as np\n",
    "import subprocess\n",
    "subprocess.run('export TF_INTRA_OP_PARALLELISM_THREADS=12', shell=True)"
   ]
  },
  {
   "cell_type": "code",
   "execution_count": 2,
   "id": "3819da32-6769-405e-8d3f-1fa9c336c9b4",
   "metadata": {
    "scrolled": true,
    "tags": []
   },
   "outputs": [
    {
     "name": "stdout",
     "output_type": "stream",
     "text": [
      "1 start clustering\n",
      "2 start getting center\n"
     ]
    },
    {
     "name": "stderr",
     "output_type": "stream",
     "text": [
      "/home/jingheng/anaconda3/lib/python3.9/site-packages/numpy/core/_asarray.py:102: VisibleDeprecationWarning: Creating an ndarray from ragged nested sequences (which is a list-or-tuple of lists-or-tuples-or ndarrays with different lengths or shapes) is deprecated. If you meant to do this, you must specify 'dtype=object' when creating the ndarray.\n",
      "  return array(a, dtype, copy=False, order=order)\n"
     ]
    },
    {
     "name": "stdout",
     "output_type": "stream",
     "text": [
      "1 start clustering\n",
      "2 start getting center\n"
     ]
    },
    {
     "name": "stderr",
     "output_type": "stream",
     "text": [
      "/home/jingheng/anaconda3/lib/python3.9/site-packages/numpy/core/_asarray.py:102: VisibleDeprecationWarning: Creating an ndarray from ragged nested sequences (which is a list-or-tuple of lists-or-tuples-or ndarrays with different lengths or shapes) is deprecated. If you meant to do this, you must specify 'dtype=object' when creating the ndarray.\n",
      "  return array(a, dtype, copy=False, order=order)\n"
     ]
    }
   ],
   "source": [
    "'''\n",
    "prepare data_set\n",
    "1. make mo_pair descriptor\n",
    "'''\n",
    "x_shift = np.arange(0, 4.1, 0.1)\n",
    "y_shift = np.arange(0, 4.1, 0.1)\n",
    "z_shift = np.zeros(x_shift.shape)\n",
    "# the original mo, e.g. homo\n",
    "homo = md.MO_descriptor('data/homo-s0.cube').make()\n",
    "lumo = md.MO_descriptor('data/lumo-s0.cube').make()\n",
    "\n",
    "# for the original pair of one mo and itself\n",
    "homo_pair = md.MO_pair_descriptor(homo, homo).make()\n",
    "lumo_pair = md.MO_pair_descriptor(lumo, lumo).make()\n",
    "\n",
    "homo_pairs = np.zeros((len(x_shift)*len(y_shift),) + homo_pair.shape)\n",
    "lumo_pairs = np.zeros((len(x_shift)*len(y_shift),) + lumo_pair.shape)\n",
    "\n",
    "homo_ = np.zeros(homo.shape)\n",
    "\n",
    "for ii, i in enumerate(x_shift):\n",
    "    for jj, j in enumerate(y_shift):\n",
    "        idx = ii * len(y_shift) + jj\n",
    "        homo_[:,0] = np.add(homo[:,0],0)\n",
    "        homo_[:,1] = np.add(homo[:,1],i)\n",
    "        homo_[:,2] = np.add(homo[:,2],j)\n",
    "        homo_[:,3] = np.add(homo[:,3],0)\n",
    "        \n",
    "        homo_pair_ = md.MO_pair_descriptor(homo, homo_).make()\n",
    "        homo_pairs[idx] = homo_pair_\n",
    "\n",
    "        \n",
    "# def dir_mat(mat):\n",
    "#     mat_shape = mat.shape\n",
    "#     mat_ = mat.flatten()\n",
    "#     for ii, i in enumerate(mat_):\n",
    "#         if i > 1e-6:\n",
    "#             mat_[ii] = 1\n",
    "#         elif (i < 1e-6) and (i > -1e-6):\n",
    "#             mat_[ii] = -1\n",
    "#         elif i < -1e-6:\n",
    "#             mat_[ii] = -1\n",
    "#     return mat_.reshape(mat_shape)\n",
    "\n",
    "# direct = dir_mat(homo_pair)\n",
    "\n",
    "# # for the shifted pair\n",
    "# homo_pairs = np.zeros((len(x_shift)*len(y_shift),) + homo_pair.shape)\n",
    "# lumo_pairs = np.zeros((len(x_shift)*len(y_shift),) + lumo_pair.shape)\n",
    "# for ii, i in enumerate(x_shift):\n",
    "#     for jj, j in enumerate(y_shift):\n",
    "#         idx = ii * len(y_shift) + jj\n",
    "#         homo_pairs[idx][0] = homo_pair[0]\n",
    "#         homo_pairs[idx][1] = np.add(homo_pair[1],i*direct[1])\n",
    "#         homo_pairs[idx][2] = np.add(homo_pair[2],j*direct[2])\n",
    "#         homo_pairs[idx][3] = homo_pair[3]\n",
    "#         lumo_pairs[idx][0] = lumo_pair[0]\n",
    "#         lumo_pairs[idx][1] = np.add(lumo_pair[1],i)\n",
    "#         lumo_pairs[idx][2] = np.add(lumo_pair[2],j)\n",
    "#         lumo_pairs[idx][3] = lumo_pair[3]\n",
    "# np.save('homo_homo_pair.npy', homo_pairs)\n",
    "# np.save('lumo_lumo_pair.npy', lumo_pairs)\n",
    "# homo_pairs = np.load('homo_homo_pair.npy')\n",
    "# lumo_pairs = np.load('lumo_lumo_pair.npy')"
   ]
  },
  {
   "cell_type": "code",
   "execution_count": 3,
   "id": "1b17be6b-d152-4b5d-9405-dec3f617c082",
   "metadata": {},
   "outputs": [
    {
     "name": "stdout",
     "output_type": "stream",
     "text": [
      "[[-0.1      -0.1      -7.167328 -7.167328 -0.1      -0.1      -7.167328\n",
      "  -7.167328]\n",
      " [-0.1      -0.1      -7.167328 -7.167328 -0.1      -0.1      -7.167328\n",
      "  -7.167328]\n",
      " [ 6.967328  6.967328 -0.1      -0.1       6.967328  6.967328 -0.1\n",
      "  -0.1     ]\n",
      " [ 6.967328  6.967328 -0.1      -0.1       6.967328  6.967328 -0.1\n",
      "  -0.1     ]\n",
      " [-0.1      -0.1      -7.167328 -7.167328 -0.1      -0.1      -7.167328\n",
      "  -7.167328]\n",
      " [-0.1      -0.1      -7.167328 -7.167328 -0.1      -0.1      -7.167328\n",
      "  -7.167328]\n",
      " [ 6.967328  6.967328 -0.1      -0.1       6.967328  6.967328 -0.1\n",
      "  -0.1     ]\n",
      " [ 6.967328  6.967328 -0.1      -0.1       6.967328  6.967328 -0.1\n",
      "  -0.1     ]]\n"
     ]
    }
   ],
   "source": [
    "print(homo_pairs[:,1,:,:][81])"
   ]
  },
  {
   "cell_type": "code",
   "execution_count": 4,
   "id": "e91a92a2-f076-46c8-835f-958569393703",
   "metadata": {},
   "outputs": [],
   "source": [
    "'''\n",
    "2. read coupling\n",
    "'''\n",
    "raw_data = np.loadtxt('data/cdft-V1V2.dat')\n",
    "c_homo = np.add(raw_data[:,2], raw_data[:,3]) * 1/2\n",
    "c_lumo = np.add(raw_data[:,4], raw_data[:,5]) * 1/2"
   ]
  },
  {
   "cell_type": "code",
   "execution_count": 5,
   "id": "dda7ef17-1e21-42a4-9daf-27feba4fc51b",
   "metadata": {
    "tags": []
   },
   "outputs": [],
   "source": [
    "# x1 = homo_pairs[:,0,:,:]\n",
    "# x2 = homo_pairs[:,1,:,:]\n",
    "# x3 = homo_pairs[:,2,:,:]\n",
    "# x4 = homo_pairs[:,3,:,:]\n",
    "# x = np.einsum('aij,aij,aij,aij->aij', x1, x2, x3, x4)\n",
    "\n",
    "train_homo_pairs = homo_pairs\n",
    "train_lumo_pairs = lumo_pairs[0:1200]\n",
    "\n",
    "train_c_homo = c_homo\n",
    "train_c_lumo = c_lumo[0:1200]\n",
    "\n",
    "test_homo_pairs = homo_pairs[1200:]\n",
    "test_lumo_pairs = lumo_pairs[1200:]\n",
    "\n",
    "test_c_homo = c_homo[1200:].reshape((len(c_homo[1200:]),1))\n",
    "test_c_lumo = c_lumo[1200:]"
   ]
  },
  {
   "cell_type": "code",
   "execution_count": null,
   "id": "938d30ba-e044-469f-b2eb-25f05497f346",
   "metadata": {
    "scrolled": true,
    "tags": []
   },
   "outputs": [
    {
     "name": "stderr",
     "output_type": "stream",
     "text": [
      "2022-08-31 17:56:26.747847: W tensorflow/stream_executor/platform/default/dso_loader.cc:64] Could not load dynamic library 'libcuda.so.1'; dlerror: libcuda.so.1: cannot open shared object file: No such file or directory\n",
      "2022-08-31 17:56:26.747897: W tensorflow/stream_executor/cuda/cuda_driver.cc:269] failed call to cuInit: UNKNOWN ERROR (303)\n",
      "2022-08-31 17:56:26.747931: I tensorflow/stream_executor/cuda/cuda_diagnostics.cc:156] kernel driver does not appear to be running on this host (Bai-Group): /proc/driver/nvidia/version does not exist\n",
      "2022-08-31 17:56:26.748230: I tensorflow/core/platform/cpu_feature_guard.cc:151] This TensorFlow binary is optimized with oneAPI Deep Neural Network Library (oneDNN) to use the following CPU instructions in performance-critical operations:  AVX2 AVX512F FMA\n",
      "To enable them in other operations, rebuild TensorFlow with the appropriate compiler flags.\n"
     ]
    },
    {
     "name": "stdout",
     "output_type": "stream",
     "text": [
      "training step:     0\n",
      "loss:  2.58589911\n",
      "training step: 10000\n",
      "loss:  17.9021606\n",
      "training step: 20000\n",
      "loss:  1.94324505\n",
      "training step: 30000\n",
      "loss:  0.940374374\n",
      "training step: 40000\n",
      "loss:  1.23319411\n",
      "training step: 50000\n",
      "loss:  0.188734\n",
      "training step: 60000\n",
      "loss:  0.314560831\n",
      "training step: 70000\n",
      "loss:  0.194959268\n",
      "training step: 80000\n",
      "loss:  0.117453665\n",
      "training step: 90000\n",
      "loss:  0.135973409\n",
      "training step: 100000\n",
      "loss:  0.0843102261\n",
      "training step: 110000\n",
      "loss:  0.110114403\n",
      "training step: 120000\n",
      "loss:  0.0746323839\n",
      "training step: 130000\n",
      "loss:  0.0632070675\n",
      "training step: 140000\n",
      "loss:  0.0439778753\n",
      "training step: 150000\n",
      "loss:  0.0500584058\n",
      "training step: 160000\n",
      "loss:  0.0261889081\n",
      "training step: 170000\n",
      "loss:  0.024518976\n",
      "training step: 180000\n",
      "loss:  0.0405441895\n",
      "training step: 190000\n",
      "loss:  0.0146192452\n"
     ]
    }
   ],
   "source": [
    "setting = {'activation':'tanh', 'nn_shape':(256,256,256), 'batch_size':1681, 'training_steps':500000,\\\n",
    "'learning_rate': 0.001, 'decay_rate':0.95, 'decay_per_steps':10000, 'save_step':10000, 'drop_rate':0, 'save_path':'./save',\\\n",
    "'seed':None, 'debug_traj': True}\n",
    "NN = nn.NN(setting_dict=setting)\n",
    "NN.train(train_homo_pairs,train_c_homo)"
   ]
  },
  {
   "cell_type": "code",
   "execution_count": null,
   "id": "b143ab74-322f-4b26-9ee5-7f7d433b2074",
   "metadata": {},
   "outputs": [],
   "source": [
    "import matplotlib.pyplot as plt\n",
    "%matplotlib inline\n",
    "%matplotlib widget\n",
    "\n",
    "print(np.mean((NN.model(train_homo_pairs, training=False)-c_homo)/c_homo))\n",
    "x = np.linspace(0, 4, 41)\n",
    "y = np.linspace(0, 4, 41)\n",
    "X, Y = np.meshgrid(x, y)\n",
    "Z = NN.model(train_homo_pairs, training=False).numpy().reshape((41,41))\n",
    "Z1 = c_homo.reshape((41,41))\n",
    "\n",
    "fix, ax = plt.subplots()\n",
    "ax.contourf(x,y, Z)\n",
    "ax.set_title('pred')"
   ]
  },
  {
   "cell_type": "code",
   "execution_count": null,
   "id": "dbeac264-1b61-4a8a-bb30-b368f5551f44",
   "metadata": {},
   "outputs": [],
   "source": [
    "NN.model.summary()"
   ]
  },
  {
   "cell_type": "code",
   "execution_count": null,
   "id": "b03c3106-5eca-4313-b014-b33b23c558f6",
   "metadata": {},
   "outputs": [],
   "source": [
    "print(homo[:,2])"
   ]
  },
  {
   "cell_type": "code",
   "execution_count": null,
   "id": "43ace6c2-030a-4f0d-aef2-2440da10b435",
   "metadata": {},
   "outputs": [],
   "source": []
  }
 ],
 "metadata": {
  "kernelspec": {
   "display_name": "venv",
   "language": "python",
   "name": "venv"
  },
  "language_info": {
   "codemirror_mode": {
    "name": "ipython",
    "version": 3
   },
   "file_extension": ".py",
   "mimetype": "text/x-python",
   "name": "python",
   "nbconvert_exporter": "python",
   "pygments_lexer": "ipython3",
   "version": "3.9.7"
  }
 },
 "nbformat": 4,
 "nbformat_minor": 5
}
