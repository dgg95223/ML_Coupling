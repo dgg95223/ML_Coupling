{
 "cells": [
  {
   "cell_type": "code",
   "execution_count": 1,
   "id": "65900bf3-c182-48a6-b6a0-efd08e340f58",
   "metadata": {},
   "outputs": [
    {
     "name": "stderr",
     "output_type": "stream",
     "text": [
      "2022-09-01 00:30:41.817918: W tensorflow/stream_executor/platform/default/dso_loader.cc:64] Could not load dynamic library 'libcudart.so.11.0'; dlerror: libcudart.so.11.0: cannot open shared object file: No such file or directory\n",
      "2022-09-01 00:30:41.818048: I tensorflow/stream_executor/cuda/cudart_stub.cc:29] Ignore above cudart dlerror if you do not have a GPU set up on your machine.\n"
     ]
    },
    {
     "data": {
      "text/plain": [
       "CompletedProcess(args='export TF_INTRA_OP_PARALLELISM_THREADS=12', returncode=0)"
      ]
     },
     "execution_count": 1,
     "metadata": {},
     "output_type": "execute_result"
    }
   ],
   "source": [
    "import mo_descriptor as md\n",
    "import nn_frame as nn\n",
    "import numpy as np\n",
    "import subprocess\n",
    "subprocess.run('export TF_INTRA_OP_PARALLELISM_THREADS=12', shell=True)"
   ]
  },
  {
   "cell_type": "code",
   "execution_count": 2,
   "id": "3819da32-6769-405e-8d3f-1fa9c336c9b4",
   "metadata": {
    "scrolled": true,
    "tags": []
   },
   "outputs": [],
   "source": [
    "'''\n",
    "prepare data_set\n",
    "1. make mo_pair descriptor\n",
    "'''\n",
    "# x_shift = np.arange(0, 4.1, 0.1)\n",
    "# y_shift = np.arange(0, 4.1, 0.1)\n",
    "# z_shift = np.zeros(x_shift.shape)\n",
    "# # the original mo, e.g. homo\n",
    "# homo = md.MO_descriptor('data/homo-s0.cube').make()\n",
    "# lumo = md.MO_descriptor('data/lumo-s0.cube').make()\n",
    "\n",
    "# # for the original pair of one mo and itself\n",
    "# homo_pair = md.MO_pair_descriptor(homo, homo).make()\n",
    "# lumo_pair = md.MO_pair_descriptor(lumo, lumo).make()\n",
    "\n",
    "# homo_pairs = np.zeros((len(x_shift)*len(y_shift),) + homo_pair.shape)\n",
    "# lumo_pairs = np.zeros((len(x_shift)*len(y_shif  t),) + lumo_pair.shape)\n",
    "\n",
    "# homo_ = np.zeros(homo.shape)\n",
    "\n",
    "# for ii, i in enumerate(x_shift):\n",
    "#     for jj, j in enumerate(y_shift):\n",
    "#         idx = ii * len(y_shift) + jj\n",
    "#         homo_[:,0] = np.add(homo[:,0],0)\n",
    "#         homo_[:,1] = np.add(homo[:,1],i)\n",
    "#         homo_[:,2] = np.add(homo[:,2],j)\n",
    "#         homo_[:,3] = np.add(homo[:,3],0)\n",
    "        \n",
    "#         homo_pair_ = md.MO_pair_descriptor(homo, homo_).make()\n",
    "#         homo_pairs[idx] = homo_pair_\n",
    "\n",
    "        \n",
    "# def dir_mat(mat):\n",
    "#     mat_shape = mat.shape\n",
    "#     mat_ = mat.flatten()\n",
    "#     for ii, i in enumerate(mat_):\n",
    "#         if i > 1e-6:\n",
    "#             mat_[ii] = 1\n",
    "#         elif (i < 1e-6) and (i > -1e-6):\n",
    "#             mat_[ii] = -1\n",
    "#         elif i < -1e-6:\n",
    "#             mat_[ii] = -1\n",
    "#     return mat_.reshape(mat_shape)\n",
    "\n",
    "# direct = dir_mat(homo_pair)\n",
    "\n",
    "# # for the shifted pair\n",
    "# homo_pairs = np.zeros((len(x_shift)*len(y_shift),) + homo_pair.shape)\n",
    "# lumo_pairs = np.zeros((len(x_shift)*len(y_shift),) + lumo_pair.shape)\n",
    "# for ii, i in enumerate(x_shift):\n",
    "#     for jj, j in enumerate(y_shift):\n",
    "#         idx = ii * len(y_shift) + jj\n",
    "#         homo_pairs[idx][0] = homo_pair[0]\n",
    "#         homo_pairs[idx][1] = np.add(homo_pair[1],i*direct[1])\n",
    "#         homo_pairs[idx][2] = np.add(homo_pair[2],j*direct[2])\n",
    "#         homo_pairs[idx][3] = homo_pair[3]\n",
    "#         lumo_pairs[idx][0] = lumo_pair[0]\n",
    "#         lumo_pairs[idx][1] = np.add(lumo_pair[1],i)\n",
    "#         lumo_pairs[idx][2] = np.add(lumo_pair[2],j)\n",
    "#         lumo_pairs[idx][3] = lumo_pair[3]\n",
    "# np.save('homo_homo_pair.npy', homo_pairs)\n",
    "# np.save('lumo_lumo_pair.npy', lumo_pairs)\n",
    "homo_pairs = np.load('homo_homo_pair.npy')\n",
    "lumo_pairs = np.load('lumo_lumo_pair.npy')"
   ]
  },
  {
   "cell_type": "code",
   "execution_count": 3,
   "id": "1b17be6b-d152-4b5d-9405-dec3f617c082",
   "metadata": {},
   "outputs": [
    {
     "name": "stdout",
     "output_type": "stream",
     "text": [
      "[[-0.1      -0.1      -7.167328 -7.167328 -0.1      -0.1      -7.167328\n",
      "  -7.167328]\n",
      " [-0.1      -0.1      -7.167328 -7.167328 -0.1      -0.1      -7.167328\n",
      "  -7.167328]\n",
      " [ 6.967328  6.967328 -0.1      -0.1       6.967328  6.967328 -0.1\n",
      "  -0.1     ]\n",
      " [ 6.967328  6.967328 -0.1      -0.1       6.967328  6.967328 -0.1\n",
      "  -0.1     ]\n",
      " [-0.1      -0.1      -7.167328 -7.167328 -0.1      -0.1      -7.167328\n",
      "  -7.167328]\n",
      " [-0.1      -0.1      -7.167328 -7.167328 -0.1      -0.1      -7.167328\n",
      "  -7.167328]\n",
      " [ 6.967328  6.967328 -0.1      -0.1       6.967328  6.967328 -0.1\n",
      "  -0.1     ]\n",
      " [ 6.967328  6.967328 -0.1      -0.1       6.967328  6.967328 -0.1\n",
      "  -0.1     ]]\n"
     ]
    }
   ],
   "source": [
    "print(homo_pairs[:,1,:,:][81])"
   ]
  },
  {
   "cell_type": "code",
   "execution_count": 4,
   "id": "e91a92a2-f076-46c8-835f-958569393703",
   "metadata": {},
   "outputs": [],
   "source": [
    "'''\n",
    "2. read coupling\n",
    "'''\n",
    "raw_data = np.loadtxt('data/cdft-V1V2.dat')\n",
    "c_homo = np.add(raw_data[:,2], raw_data[:,3]) * 1/2\n",
    "c_lumo = np.add(raw_data[:,4], raw_data[:,5]) * 1/2"
   ]
  },
  {
   "cell_type": "code",
   "execution_count": 5,
   "id": "dda7ef17-1e21-42a4-9daf-27feba4fc51b",
   "metadata": {
    "tags": []
   },
   "outputs": [],
   "source": [
    "# x1 = homo_pairs[:,0,:,:]\n",
    "# x2 = homo_pairs[:,1,:,:]\n",
    "# x3 = homo_pairs[:,2,:,:]\n",
    "# x4 = homo_pairs[:,3,:,:]\n",
    "# x = np.einsum('aij,aij,aij,aij->aij', x1, x2, x3, x4)\n",
    "\n",
    "train_homo_pairs = homo_pairs\n",
    "train_lumo_pairs = lumo_pairs[0:1200]\n",
    "\n",
    "train_c_homo = c_homo\n",
    "train_c_lumo = c_lumo[0:1200]\n",
    "\n",
    "test_homo_pairs = homo_pairs[1200:]\n",
    "test_lumo_pairs = lumo_pairs[1200:]\n",
    "\n",
    "test_c_homo = c_homo[1200:].reshape((len(c_homo[1200:]),1))\n",
    "test_c_lumo = c_lumo[1200:]"
   ]
  },
  {
   "cell_type": "code",
   "execution_count": null,
   "id": "938d30ba-e044-469f-b2eb-25f05497f346",
   "metadata": {
    "scrolled": true,
    "tags": []
   },
   "outputs": [
    {
     "name": "stdout",
     "output_type": "stream",
     "text": [
      "training step:     0\n",
      "loss:  0.668676913\n"
     ]
    },
    {
     "name": "stderr",
     "output_type": "stream",
     "text": [
      "2022-09-01 08:19:26.525619: W tensorflow/core/data/root_dataset.cc:163] Optimization loop failed: CANCELLED: Operation was cancelled\n"
     ]
    },
    {
     "name": "stdout",
     "output_type": "stream",
     "text": [
      "training step: 10000\n",
      "loss:  5.91205549\n",
      "training step: 20000\n",
      "loss:  20.4243336\n",
      "training step: 30000\n",
      "loss:  4.36560249\n",
      "training step: 40000\n",
      "loss:  0.340139419\n",
      "training step: 50000\n",
      "loss:  0.431935191\n",
      "training step: 60000\n",
      "loss:  0.603156686\n",
      "training step: 70000\n",
      "loss:  0.247492984\n",
      "training step: 80000\n",
      "loss:  0.416487873\n",
      "training step: 90000\n",
      "loss:  0.182907134\n",
      "training step: 100000\n",
      "loss:  0.147859305\n",
      "training step: 110000\n",
      "loss:  0.128409475\n",
      "training step: 120000\n",
      "loss:  0.127662718\n",
      "training step: 130000\n",
      "loss:  0.0908747539\n",
      "training step: 140000\n",
      "loss:  0.0860987753\n",
      "training step: 150000\n",
      "loss:  0.0650970787\n",
      "training step: 160000\n",
      "loss:  0.0949391797\n",
      "training step: 170000\n",
      "loss:  0.0312502086\n",
      "training step: 180000\n",
      "loss:  0.0573898181\n",
      "training step: 190000\n",
      "loss:  0.046763353\n",
      "training step: 200000\n",
      "loss:  0.0336635187\n",
      "training step: 210000\n",
      "loss:  0.0286808573\n",
      "training step: 220000\n",
      "loss:  0.0389690511\n",
      "training step: 230000\n",
      "loss:  0.0249157138\n",
      "training step: 240000\n",
      "loss:  0.0243452396\n",
      "training step: 250000\n",
      "loss:  0.0181251373\n",
      "training step: 260000\n",
      "loss:  0.0151834311\n",
      "training step: 270000\n",
      "loss:  0.0160854626\n",
      "training step: 280000\n",
      "loss:  0.0174146369\n",
      "training step: 290000\n",
      "loss:  0.0133085186\n",
      "training step: 300000\n",
      "loss:  0.00692056\n",
      "training step: 310000\n",
      "loss:  0.0122946\n",
      "training step: 320000\n",
      "loss:  0.0113528417\n",
      "training step: 330000\n",
      "loss:  0.00728737144\n",
      "training step: 340000\n",
      "loss:  0.00730163744\n",
      "training step: 350000\n",
      "loss:  0.00736358762\n",
      "training step: 360000\n",
      "loss:  0.00767809711\n",
      "training step: 370000\n",
      "loss:  0.00591080543\n"
     ]
    }
   ],
   "source": [
    "setting = {'activation':'tanh', 'nn_shape':(256,256,256), 'batch_size':1800, 'training_steps':5000000,\\\n",
    "'learning_rate': 0.003, 'decay_rate':0.95, 'decay_per_steps':10000, 'save_step':10000, 'drop_rate':0, 'save_path':'./save',\\\n",
    "'seed':None, 'debug_traj': True}\n",
    "NN = nn.NN(setting_dict=setting)\n",
    "NN.train(train_homo_pairs,train_c_homo)"
   ]
  },
  {
   "cell_type": "code",
   "execution_count": 7,
   "id": "b143ab74-322f-4b26-9ee5-7f7d433b2074",
   "metadata": {},
   "outputs": [
    {
     "name": "stdout",
     "output_type": "stream",
     "text": [
      "1.1631279\n"
     ]
    },
    {
     "data": {
      "text/plain": [
       "Text(0.5, 1.0, 'pred')"
      ]
     },
     "execution_count": 7,
     "metadata": {},
     "output_type": "execute_result"
    },
    {
     "data": {
      "application/vnd.jupyter.widget-view+json": {
       "model_id": "6ac23caf5322473e9d3d73d5ed0017aa",
       "version_major": 2,
       "version_minor": 0
      },
      "image/png": "[encoded data removed]",
      "text/html": [
       "\n",
       "            <div style=\"display: inline-block;\">\n",
       "                <div class=\"jupyter-widgets widget-label\" style=\"text-align: center;\">\n",
       "                    Figure\n",
       "                </div>\n",
       "                <img src='data:image/png;base64,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' width=640.0/>\n",
       "            </div>\n",
       "        "
      ],
      "text/plain": [
       "Canvas(toolbar=Toolbar(toolitems=[('Home', 'Reset original view', 'home', 'home'), ('Back', 'Back to previous …"
      ]
     },
     "metadata": {},
     "output_type": "display_data"
    }
   ],
   "source": [
    "import matplotlib.pyplot as plt\n",
    "%matplotlib inline\n",
    "%matplotlib widget\n",
    "\n",
    "print(np.mean((NN.model(train_homo_pairs, training=False)-c_homo)/c_homo))\n",
    "x = np.linspace(0, 4, 41)\n",
    "y = np.linspace(0, 4, 41)\n",
    "X, Y = np.meshgrid(x, y)\n",
    "Z = NN.model(train_homo_pairs, training=False).numpy().reshape((41,41))\n",
    "Z1 = c_homo.reshape((41,41))\n",
    "\n",
    "fix, ax = plt.subplots()\n",
    "ax.contourf(x,y, Z)\n",
    "ax.set_title('pred')"
   ]
  },
  {
   "cell_type": "code",
   "execution_count": 8,
   "id": "dbeac264-1b61-4a8a-bb30-b368f5551f44",
   "metadata": {},
   "outputs": [
    {
     "name": "stdout",
     "output_type": "stream",
     "text": [
      "Model: \"mlp\"\n",
      "_________________________________________________________________\n",
      " Layer (type)                Output Shape              Param #   \n",
      "=================================================================\n",
      " flatten (Flatten)           multiple                  0         \n",
      "                                                                 \n",
      " flatten_1 (Flatten)         multiple                  0         \n",
      "                                                                 \n",
      " flatten_2 (Flatten)         multiple                  0         \n",
      "                                                                 \n",
      " flatten_3 (Flatten)         multiple                  0         \n",
      "                                                                 \n",
      " concatenate (Concatenate)   multiple                  0         \n",
      "                                                                 \n",
      " batch_normalization (BatchN  multiple                 1024      \n",
      " ormalization)                                                   \n",
      "                                                                 \n",
      " batch_normalization_1 (Batc  multiple                 1024      \n",
      " hNormalization)                                                 \n",
      "                                                                 \n",
      " batch_normalization_2 (Batc  multiple                 1024      \n",
      " hNormalization)                                                 \n",
      "                                                                 \n",
      " dense (Dense)               multiple                  65792     \n",
      "                                                                 \n",
      " dense_1 (Dense)             multiple                  65792     \n",
      "                                                                 \n",
      " dense_2 (Dense)             multiple                  65792     \n",
      "                                                                 \n",
      " dense_3 (Dense)             multiple                  257       \n",
      "                                                                 \n",
      "=================================================================\n",
      "Total params: 200,705\n",
      "Trainable params: 199,169\n",
      "Non-trainable params: 1,536\n",
      "_________________________________________________________________\n"
     ]
    }
   ],
   "source": [
    "NN.model.summary()"
   ]
  },
  {
   "cell_type": "code",
   "execution_count": 9,
   "id": "b03c3106-5eca-4313-b014-b33b23c558f6",
   "metadata": {},
   "outputs": [
    {
     "ename": "NameError",
     "evalue": "name 'homo' is not defined",
     "output_type": "error",
     "traceback": [
      "\u001b[0;31m---------------------------------------------------------------------------\u001b[0m",
      "\u001b[0;31mNameError\u001b[0m                                 Traceback (most recent call last)",
      "\u001b[0;32m/tmp/ipykernel_27459/2551038806.py\u001b[0m in \u001b[0;36m<module>\u001b[0;34m\u001b[0m\n\u001b[0;32m----> 1\u001b[0;31m \u001b[0mprint\u001b[0m\u001b[0;34m(\u001b[0m\u001b[0mhomo\u001b[0m\u001b[0;34m[\u001b[0m\u001b[0;34m:\u001b[0m\u001b[0;34m,\u001b[0m\u001b[0;36m2\u001b[0m\u001b[0;34m]\u001b[0m\u001b[0;34m)\u001b[0m\u001b[0;34m\u001b[0m\u001b[0;34m\u001b[0m\u001b[0m\n\u001b[0m",
      "\u001b[0;31mNameError\u001b[0m: name 'homo' is not defined"
     ]
    }
   ],
   "source": [
    "print(homo[:,2])"
   ]
  },
  {
   "cell_type": "code",
   "execution_count": null,
   "id": "43ace6c2-030a-4f0d-aef2-2440da10b435",
   "metadata": {},
   "outputs": [],
   "source": []
  }
 ],
 "metadata": {
  "kernelspec": {
   "display_name": "venv",
   "language": "python",
   "name": "venv"
  },
  "language_info": {
   "codemirror_mode": {
    "name": "ipython",
    "version": 3
   },
   "file_extension": ".py",
   "mimetype": "text/x-python",
   "name": "python",
   "nbconvert_exporter": "python",
   "pygments_lexer": "ipython3",
   "version": "3.7.11"
  }
 },
 "nbformat": 4,
 "nbformat_minor": 5
}
