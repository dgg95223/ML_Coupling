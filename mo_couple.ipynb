{
 "cells": [
  {
   "cell_type": "code",
   "execution_count": 1,
   "id": "65900bf3-c182-48a6-b6a0-efd08e340f58",
   "metadata": {},
   "outputs": [
    {
     "name": "stderr",
     "output_type": "stream",
     "text": [
      "2022-07-29 09:07:24.706158: W tensorflow/stream_executor/platform/default/dso_loader.cc:64] Could not load dynamic library 'libcudart.so.11.0'; dlerror: libcudart.so.11.0: cannot open shared object file: No such file or directory\n",
      "2022-07-29 09:07:24.706305: I tensorflow/stream_executor/cuda/cudart_stub.cc:29] Ignore above cudart dlerror if you do not have a GPU set up on your machine.\n"
     ]
    },
    {
     "data": {
      "text/plain": [
       "CompletedProcess(args='export TF_INTRA_OP_PARALLELISM_THREADS=12', returncode=0)"
      ]
     },
     "execution_count": 1,
     "metadata": {},
     "output_type": "execute_result"
    }
   ],
   "source": [
    "import mo_descriptor as md\n",
    "import nn_frame as nn\n",
    "import numpy as np\n",
    "import subprocess\n",
    "subprocess.run('export TF_INTRA_OP_PARALLELISM_THREADS=12', shell=True)"
   ]
  },
  {
   "cell_type": "code",
   "execution_count": 2,
   "id": "3819da32-6769-405e-8d3f-1fa9c336c9b4",
   "metadata": {},
   "outputs": [],
   "source": [
    "'''\n",
    "prepare data_set\n",
    "1. make mo_pair descriptor\n",
    "'''\n",
    "# x_shift = np.arange(0, 4.1, 0.1)\n",
    "# y_shift = np.arange(0, 4.1, 0.1)\n",
    "# z_shift = np.zeros(x_shift.shape)\n",
    "# # the original mo, e.g. homo\n",
    "# homo = md.MO_descriptor('data/homo-s0.cube').make()\n",
    "# lumo = md.MO_descriptor('data/lumo-s0.cube').make()\n",
    "\n",
    "# # for the original pair of one mo and itself\n",
    "# homo_pair = md.MO_pair_descriptor(homo, homo).make()\n",
    "# lumo_pair = md.MO_pair_descriptor(lumo, lumo).make()\n",
    "\n",
    "# # for the shifted pair\n",
    "# homo_pairs = np.zeros((len(x_shift)*len(y_shift),) + homo_pair.shape)\n",
    "# lumo_pairs = np.zeros((len(x_shift)*len(y_shift),) + lumo_pair.shape)\n",
    "# for ii, i in enumerate(x_shift):\n",
    "#     for jj, j in enumerate(y_shift):\n",
    "#         idx = ii * len(y_shift) + jj\n",
    "#         homo_pairs[idx][0] = homo_pair[0]\n",
    "#         homo_pairs[idx][1] = np.add(homo_pair[1],i)\n",
    "#         homo_pairs[idx][2] = np.add(homo_pair[2],j)\n",
    "#         homo_pairs[idx][3] = homo_pair[3]\n",
    "#         lumo_pairs[idx][0] = lumo_pair[0]\n",
    "#         lumo_pairs[idx][1] = np.add(lumo_pair[1],i)\n",
    "#         lumo_pairs[idx][2] = np.add(lumo_pair[2],j)\n",
    "#         lumo_pairs[idx][3] = lumo_pair[3]\n",
    "# np.save('homo_homo_pair.npy', homo_pairs)\n",
    "# np.save('lumo_lumo_pair.npy', lumo_pairs)\n",
    "homo_pairs = np.load('homo_homo_pair.npy')\n",
    "lumo_pairs = np.load('lumo_lumo_pair.npy')"
   ]
  },
  {
   "cell_type": "code",
   "execution_count": 3,
   "id": "e91a92a2-f076-46c8-835f-958569393703",
   "metadata": {},
   "outputs": [],
   "source": [
    "'''\n",
    "2. read coupling\n",
    "'''\n",
    "raw_data = np.loadtxt('data/cdft-V1V2.dat')\n",
    "c_homo = np.add(raw_data[:,2], raw_data[:,3]) * 1/2\n",
    "c_lumo = np.add(raw_data[:,4], raw_data[:,5]) * 1/2"
   ]
  },
  {
   "cell_type": "code",
   "execution_count": 4,
   "id": "dda7ef17-1e21-42a4-9daf-27feba4fc51b",
   "metadata": {},
   "outputs": [],
   "source": [
    "x1 = homo_pairs[:,0,:,:]\n",
    "x2 = homo_pairs[:,1,:,:]\n",
    "x3 = homo_pairs[:,2,:,:]\n",
    "x4 = homo_pairs[:,3,:,:]\n",
    "x = np.einsum('aij,aij,aij,aij->aij', x1, x2, x3, x4)\n",
    "\n",
    "train_homo_pairs = x\n",
    "train_lumo_pairs = lumo_pairs[0:1200]\n",
    "\n",
    "train_c_homo = c_homo\n",
    "train_c_lumo = c_lumo[0:1200]\n",
    "\n",
    "test_homo_pairs = homo_pairs[1200:]\n",
    "test_lumo_pairs = lumo_pairs[1200:]\n",
    "\n",
    "test_c_homo = c_homo[1200:].reshape((len(c_homo[1200:]),1))\n",
    "test_c_lumo = c_lumo[1200:]"
   ]
  },
  {
   "cell_type": "code",
   "execution_count": null,
   "id": "e4b45051-01ee-4a66-832b-5b68b51863c6",
   "metadata": {
    "scrolled": true,
    "tags": []
   },
   "outputs": [
    {
     "name": "stdout",
     "output_type": "stream",
     "text": [
      "training step:     0, loss:  0.690523446\n"
     ]
    }
   ],
   "source": [
    "setting = {'activation':'tanh', 'nn_shape':(128,128,128), 'batch_size':18600, 'training_steps':30000,\\\n",
    "'learning_rate': 0.001, 'decay_rate':0.95, 'decay_per_steps':1000, 'save_step':1000, 'drop_rate':0.5, 'save_path':'./save/model',\\\n",
    "'seed':1}\n",
    "NN = nn.NN(setting_dict=setting)\n",
    "NN.train(train_homo_pairs,train_c_homo)\n",
    "# NN.test(test_homo_pairs, test_c_homo)"
   ]
  },
  {
   "cell_type": "code",
   "execution_count": 21,
   "id": "b143ab74-322f-4b26-9ee5-7f7d433b2074",
   "metadata": {},
   "outputs": [
    {
     "name": "stdout",
     "output_type": "stream",
     "text": [
      "2.238216\n",
      "(41, 41)\n"
     ]
    },
    {
     "data": {
      "text/plain": [
       "Text(0.5, 1.0, 'pred')"
      ]
     },
     "execution_count": 21,
     "metadata": {},
     "output_type": "execute_result"
    },
    {
     "data": {
      "application/vnd.jupyter.widget-view+json": {
       "model_id": "8426dc544a5c43149690b35f00531ed6",
       "version_major": 2,
       "version_minor": 0
      },
      "image/png": "[encoded data removed]",
      "text/html": [
       "\n",
       "            <div style=\"display: inline-block;\">\n",
       "                <div class=\"jupyter-widgets widget-label\" style=\"text-align: center;\">\n",
       "                    Figure\n",
       "                </div>\n",
       "                <img src='data:image/png;base64,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' width=432.0/>\n",
       "            </div>\n",
       "        "
      ],
      "text/plain": [
       "Canvas(toolbar=Toolbar(toolitems=[('Home', 'Reset original view', 'home', 'home'), ('Back', 'Back to previous …"
      ]
     },
     "metadata": {},
     "output_type": "display_data"
    }
   ],
   "source": [
    "import matplotlib.pyplot as plt\n",
    "%matplotlib inline\n",
    "%matplotlib widget\n",
    "\n",
    "print(np.mean((NN.model(train_homo_pairs, training=False)-c_homo)/c_homo))\n",
    "x = np.linspace(0, 4, 41)\n",
    "y = np.linspace(0, 4, 41)\n",
    "X, Y = np.meshgrid(x, y)\n",
    "Z = NN.model(train_homo_pairs, training=False).numpy().reshape((41,41))\n",
    "Z1 = c_homo.reshape((41,41))\n",
    "print(Z.shape)\n",
    "\n",
    "fix, ax = plt.subplots()\n",
    "ax.contourf(x,y, Z)\n",
    "ax.set_title('pred')"
   ]
  },
  {
   "cell_type": "code",
   "execution_count": null,
   "id": "dbeac264-1b61-4a8a-bb30-b368f5551f44",
   "metadata": {},
   "outputs": [],
   "source": []
  }
 ],
 "metadata": {
  "kernelspec": {
   "display_name": "venv",
   "language": "python",
   "name": "venv"
  },
  "language_info": {
   "codemirror_mode": {
    "name": "ipython",
    "version": 3
   },
   "file_extension": ".py",
   "mimetype": "text/x-python",
   "name": "python",
   "nbconvert_exporter": "python",
   "pygments_lexer": "ipython3",
   "version": "3.7.11"
  }
 },
 "nbformat": 4,
 "nbformat_minor": 5
}
