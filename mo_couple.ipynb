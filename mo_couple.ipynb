{
 "cells": [
  {
   "cell_type": "code",
   "execution_count": 1,
   "id": "65900bf3-c182-48a6-b6a0-efd08e340f58",
   "metadata": {},
   "outputs": [
    {
     "name": "stderr",
     "output_type": "stream",
     "text": [
      "2022-07-22 17:38:25.894933: W tensorflow/stream_executor/platform/default/dso_loader.cc:64] Could not load dynamic library 'libcudart.so.11.0'; dlerror: libcudart.so.11.0: cannot open shared object file: No such file or directory\n",
      "2022-07-22 17:38:25.894979: I tensorflow/stream_executor/cuda/cudart_stub.cc:29] Ignore above cudart dlerror if you do not have a GPU set up on your machine.\n"
     ]
    },
    {
     "data": {
      "text/plain": [
       "CompletedProcess(args='export TF_INTRA_OP_PARALLELISM_THREADS=12', returncode=0)"
      ]
     },
     "execution_count": 1,
     "metadata": {},
     "output_type": "execute_result"
    }
   ],
   "source": [
    "import mo_descriptor as md\n",
    "import nn_frame as nn\n",
    "import numpy as np\n",
    "import subprocess\n",
    "subprocess.run('export TF_INTRA_OP_PARALLELISM_THREADS=12', shell=True)"
   ]
  },
  {
   "cell_type": "code",
   "execution_count": 2,
   "id": "3819da32-6769-405e-8d3f-1fa9c336c9b4",
   "metadata": {},
   "outputs": [],
   "source": [
    "'''\n",
    "prepare data_set\n",
    "1. make mo_pair descriptor\n",
    "'''\n",
    "# x_shift = np.arange(0, 4.1, 0.1)\n",
    "# y_shift = np.arange(0, 4.1, 0.1)\n",
    "# z_shift = np.zeros(x_shift.shape)\n",
    "# # the original mo, e.g. homo\n",
    "# homo = md.MO_descriptor('data/homo-s0.cube').make()\n",
    "# lumo = md.MO_descriptor('data/lumo-s0.cube').make()\n",
    "\n",
    "# # for the original pair of one mo and itself\n",
    "# homo_pair = md.MO_pair_descriptor(homo, homo).make()\n",
    "# lumo_pair = md.MO_pair_descriptor(lumo, lumo).make()\n",
    "\n",
    "# # for the shifted pair\n",
    "# homo_pairs = np.zeros((len(x_shift)*len(y_shift),) + homo_pair.shape)\n",
    "# lumo_pairs = np.zeros((len(x_shift)*len(y_shift),) + lumo_pair.shape)\n",
    "# for ii, i in enumerate(x_shift):\n",
    "#     for jj, j in enumerate(y_shift):\n",
    "#         idx = ii * len(y_shift) + jj\n",
    "#         homo_pairs[idx][0] = homo_pair[0]\n",
    "#         homo_pairs[idx][1] = np.add(homo_pair[1],i)\n",
    "#         homo_pairs[idx][2] = np.add(homo_pair[2],j)\n",
    "#         homo_pairs[idx][3] = homo_pair[3]\n",
    "#         lumo_pairs[idx][0] = lumo_pair[0]\n",
    "#         lumo_pairs[idx][1] = np.add(lumo_pair[1],i)\n",
    "#         lumo_pairs[idx][2] = np.add(lumo_pair[2],j)\n",
    "#         lumo_pairs[idx][3] = lumo_pair[3]\n",
    "# np.save('homo_homo_pair.npy', homo_pairs)\n",
    "# np.save('lumo_lumo_pair.npy', lumo_pairs)\n",
    "homo_pairs = np.load('homo_homo_pair.npy')\n",
    "lumo_pairs = np.load('lumo_lumo_pair.npy')"
   ]
  },
  {
   "cell_type": "code",
   "execution_count": 3,
   "id": "e91a92a2-f076-46c8-835f-958569393703",
   "metadata": {},
   "outputs": [],
   "source": [
    "'''\n",
    "2. read coupling\n",
    "'''\n",
    "raw_data = np.loadtxt('data/cdft-V1V2.dat')\n",
    "c_homo = np.add(raw_data[:,2], raw_data[:,3]) * 1/2\n",
    "c_lumo = np.add(raw_data[:,4], raw_data[:,5]) * 1/2"
   ]
  },
  {
   "cell_type": "code",
   "execution_count": 4,
   "id": "dda7ef17-1e21-42a4-9daf-27feba4fc51b",
   "metadata": {},
   "outputs": [],
   "source": [
    "train_homo_pairs = homo_pairs\n",
    "train_lumo_pairs = lumo_pairs[0:1200]\n",
    "\n",
    "train_c_homo = c_homo\n",
    "train_c_lumo = c_lumo[0:1200]\n",
    "\n",
    "test_homo_pairs = homo_pairs[1200:]\n",
    "test_lumo_pairs = lumo_pairs[1200:]\n",
    "\n",
    "test_c_homo = c_homo[1200:].reshape((len(c_homo[1200:]),1))\n",
    "test_c_lumo = c_lumo[1200:]"
   ]
  },
  {
   "cell_type": "code",
   "execution_count": null,
   "id": "e4b45051-01ee-4a66-832b-5b68b51863c6",
   "metadata": {
    "scrolled": true,
    "tags": []
   },
   "outputs": [
    {
     "name": "stderr",
     "output_type": "stream",
     "text": [
      "2022-07-22 17:38:36.209908: W tensorflow/stream_executor/platform/default/dso_loader.cc:64] Could not load dynamic library 'libcuda.so.1'; dlerror: libcuda.so.1: cannot open shared object file: No such file or directory\n",
      "2022-07-22 17:38:36.209957: W tensorflow/stream_executor/cuda/cuda_driver.cc:269] failed call to cuInit: UNKNOWN ERROR (303)\n",
      "2022-07-22 17:38:36.210005: I tensorflow/stream_executor/cuda/cuda_diagnostics.cc:156] kernel driver does not appear to be running on this host (Bai-Group): /proc/driver/nvidia/version does not exist\n",
      "2022-07-22 17:38:36.210366: I tensorflow/core/platform/cpu_feature_guard.cc:151] This TensorFlow binary is optimized with oneAPI Deep Neural Network Library (oneDNN) to use the following CPU instructions in performance-critical operations:  AVX2 AVX512F FMA\n",
      "To enable them in other operations, rebuild TensorFlow with the appropriate compiler flags.\n"
     ]
    },
    {
     "name": "stdout",
     "output_type": "stream",
     "text": [
      "training step:     0, loss:  0.704294086\n",
      "training step:  1000, loss:  0.099260427\n",
      "training step:  2000, loss:  0.083408661\n",
      "training step:  3000, loss:  0.075999275\n",
      "training step:  4000, loss:  0.083148822\n",
      "training step:  5000, loss:  0.068800919\n",
      "training step:  6000, loss:  0.083688356\n",
      "training step:  7000, loss:  0.080455631\n",
      "training step:  8000, loss:  0.087241627\n",
      "training step:  9000, loss:  0.089851886\n",
      "training step: 10000, loss:  0.117395140\n",
      "training step: 11000, loss:  0.128052622\n",
      "training step: 12000, loss:  0.144637018\n",
      "training step: 13000, loss:  0.155440167\n",
      "training step: 14000, loss:  0.174449384\n",
      "training step: 15000, loss:  0.178013071\n",
      "training step: 16000, loss:  0.181448430\n",
      "training step: 17000, loss:  0.181282669\n",
      "training step: 18000, loss:  0.185390413\n",
      "training step: 19000, loss:  0.185917124\n",
      "training step: 20000, loss:  0.179700747\n",
      "training step: 21000, loss:  0.171150118\n",
      "training step: 22000, loss:  0.164141446\n",
      "training step: 23000, loss:  0.145023838\n",
      "training step: 24000, loss:  0.134183660\n",
      "training step: 25000, loss:  0.122925855\n",
      "training step: 26000, loss:  0.113476634\n",
      "training step: 27000, loss:  0.104428098\n",
      "training step: 28000, loss:  0.095213220\n",
      "training step: 29000, loss:  0.085582383\n",
      "training step: 30000, loss:  0.073217563\n",
      "training step: 31000, loss:  0.063912190\n",
      "training step: 32000, loss:  0.056270879\n",
      "training step: 33000, loss:  0.053472292\n",
      "training step: 34000, loss:  0.053476576\n",
      "training step: 35000, loss:  0.052233078\n",
      "training step: 36000, loss:  0.051706281\n",
      "training step: 37000, loss:  0.051364996\n",
      "training step: 38000, loss:  0.051165760\n",
      "training step: 39000, loss:  0.050513465\n",
      "training step: 40000, loss:  0.049747847\n",
      "training step: 41000, loss:  0.049342792\n",
      "training step: 42000, loss:  0.048770953\n",
      "training step: 43000, loss:  0.047915086\n",
      "training step: 44000, loss:  0.047208223\n",
      "training step: 45000, loss:  0.046903323\n",
      "training step: 46000, loss:  0.046870872\n",
      "training step: 47000, loss:  0.046653856\n",
      "training step: 48000, loss:  0.046183236\n",
      "training step: 49000, loss:  0.045823891\n",
      "training step: 50000, loss:  0.045644101\n",
      "training step: 51000, loss:  0.045300383\n",
      "training step: 52000, loss:  0.044972055\n",
      "training step: 53000, loss:  0.044543259\n",
      "training step: 54000, loss:  0.044058751\n",
      "training step: 55000, loss:  0.043792509\n",
      "training step: 56000, loss:  0.043482535\n",
      "training step: 57000, loss:  0.043243386\n",
      "training step: 58000, loss:  0.043048639\n",
      "training step: 59000, loss:  0.042830694\n",
      "training step: 60000, loss:  0.042703964\n",
      "training step: 61000, loss:  0.042562146\n",
      "training step: 62000, loss:  0.042440429\n",
      "training step: 63000, loss:  0.042399537\n",
      "training step: 64000, loss:  0.042354800\n",
      "training step: 65000, loss:  0.042284679\n",
      "training step: 66000, loss:  0.042153668\n",
      "training step: 67000, loss:  0.041994214\n",
      "training step: 68000, loss:  0.041843347\n",
      "training step: 69000, loss:  0.041783523\n",
      "training step: 70000, loss:  0.041771207\n",
      "training step: 71000, loss:  0.041719921\n",
      "training step: 72000, loss:  0.041655663\n",
      "training step: 73000, loss:  0.041594848\n",
      "training step: 74000, loss:  0.041559935\n",
      "training step: 75000, loss:  0.041551512\n",
      "training step: 76000, loss:  0.041501291\n",
      "training step: 77000, loss:  0.041468207\n",
      "training step: 78000, loss:  0.041441806\n",
      "training step: 79000, loss:  0.041417636\n",
      "training step: 80000, loss:  0.041397538\n",
      "training step: 81000, loss:  0.041387312\n",
      "training step: 82000, loss:  0.041361682\n",
      "training step: 83000, loss:  0.041323137\n",
      "training step: 84000, loss:  0.041302361\n",
      "training step: 85000, loss:  0.041286398\n",
      "training step: 86000, loss:  0.041284051\n",
      "training step: 87000, loss:  0.041272219\n",
      "training step: 88000, loss:  0.041265789\n",
      "training step: 89000, loss:  0.041261412\n",
      "training step: 90000, loss:  0.041252114\n",
      "training step: 91000, loss:  0.041245464\n",
      "training step: 92000, loss:  0.041237965\n",
      "training step: 93000, loss:  0.041229121\n",
      "training step: 94000, loss:  0.041216802\n",
      "training step: 95000, loss:  0.041208513\n",
      "training step: 96000, loss:  0.041203752\n",
      "training step: 97000, loss:  0.041199230\n",
      "training step: 98000, loss:  0.041194987\n",
      "training step: 99000, loss:  0.041190933\n",
      "training step: 100000, loss:  0.041189391\n",
      "training step: 101000, loss:  0.041186031\n",
      "training step: 102000, loss:  0.041182932\n",
      "training step: 103000, loss:  0.041178465\n",
      "training step: 104000, loss:  0.041175105\n",
      "training step: 105000, loss:  0.041173927\n",
      "training step: 106000, loss:  0.041173927\n",
      "training step: 107000, loss:  0.041173920\n",
      "training step: 108000, loss:  0.041173924\n"
     ]
    }
   ],
   "source": [
    "setting = {'activation':'tanh', 'nn_shape':(480, 480, 480, 480), 'batch_size':480, 'training_steps':200000,\\\n",
    "'learning_rate': 0.0004, 'decay_rate':0.9, 'decay_per_steps':2000, 'save_step':1000, 'drop_rate':0, 'save_path':'./save/model','seed':10}\n",
    "NN = nn.NN(setting_dict=setting)\n",
    "NN.train(train_homo_pairs,train_c_homo)\n",
    "# NN.test(test_homo_pairs, test_c_homo)\n"
   ]
  },
  {
   "cell_type": "code",
   "execution_count": null,
   "id": "3b9d1c44-6d84-402b-ab7a-29053d8d2907",
   "metadata": {},
   "outputs": [],
   "source": [
    "import matplotlib.pyplot as plt\n",
    "%matplotlib inline\n",
    "%matplotlib widget\n",
    "\n",
    "print(np.mean((NN.model(homo_pairs)-c_homo)/c_homo))\n",
    "x = np.linspace(0, 4, 41)\n",
    "y = np.linspace(0, 4, 41)\n",
    "X, Y = np.meshgrid(x, y)\n",
    "Z = NN.model(train_homo_pairs, training=False).numpy().reshape((41,41))\n",
    "Z1 = c_homo.reshape((41,41))\n",
    "print(Z.shape)\n",
    "\n",
    "fix, ax = plt.subplots()\n",
    "ax.contourf(x,y, Z)\n",
    "ax.set_title('pred')"
   ]
  },
  {
   "cell_type": "code",
   "execution_count": null,
   "id": "d8abbae0-5fa2-4515-8b64-ca23667272af",
   "metadata": {},
   "outputs": [],
   "source": []
  },
  {
   "cell_type": "code",
   "execution_count": null,
   "id": "f0d45df0-77d6-488f-9ae7-3ec5970a6435",
   "metadata": {},
   "outputs": [],
   "source": []
  }
 ],
 "metadata": {
  "kernelspec": {
   "display_name": "venv",
   "language": "python",
   "name": "venv"
  },
  "language_info": {
   "codemirror_mode": {
    "name": "ipython",
    "version": 3
   },
   "file_extension": ".py",
   "mimetype": "text/x-python",
   "name": "python",
   "nbconvert_exporter": "python",
   "pygments_lexer": "ipython3",
   "version": "3.9.7"
  }
 },
 "nbformat": 4,
 "nbformat_minor": 5
}
