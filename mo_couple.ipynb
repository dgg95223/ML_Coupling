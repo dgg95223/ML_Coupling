{
 "cells": [
  {
   "cell_type": "code",
   "execution_count": 1,
   "id": "65900bf3-c182-48a6-b6a0-efd08e340f58",
   "metadata": {},
   "outputs": [
    {
     "name": "stderr",
     "output_type": "stream",
     "text": [
      "2022-07-20 16:21:39.607835: W tensorflow/stream_executor/platform/default/dso_loader.cc:64] Could not load dynamic library 'libcudart.so.11.0'; dlerror: libcudart.so.11.0: cannot open shared object file: No such file or directory\n",
      "2022-07-20 16:21:39.607879: I tensorflow/stream_executor/cuda/cudart_stub.cc:29] Ignore above cudart dlerror if you do not have a GPU set up on your machine.\n"
     ]
    },
    {
     "data": {
      "text/plain": [
       "CompletedProcess(args='export TF_INTRA_OP_PARALLELISM_THREADS=12', returncode=0)"
      ]
     },
     "execution_count": 1,
     "metadata": {},
     "output_type": "execute_result"
    }
   ],
   "source": [
    "import mo_descriptor as md\n",
    "import nn_frame as nn\n",
    "import numpy as np\n",
    "import subprocess\n",
    "subprocess.run('export TF_INTRA_OP_PARALLELISM_THREADS=12', shell=True)"
   ]
  },
  {
   "cell_type": "code",
   "execution_count": 2,
   "id": "3819da32-6769-405e-8d3f-1fa9c336c9b4",
   "metadata": {},
   "outputs": [],
   "source": [
    "'''\n",
    "prepare data_set\n",
    "1. make mo_pair descriptor\n",
    "'''\n",
    "# x_shift = np.arange(0, 4.1, 0.1)\n",
    "# y_shift = np.arange(0, 4.1, 0.1)\n",
    "# z_shift = np.zeros(x_shift.shape)\n",
    "# # the original mo, e.g. homo\n",
    "# homo = md.MO_descriptor('data/homo-s0.cube').make()\n",
    "# lumo = md.MO_descriptor('data/lumo-s0.cube').make()\n",
    "\n",
    "# # for the original pair of one mo and itself\n",
    "# homo_pair = md.MO_pair_descriptor(homo, homo).make()\n",
    "# lumo_pair = md.MO_pair_descriptor(lumo, lumo).make()\n",
    "\n",
    "# # for the shifted pair\n",
    "# homo_pairs = np.zeros((len(x_shift)*len(y_shift),) + homo_pair.shape)\n",
    "# lumo_pairs = np.zeros((len(x_shift)*len(y_shift),) + lumo_pair.shape)\n",
    "# for ii, i in enumerate(x_shift):\n",
    "#     for jj, j in enumerate(y_shift):\n",
    "#         idx = ii * len(y_shift) + jj\n",
    "#         homo_pairs[idx][0] = homo_pair[0]\n",
    "#         homo_pairs[idx][1] = np.add(homo_pair[1],i)\n",
    "#         homo_pairs[idx][2] = np.add(homo_pair[2],j)\n",
    "#         homo_pairs[idx][3] = homo_pair[3]\n",
    "#         lumo_pairs[idx][0] = lumo_pair[0]\n",
    "#         lumo_pairs[idx][1] = np.add(lumo_pair[1],i)\n",
    "#         lumo_pairs[idx][2] = np.add(lumo_pair[2],j)\n",
    "#         lumo_pairs[idx][3] = lumo_pair[3]\n",
    "# np.save('homo_homo_pair.npy', homo_pairs)\n",
    "# np.save('lumo_lumo_pair.npy', lumo_pairs)\n",
    "homo_pairs = np.load('homo_homo_pair.npy')\n",
    "lumo_pairs = np.load('lumo_lumo_pair.npy')"
   ]
  },
  {
   "cell_type": "code",
   "execution_count": 3,
   "id": "e91a92a2-f076-46c8-835f-958569393703",
   "metadata": {},
   "outputs": [],
   "source": [
    "'''\n",
    "2. read coupling\n",
    "'''\n",
    "raw_data = np.loadtxt('data/cdft-V1V2.dat')\n",
    "c_homo = np.add(raw_data[:,2], raw_data[:,3]) * 1/2\n",
    "c_lumo = np.add(raw_data[:,4], raw_data[:,5]) * 1/2"
   ]
  },
  {
   "cell_type": "code",
   "execution_count": 4,
   "id": "dda7ef17-1e21-42a4-9daf-27feba4fc51b",
   "metadata": {},
   "outputs": [],
   "source": [
    "train_homo_pairs = homo_pairs\n",
    "train_lumo_pairs = lumo_pairs[0:1200]\n",
    "\n",
    "train_c_homo = c_homo\n",
    "train_c_lumo = c_lumo[0:1200]\n",
    "\n",
    "test_homo_pairs = homo_pairs[1200:]\n",
    "test_lumo_pairs = lumo_pairs[1200:]\n",
    "\n",
    "test_c_homo = c_homo[1200:].reshape((len(c_homo[1200:]),1))\n",
    "test_c_lumo = c_lumo[1200:]"
   ]
  },
  {
   "cell_type": "code",
   "execution_count": null,
   "id": "e4b45051-01ee-4a66-832b-5b68b51863c6",
   "metadata": {
    "scrolled": true,
    "tags": []
   },
   "outputs": [
    {
     "name": "stderr",
     "output_type": "stream",
     "text": [
      "2022-07-20 16:21:41.173986: W tensorflow/stream_executor/platform/default/dso_loader.cc:64] Could not load dynamic library 'libcuda.so.1'; dlerror: libcuda.so.1: cannot open shared object file: No such file or directory\n",
      "2022-07-20 16:21:41.174033: W tensorflow/stream_executor/cuda/cuda_driver.cc:269] failed call to cuInit: UNKNOWN ERROR (303)\n",
      "2022-07-20 16:21:41.174070: I tensorflow/stream_executor/cuda/cuda_diagnostics.cc:156] kernel driver does not appear to be running on this host (Bai-Group): /proc/driver/nvidia/version does not exist\n",
      "2022-07-20 16:21:41.174426: I tensorflow/core/platform/cpu_feature_guard.cc:151] This TensorFlow binary is optimized with oneAPI Deep Neural Network Library (oneDNN) to use the following CPU instructions in performance-critical operations:  AVX2 AVX512F FMA\n",
      "To enable them in other operations, rebuild TensorFlow with the appropriate compiler flags.\n"
     ]
    },
    {
     "name": "stdout",
     "output_type": "stream",
     "text": [
      "training step:     0, loss:  0.545111954\n",
      "training step: 10000, loss:  0.381545693\n",
      "training step: 20000, loss:  0.263966918\n",
      "training step: 30000, loss:  0.228925541\n",
      "training step: 40000, loss:  0.174104556\n",
      "training step: 50000, loss:  0.156277895\n",
      "training step: 60000, loss:  0.124154970\n",
      "training step: 70000, loss:  0.099519022\n",
      "training step: 80000, loss:  0.054905839\n",
      "training step: 90000, loss:  0.040179614\n",
      "training step: 100000, loss:  0.035420436\n",
      "training step: 110000, loss:  0.029168030\n",
      "training step: 120000, loss:  0.029446602\n",
      "training step: 130000, loss:  0.026490983\n",
      "training step: 140000, loss:  0.025687646\n",
      "training step: 150000, loss:  0.025212822\n",
      "training step: 160000, loss:  0.024395002\n",
      "training step: 170000, loss:  0.023823701\n",
      "training step: 180000, loss:  0.023025500\n",
      "training step: 190000, loss:  0.022212045\n",
      "training step: 200000, loss:  0.021862116\n",
      "training step: 210000, loss:  0.021148035\n",
      "training step: 220000, loss:  0.020641396\n",
      "training step: 230000, loss:  0.020405460\n",
      "training step: 240000, loss:  0.020157624\n",
      "training step: 250000, loss:  0.019883772\n",
      "training step: 260000, loss:  0.019743573\n",
      "training step: 270000, loss:  0.019670580\n",
      "training step: 280000, loss:  0.019584361\n",
      "training step: 290000, loss:  0.019514801\n",
      "training step: 300000, loss:  0.019468509\n",
      "training step: 310000, loss:  0.019436516\n",
      "training step: 320000, loss:  0.019422354\n",
      "training step: 330000, loss:  0.019401664\n",
      "training step: 340000, loss:  0.019386079\n",
      "training step: 350000, loss:  0.019384107\n",
      "training step: 360000, loss:  0.019378416\n",
      "training step: 370000, loss:  0.019373657\n",
      "training step: 380000, loss:  0.019371947\n",
      "training step: 390000, loss:  0.019369690\n",
      "training step: 400000, loss:  0.019364566\n",
      "training step: 410000, loss:  0.019361796\n"
     ]
    }
   ],
   "source": [
    "setting = {'activation':'tanh', 'nn_shape':(256, 256, 256), 'batch_size':360, 'training_steps':500000,\\\n",
    "'learning_rate': 0.0004, 'decay_rate':0.96, 'decay_per_steps':3000, 'save_step':10000, 'drop_rate':0, 'save_path':'./save/model','seed':0}\n",
    "NN = nn.NN(setting_dict=setting)\n",
    "NN.train(train_homo_pairs,train_c_homo)\n",
    "# NN.test(test_homo_pairs, test_c_homo)"
   ]
  },
  {
   "cell_type": "code",
   "execution_count": null,
   "id": "75badef5-0734-417b-be13-51a8e548dce6",
   "metadata": {
    "scrolled": true,
    "tags": []
   },
   "outputs": [],
   "source": [
    "# print((NN.model(test_homo_pairs)-test_c_homo)/test_c_homo)\n",
    "print(np.mean((NN.model(test_homo_pairs)-test_c_homo)/test_c_homo))"
   ]
  },
  {
   "cell_type": "code",
   "execution_count": null,
   "id": "3b9d1c44-6d84-402b-ab7a-29053d8d2907",
   "metadata": {},
   "outputs": [],
   "source": [
    "import matplotlib.pyplot as plt\n",
    "%matplotlib inline\n",
    "%matplotlib widget\n",
    "\n",
    "x = np.linspace(0, 4, 41)\n",
    "y = np.linspace(0, 4, 41)\n",
    "X, Y = np.meshgrid(x, y)\n",
    "Z = NN.model(train_homo_pairs).numpy().reshape((41,41))\n",
    "Z1 = c_homo.reshape((41,41))\n",
    "print(Z.shape)\n",
    "\n",
    "fix, ax = plt.subplots()\n",
    "ax.contourf(x,y, Z)\n",
    "ax.set_title('pred')"
   ]
  },
  {
   "cell_type": "code",
   "execution_count": null,
   "id": "f8c55390-7f4c-491f-a7b0-dc30c4b3b34b",
   "metadata": {},
   "outputs": [],
   "source": [
    "fix, ax = plt.subplots()\n",
    "ax.contourf(x,y, Z)\n",
    "ax.set_title('pred')"
   ]
  },
  {
   "cell_type": "code",
   "execution_count": null,
   "id": "76c81344-51db-4c60-a29b-c021d82fe8d5",
   "metadata": {},
   "outputs": [],
   "source": [
    "print(NN.setting)"
   ]
  },
  {
   "cell_type": "markdown",
   "id": "4717e939-c41e-4eab-957f-af2bc6a89603",
   "metadata": {},
   "source": [
    "##### "
   ]
  }
 ],
 "metadata": {
  "kernelspec": {
   "display_name": "venv",
   "language": "python",
   "name": "venv"
  },
  "language_info": {
   "codemirror_mode": {
    "name": "ipython",
    "version": 3
   },
   "file_extension": ".py",
   "mimetype": "text/x-python",
   "name": "python",
   "nbconvert_exporter": "python",
   "pygments_lexer": "ipython3",
   "version": "3.9.7"
  }
 },
 "nbformat": 4,
 "nbformat_minor": 5
}
