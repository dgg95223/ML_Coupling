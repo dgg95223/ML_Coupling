{
 "cells": [
  {
   "cell_type": "code",
   "execution_count": 1,
   "id": "f1ce2af6-95c2-48b9-aac4-57a00be58e4e",
   "metadata": {},
   "outputs": [],
   "source": [
    "import numpy as np\n",
    "import copy\n",
    "from gpr_frame import GPR\n",
    "import matplotlib.pyplot as plt\n",
    "\n",
    "# load mo_pairs\n",
    "homo_pairs = np.load('./data/homo_homo_pair.npy')\n",
    "lumo_pairs = np.load('./data/lumo_lumo_pair.npy')\n",
    "# load coupling\n",
    "raw_data = np.loadtxt('./data/results.csv', delimiter=',',comments='#')\n",
    "c_homo = abs(raw_data[:,3])\n",
    "c_lumo = abs(raw_data[:,4])\n",
    "# remove zero values from coupling\n",
    "izero = []\n",
    "for ii,i in enumerate(c_homo):\n",
    "    if i<=0.0000:\n",
    "        izero.append(ii)\n",
    "        c_homo[ii] = 1e-9\n",
    "\n",
    "izero = []\n",
    "for ii,i in enumerate(c_lumo):\n",
    "    if i<=0.0000:\n",
    "        izero.append(ii)\n",
    "        c_lumo[ii] = 1e-8\n",
    "# build data set and preprocess data\n",
    "train_homo_pairs = homo_pairs\n",
    "train_lumo_pairs = lumo_pairs\n",
    "\n",
    "train_c_homo = -np.log(c_homo)\n",
    "train_c_lumo = -np.log(c_lumo)"
   ]
  },
  {
   "cell_type": "code",
   "execution_count": 72,
   "id": "263a5d2f-6ad7-446b-abee-c8ae755d3374",
   "metadata": {},
   "outputs": [
    {
     "name": "stdout",
     "output_type": "stream",
     "text": [
      "Ensemble 7:\n",
      "MPE of full data set: -0.015 % \n",
      "Error of training set with 15129 samples: 0.005 % \n",
      "Error of testing set with 35301 samples: -0.023 % \n",
      "MAPE of full data set: 1.567 % \n",
      "Error of training set with 15129 samples: 1.136 % \n",
      "Error of testing set with 35301 samples: 1.549 % \n",
      "\n",
      "\n"
     ]
    }
   ],
   "source": [
    "# start gpr training\n",
    "n_ensemble = 8\n",
    "MPEs = []\n",
    "MAPEs = []\n",
    "\n",
    "for i in range(7, n_ensemble):\n",
    "    # randomly pick data for training\n",
    "    train_homo = copy.deepcopy(train_homo_pairs)\n",
    "    train_chomo = copy.deepcopy(train_c_homo)\n",
    "\n",
    "    index = np.random.choice(len(train_c_homo), size=int(len(train_c_homo)* 0.1 * i), replace=False)\n",
    "\n",
    "    train_homo_ = np.delete(train_homo,index,0)\n",
    "    train_chomo_ = np.delete(train_chomo,index,0)\n",
    "    \n",
    "    ###\n",
    "\n",
    "    train_lumo = copy.deepcopy(train_lumo_pairs)\n",
    "    train_clumo = copy.deepcopy(train_c_lumo)\n",
    "\n",
    "    index = np.random.choice(len(train_c_lumo), size=int(len(train_c_lumo)* 0.1 * i), replace=False)\n",
    "\n",
    "    train_lumo_ = np.delete(train_lumo,index,0)\n",
    "    train_clumo_ = np.delete(train_clumo,index,0)\n",
    "    # randomly pick data for testing\n",
    "    iall = np.arange(len(train_c_homo))\n",
    "    idiff = np.setdiff1d(iall,index)\n",
    "    test_homo = np.delete(copy.deepcopy(train_homo_pairs),idiff,0)\n",
    "    test_chomo = np.delete(copy.deepcopy(train_chomo),idiff,0)\n",
    "\n",
    "    gpr = GPR(setting_dict={'alpha':0.02, 'kernel':'RBF', 'optimizer':'fmin_l_bfgs_b', 'length_scale':0.1, 'length_scale_bounds':(1e-2, 1e1)})\n",
    "    dshape = train_homo_.shape\n",
    "    new_train = train_homo_.reshape((dshape[0],dshape[1]*dshape[2]*dshape[3]))\n",
    "    gpr.train(new_train, train_chomo_)\n",
    "    # testing\n",
    "    pred1, std1 = gpr.predict(train_homo_pairs.reshape((len(train_homo_pairs),2*8*8)))\n",
    "    pred2, std2 = gpr.predict(train_homo_.reshape((len(train_homo_),2*8*8)))\n",
    "    pred3, std3 = gpr.predict(test_homo.reshape((len(test_homo),2*8*8)))\n",
    "    # MPE\n",
    "    error1 = np.mean(np.multiply(pred1-train_c_homo, np.power(train_c_homo,-1))*100)\n",
    "    error2 = np.mean(np.multiply(pred2-train_chomo_, np.power(train_chomo_,-1))*100)\n",
    "    error3 = np.mean(np.multiply(pred3-test_chomo, np.power(test_chomo,-1))*100)\n",
    "    MPEs.append((error1, error2, error3))\n",
    "    \n",
    "    print('Ensemble %d:'%i)\n",
    "    print('MPE of full data set: %5.3f %% \\nError of training set with %d samples: %5.3f %% \\nError of testing set with %d samples: %5.3f %% '%(error1,len(train_homo_),error2,len(test_homo),error3))\n",
    "    # MAPE\n",
    "    error1 = np.mean(np.multiply(abs(pred1-train_c_homo), np.power(train_c_homo,-1))*100)\n",
    "    error2 = np.mean(np.multiply(abs(pred2-train_chomo_), np.power(train_chomo_,-1))*100)\n",
    "    error3 = np.mean(np.multiply(abs(pred3-test_chomo), np.power(test_chomo,-1))*100)\n",
    "    print('MAPE of full data set: %5.3f %% \\nError of training set with %d samples: %5.3f %% \\nError of testing set with %d samples: %5.3f %% '%(error1,len(train_homo_),error2,len(test_homo),error3))\n",
    "    print('\\n')\n",
    "    MAPEs.append((error1, error2, error3))\n"
   ]
  },
  {
   "cell_type": "code",
   "execution_count": 81,
   "id": "937cc6f9-3a6c-42d2-81ae-04eec60fb0b3",
   "metadata": {},
   "outputs": [
    {
     "data": {
      "image/png": "[encoded data removed]",
      "text/plain": [
       "<Figure size 432x288 with 1 Axes>"
      ]
     },
     "metadata": {
      "needs_background": "light"
     },
     "output_type": "display_data"
    }
   ],
   "source": [
    "# plotting\n",
    "x = np.exp(-pred2) * 27.211\n",
    "y1 = np.exp(-train_chomo_) * 27.211\n",
    "y2 = train_c_lumo\n",
    "x0 = [0,1.25]\n",
    "y0 = [0,1.25]\n",
    "fig, ax = plt.subplots()\n",
    "ax.scatter(x,y1)\n",
    "ax.plot(x0,y0, color='r')\n",
    "ax.set_xlim(0,1.25)\n",
    "ax.set_ylim(0,1.25)\n",
    "ax.set_xlabel('GPR Electron Coupling (eV)')\n",
    "ax.set_ylabel('CDFT Electron Coupling (eV)')\n",
    "# ax.set_title('Error: %5.3f%%'%error)\n",
    "ax.set_aspect('equal')"
   ]
  }
 ],
 "metadata": {
  "kernelspec": {
   "display_name": "venv",
   "language": "python",
   "name": "venv"
  },
  "language_info": {
   "codemirror_mode": {
    "name": "ipython",
    "version": 3
   },
   "file_extension": ".py",
   "mimetype": "text/x-python",
   "name": "python",
   "nbconvert_exporter": "python",
   "pygments_lexer": "ipython3",
   "version": "3.7.11"
  }
 },
 "nbformat": 4,
 "nbformat_minor": 5
}
