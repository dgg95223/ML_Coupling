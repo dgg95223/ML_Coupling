{
 "cells": [
  {
   "cell_type": "code",
   "execution_count": 1,
   "id": "65900bf3-c182-48a6-b6a0-efd08e340f58",
   "metadata": {},
   "outputs": [
    {
     "name": "stderr",
     "output_type": "stream",
     "text": [
      "2022-12-23 16:40:28.283221: W tensorflow/stream_executor/platform/default/dso_loader.cc:64] Could not load dynamic library 'libcudart.so.11.0'; dlerror: libcudart.so.11.0: cannot open shared object file: No such file or directory\n",
      "2022-12-23 16:40:28.283359: I tensorflow/stream_executor/cuda/cudart_stub.cc:29] Ignore above cudart dlerror if you do not have a GPU set up on your machine.\n"
     ]
    },
    {
     "data": {
      "text/plain": [
       "CompletedProcess(args='export TF_INTRA_OP_PARALLELISM_THREADS=12', returncode=0)"
      ]
     },
     "execution_count": 1,
     "metadata": {},
     "output_type": "execute_result"
    }
   ],
   "source": [
    "import mo_descriptor as md\n",
    "import nn_frame as nn\n",
    "import numpy as np\n",
    "import subprocess\n",
    "subprocess.run('export TF_INTRA_OP_PARALLELISM_THREADS=12', shell=True)"
   ]
  },
  {
   "cell_type": "code",
   "execution_count": 4,
   "id": "3819da32-6769-405e-8d3f-1fa9c336c9b4",
   "metadata": {},
   "outputs": [],
   "source": [
    "'''\n",
    "prepare data_set\n",
    "1. make mo_pair descriptor\n",
    "'''\n",
    "# x_shift = np.arange(0, 4.1, 0.1)\n",
    "# y_shift = np.arange(0, 4.1, 0.1)\n",
    "# z_shift = np.arange(3, 7.1, 0.1)\n",
    "# lumo = md.MO_descriptor('data/lumo-s0.cube').make()\n",
    "# homo = md.MO_descriptor('data/homo-s0.cube').make()\n",
    "\n",
    "# # for the original pair of one mo and itself\n",
    "# homo_pair = md.MO_pair_descriptor(homo, homo).make()\n",
    "# lumo_pair = md.MO_pair_descriptor(lumo, lumo).make()\n",
    "\n",
    "# homo_pairs = np.zeros((len(x_shift)*len(y_shift)*len(z_shift),) + homo_pair.shape)\n",
    "# lumo_pairs = np.zeros((len(x_shift)*len(y_shift)*len(z_shift),) + lumo_pair.shape)\n",
    "\n",
    "# homo_ = np.zeros(homo.shape)\n",
    "# lumo_ = np.zeros(lumo.shape)\n",
    "\n",
    "# for kk, k in enumerate(z_shift):\n",
    "#     for ii, i in enumerate(x_shift):\n",
    "#         for jj, j in enumerate(y_shift):\n",
    "#             idx = kk * len(x_shift) * len(y_shift) + ii * len(y_shift) + jj\n",
    "#             homo_[:,0] = np.add(homo[:,0],0)\n",
    "#             homo_[:,1] = np.add(homo[:,1],i)\n",
    "#             homo_[:,2] = np.add(homo[:,2],j)\n",
    "#             homo_[:,3] = np.add(homo[:,3],k)\n",
    "\n",
    "#             homo_pair_ = md.MO_pair_descriptor(homo, homo_).make()\n",
    "#             homo_pairs[idx] = homo_pair_\n",
    "\n",
    "#             lumo_[:,0] = np.add(lumo[:,0],0)\n",
    "#             lumo_[:,1] = np.add(lumo[:,1],i)\n",
    "#             lumo_[:,2] = np.add(lumo[:,2],j)\n",
    "#             lumo_[:,3] = np.add(lumo[:,3],k)\n",
    "\n",
    "#             lumo_pair_ = md.MO_pair_descriptor(lumo, lumo_).make()\n",
    "#             lumo_pairs[idx] = lumo_pair_\n",
    "        \n",
    "# np.save('homo_homo_pair.npy', homo_pairs)\n",
    "# np.save('lumo_lumo_pair.npy', lumo_pairs)\n",
    "homo_pairs = np.load('./data/homo_homo_pair.npy')\n",
    "lumo_pairs = np.load('./data/lumo_lumo_pair.npy')"
   ]
  },
  {
   "cell_type": "code",
   "execution_count": 6,
   "id": "e91a92a2-f076-46c8-835f-958569393703",
   "metadata": {},
   "outputs": [],
   "source": [
    "'''\n",
    "2. read coupling\n",
    "'''\n",
    "raw_data = np.loadtxt('../ML_Coupling/results.csv', delimiter=',',comments='#')\n",
    "# c_homo = np.add(raw_data[:,2], raw_data[:,3]) * 1/2\n",
    "# c_lumo = np.add(raw_data[:,4], raw_data[:,5]) * 1/2\n",
    "c_homo = abs(raw_data[:,3])\n",
    "c_lumo = abs(raw_data[:,4])"
   ]
  },
  {
   "cell_type": "code",
   "execution_count": 7,
   "id": "47c1da3e-a73e-4971-b821-c45bf51e807d",
   "metadata": {},
   "outputs": [
    {
     "name": "stdout",
     "output_type": "stream",
     "text": [
      "1154\n",
      "1140\n"
     ]
    }
   ],
   "source": [
    "izero = []\n",
    "for ii,i in enumerate(c_homo):\n",
    "    if i<=0.0000:\n",
    "        izero.append(ii)\n",
    "        c_homo[ii] = 1e-9\n",
    "print(len(izero))\n",
    "homo_pairs = np.delete(homo_pairs, izero, 0)\n",
    "c_homo = np.delete(c_homo, izero, 0)\n",
    "\n",
    "izero = []\n",
    "for ii,i in enumerate(c_lumo):\n",
    "    if i<=0.0000:\n",
    "        izero.append(ii)\n",
    "        c_lumo[ii] = 1e-8\n",
    "print(len(izero))\n"
   ]
  },
  {
   "cell_type": "code",
   "execution_count": 8,
   "id": "dda7ef17-1e21-42a4-9daf-27feba4fc51b",
   "metadata": {},
   "outputs": [],
   "source": [
    "# x1 = homo_pairs[:,0,:,:]\n",
    "# x2 = homo_pairs[:,1,:,:]\n",
    "# x3 = homo_pairs[:,2,:,:]\n",
    "# x4 = homo_pairs[:,3,:,:]\n",
    "# x = np.einsum('aij,aij,aij,aij->aij', x1, x2, x3, x4)\n",
    "\n",
    "train_homo_pairs = homo_pairs[:]\n",
    "train_lumo_pairs = lumo_pairs\n",
    "\n",
    "train_c_homo = -np.log(c_homo)[:]\n",
    "train_c_lumo = -np.log(c_lumo)\n",
    "\n",
    "test_homo_pairs = homo_pairs[1200:]\n",
    "test_lumo_pairs = lumo_pairs[1200:]\n",
    "\n",
    "test_c_homo = c_homo[1200:].reshape((len(c_homo[1200:]),1))\n",
    "test_c_lumo = c_lumo[1200:]"
   ]
  },
  {
   "cell_type": "code",
   "execution_count": 12,
   "id": "3cdacadc-531f-4da4-99d1-8ebdf12180ac",
   "metadata": {},
   "outputs": [
    {
     "name": "stdout",
     "output_type": "stream",
     "text": [
      "67767\n",
      "60991\n"
     ]
    }
   ],
   "source": [
    "import copy\n",
    "train_homo = copy.deepcopy(train_homo_pairs)\n",
    "train_chomo = copy.deepcopy(train_c_homo)\n",
    "print(len(train_chomo))\n",
    "index = np.random.choice(len(train_c_homo), size=int(len(train_c_homo)*0.1), replace=False)\n",
    "train_homo_ = np.delete(train_homo,index,0)\n",
    "train_chomo_ = np.delete(train_chomo,index,0)\n",
    "print(len(train_homo_))"
   ]
  },
  {
   "cell_type": "code",
   "execution_count": 13,
   "id": "44e48223-a320-45aa-b136-5d7f3a7b1cc1",
   "metadata": {},
   "outputs": [],
   "source": [
    "iall = np.arange(len(train_c_homo))\n",
    "idiff = np.setdiff1d(iall,index)\n",
    "test_homo = np.delete(copy.deepcopy(train_homo_pairs),idiff,0)\n",
    "test_chomo = np.delete(copy.deepcopy(train_chomo),idiff,0)"
   ]
  },
  {
   "cell_type": "code",
   "execution_count": 9,
   "id": "938d30ba-e044-469f-b2eb-25f05497f346",
   "metadata": {
    "scrolled": true,
    "tags": []
   },
   "outputs": [
    {
     "name": "stderr",
     "output_type": "stream",
     "text": [
      "2022-12-10 23:30:29.878611: E tensorflow/stream_executor/cuda/cuda_driver.cc:271] failed call to cuInit: CUDA_ERROR_NO_DEVICE: no CUDA-capable device is detected\n",
      "2022-12-10 23:30:29.878757: I tensorflow/stream_executor/cuda/cuda_diagnostics.cc:156] kernel driver does not appear to be running on this host (Deng-PC): /proc/driver/nvidia/version does not exist\n",
      "2022-12-10 23:30:29.880266: I tensorflow/core/platform/cpu_feature_guard.cc:151] This TensorFlow binary is optimized with oneAPI Deep Neural Network Library (oneDNN) to use the following CPU instructions in performance-critical operations:  AVX2 FMA\n",
      "To enable them in other operations, rebuild TensorFlow with the appropriate compiler flags.\n"
     ]
    },
    {
     "name": "stdout",
     "output_type": "stream",
     "text": [
      "loss:  72.1444397\n",
      "training step:     0\n",
      "loss:  18.5192871\n",
      "training step:  1000\n",
      "loss:  0.219381481\n",
      "training step:  2000\n",
      "loss:  0.0563584901\n",
      "training step:  3000\n",
      "loss:  0.0443952419\n",
      "training step:  4000\n",
      "loss:  0.0359604917\n",
      "training step:  5000\n",
      "loss:  0.0290078316\n",
      "training step:  6000\n",
      "loss:  0.0239138585\n",
      "training step:  7000\n",
      "loss:  0.0201311838\n",
      "training step:  8000\n",
      "loss:  0.0165320132\n",
      "training step:  9000\n",
      "loss:  0.0146730263\n",
      "training step: 10000\n",
      "loss:  0.0122194616\n",
      "training step: 11000\n",
      "loss:  0.0107096881\n",
      "training step: 12000\n",
      "loss:  0.00949262921\n",
      "training step: 13000\n",
      "loss:  0.00850188732\n",
      "training step: 14000\n",
      "loss:  0.007739814\n",
      "training step: 15000\n",
      "loss:  0.00723105576\n",
      "training step: 16000\n",
      "loss:  0.00680298172\n",
      "training step: 17000\n",
      "loss:  0.00599672133\n",
      "training step: 18000\n",
      "loss:  0.00568524189\n",
      "training step: 19000\n",
      "loss:  0.0054509216\n",
      "training step: 20000\n",
      "loss:  0.00498826662\n",
      "training step: 21000\n",
      "loss:  0.00459036091\n",
      "training step: 22000\n",
      "loss:  0.00440549199\n",
      "training step: 23000\n",
      "loss:  0.00398835121\n",
      "training step: 24000\n",
      "loss:  0.00469993474\n",
      "training step: 25000\n",
      "loss:  0.0039536152\n",
      "training step: 26000\n",
      "loss:  0.00338933221\n",
      "training step: 27000\n",
      "loss:  0.00373036298\n",
      "training step: 28000\n",
      "loss:  0.00307182502\n",
      "training step: 29000\n",
      "loss:  0.00296350988\n",
      "training step: 30000\n",
      "loss:  0.00334177539\n",
      "training step: 31000\n",
      "loss:  0.00256455899\n",
      "training step: 32000\n",
      "loss:  0.00256750151\n",
      "training step: 33000\n",
      "loss:  0.00242192438\n",
      "training step: 34000\n",
      "loss:  0.00223268871\n",
      "training step: 35000\n",
      "loss:  0.00212755799\n",
      "training step: 36000\n",
      "loss:  0.0021250376\n",
      "training step: 37000\n",
      "loss:  0.00204159389\n",
      "training step: 38000\n",
      "loss:  0.001875313\n",
      "training step: 39000\n",
      "loss:  0.00181668496\n",
      "training step: 40000\n",
      "loss:  0.00172774284\n",
      "training step: 41000\n",
      "loss:  0.00171280187\n",
      "training step: 42000\n",
      "loss:  0.00221007527\n",
      "training step: 43000\n",
      "loss:  0.00154283049\n",
      "training step: 44000\n",
      "loss:  0.00169643026\n",
      "training step: 45000\n",
      "loss:  0.00144280924\n",
      "training step: 46000\n",
      "loss:  0.00139168\n",
      "training step: 47000\n",
      "loss:  0.00161880103\n",
      "training step: 48000\n",
      "loss:  0.00226631202\n",
      "training step: 49000\n",
      "loss:  0.00124780589\n",
      "training step: 50000\n",
      "loss:  0.00119060709\n",
      "training step: 51000\n",
      "loss:  0.00117157295\n",
      "training step: 52000\n",
      "loss:  0.001125657\n",
      "training step: 53000\n",
      "loss:  0.00107901671\n",
      "training step: 54000\n",
      "loss:  0.0010497293\n",
      "training step: 55000\n",
      "loss:  0.00101368385\n",
      "training step: 56000\n",
      "loss:  0.0010095184\n",
      "training step: 57000\n",
      "loss:  0.000943892112\n",
      "training step: 58000\n",
      "loss:  0.000988510554\n",
      "training step: 59000\n",
      "loss:  0.000892623677\n",
      "training step: 60000\n",
      "loss:  0.000883086\n",
      "training step: 61000\n",
      "loss:  0.000860560511\n",
      "training step: 62000\n",
      "loss:  0.000806358934\n",
      "training step: 63000\n",
      "loss:  0.000777339505\n",
      "training step: 64000\n",
      "loss:  0.00893949624\n",
      "training step: 65000\n",
      "loss:  0.00115633395\n",
      "training step: 66000\n",
      "loss:  0.00184451672\n",
      "training step: 67000\n",
      "loss:  0.000672697672\n",
      "training step: 68000\n",
      "loss:  0.00065120979\n",
      "training step: 69000\n",
      "loss:  0.000629748334\n",
      "training step: 70000\n",
      "loss:  0.000868828385\n",
      "training step: 71000\n",
      "loss:  0.00475760503\n",
      "training step: 72000\n",
      "loss:  0.000607086\n",
      "training step: 73000\n",
      "loss:  0.000557312451\n",
      "training step: 74000\n",
      "loss:  0.000536574342\n",
      "training step: 75000\n",
      "loss:  0.000525040494\n",
      "training step: 76000\n",
      "loss:  0.000504907046\n",
      "training step: 77000\n",
      "loss:  0.000486289238\n",
      "training step: 78000\n",
      "loss:  0.000473460794\n",
      "training step: 79000\n",
      "loss:  0.000477633323\n",
      "training step: 80000\n",
      "loss:  0.000443860161\n",
      "training step: 81000\n",
      "loss:  0.000581432541\n",
      "training step: 82000\n",
      "loss:  0.000549669145\n",
      "training step: 83000\n",
      "loss:  0.000401965983\n",
      "training step: 84000\n",
      "loss:  0.000430703396\n",
      "training step: 85000\n",
      "loss:  0.000393373251\n",
      "training step: 86000\n",
      "loss:  0.000367152184\n",
      "training step: 87000\n",
      "loss:  0.000361336191\n",
      "training step: 88000\n",
      "loss:  0.000392037735\n",
      "training step: 89000\n",
      "loss:  0.000724161218\n",
      "training step: 90000\n",
      "loss:  0.000319789862\n",
      "training step: 91000\n",
      "loss:  0.000310840842\n",
      "training step: 92000\n",
      "loss:  0.000305362453\n",
      "training step: 93000\n",
      "loss:  0.000340404047\n",
      "training step: 94000\n",
      "loss:  0.000427291292\n",
      "training step: 95000\n",
      "loss:  0.000284807611\n",
      "training step: 96000\n",
      "loss:  0.000266496761\n",
      "training step: 97000\n",
      "loss:  0.000260222616\n",
      "training step: 98000\n",
      "loss:  0.000317073282\n",
      "training step: 99000\n",
      "loss:  0.000249396893\n",
      "training step: 100000\n",
      "loss:  0.000235512925\n",
      "training step: 101000\n",
      "loss:  0.000228535529\n",
      "training step: 102000\n",
      "loss:  0.000222508286\n",
      "training step: 103000\n",
      "loss:  0.000216157554\n",
      "training step: 104000\n",
      "loss:  0.000269919314\n",
      "training step: 105000\n",
      "loss:  0.000207144141\n",
      "training step: 106000\n",
      "loss:  0.000198310212\n",
      "training step: 107000\n",
      "loss:  0.000194826134\n",
      "training step: 108000\n",
      "loss:  0.000279445492\n",
      "training step: 109000\n",
      "loss:  0.00023749024\n",
      "training step: 110000\n",
      "loss:  0.000193195388\n",
      "training step: 111000\n",
      "loss:  0.000174456814\n",
      "training step: 112000\n",
      "loss:  0.000201105955\n",
      "training step: 113000\n",
      "loss:  0.00023344536\n",
      "training step: 114000\n",
      "loss:  0.00028096934\n",
      "training step: 115000\n",
      "loss:  0.000157028058\n",
      "training step: 116000\n",
      "loss:  0.000153472269\n",
      "training step: 117000\n",
      "loss:  0.000149440719\n",
      "training step: 118000\n",
      "loss:  0.000146475883\n",
      "training step: 119000\n",
      "loss:  0.000150522785\n",
      "training step: 120000\n",
      "loss:  0.000151937085\n",
      "training step: 121000\n",
      "loss:  0.000137790368\n",
      "training step: 122000\n",
      "loss:  0.000140551143\n",
      "training step: 123000\n",
      "loss:  0.000132019413\n",
      "training step: 124000\n",
      "loss:  0.000130221044\n",
      "training step: 125000\n",
      "loss:  0.000126708983\n",
      "training step: 126000\n",
      "loss:  0.000245180185\n",
      "training step: 127000\n",
      "loss:  0.000121609235\n",
      "training step: 128000\n",
      "loss:  0.000118936114\n",
      "training step: 129000\n",
      "loss:  0.000154584748\n",
      "training step: 130000\n",
      "loss:  0.00013629446\n",
      "training step: 131000\n",
      "loss:  0.000113844369\n",
      "training step: 132000\n",
      "loss:  0.000114922907\n",
      "training step: 133000\n",
      "loss:  0.000123781123\n",
      "training step: 134000\n",
      "loss:  0.000155654343\n",
      "training step: 135000\n",
      "loss:  0.000107122454\n",
      "training step: 136000\n",
      "loss:  0.000104134204\n",
      "training step: 137000\n",
      "loss:  0.000105761887\n",
      "training step: 138000\n",
      "loss:  0.000105422288\n",
      "training step: 139000\n",
      "loss:  0.00035555131\n",
      "training step: 140000\n",
      "loss:  9.52400296e-05\n",
      "training step: 141000\n",
      "loss:  0.000218754431\n",
      "training step: 142000\n",
      "loss:  9.18835794e-05\n",
      "training step: 143000\n",
      "loss:  0.000100797\n",
      "training step: 144000\n",
      "loss:  9.6354539e-05\n",
      "training step: 145000\n",
      "loss:  9.20011589e-05\n",
      "training step: 146000\n",
      "loss:  8.75045225e-05\n",
      "training step: 147000\n",
      "loss:  8.59021166e-05\n",
      "training step: 148000\n",
      "loss:  8.37676562e-05\n",
      "training step: 149000\n",
      "loss:  8.32936857e-05\n",
      "training step: 150000\n",
      "loss:  8.10522761e-05\n",
      "training step: 151000\n",
      "loss:  8.04989468e-05\n",
      "training step: 152000\n",
      "loss:  0.00249808677\n",
      "training step: 153000\n",
      "loss:  7.74300861e-05\n",
      "training step: 154000\n",
      "loss:  0.000148794978\n",
      "training step: 155000\n",
      "loss:  7.39904e-05\n",
      "training step: 156000\n",
      "loss:  7.36601796e-05\n",
      "training step: 157000\n",
      "loss:  7.38448725e-05\n",
      "training step: 158000\n",
      "loss:  7.98482652e-05\n",
      "training step: 159000\n",
      "loss:  7.19301e-05\n",
      "training step: 160000\n",
      "loss:  0.000110442081\n",
      "training step: 161000\n",
      "loss:  8.50304787e-05\n",
      "training step: 162000\n",
      "loss:  8.66772316e-05\n",
      "training step: 163000\n",
      "loss:  6.61992817e-05\n",
      "training step: 164000\n",
      "loss:  6.71897287e-05\n",
      "training step: 165000\n",
      "loss:  0.000219428635\n",
      "training step: 166000\n",
      "loss:  0.000107875261\n",
      "training step: 167000\n",
      "loss:  0.00097162748\n",
      "training step: 168000\n",
      "loss:  6.28822891e-05\n",
      "training step: 169000\n",
      "loss:  6.20166466e-05\n",
      "training step: 170000\n",
      "loss:  0.000291186967\n",
      "training step: 171000\n",
      "loss:  6.50864822e-05\n",
      "training step: 172000\n",
      "loss:  7.11061512e-05\n",
      "training step: 173000\n",
      "loss:  6.19263883e-05\n",
      "training step: 174000\n",
      "loss:  6.77979406e-05\n",
      "training step: 175000\n",
      "loss:  6.14986857e-05\n",
      "training step: 176000\n",
      "loss:  9.62436243e-05\n",
      "training step: 177000\n",
      "loss:  5.69765107e-05\n",
      "training step: 178000\n",
      "loss:  5.63185022e-05\n",
      "training step: 179000\n",
      "loss:  5.48611388e-05\n",
      "training step: 180000\n",
      "loss:  5.46483971e-05\n",
      "training step: 181000\n",
      "loss:  5.52292586e-05\n",
      "training step: 182000\n",
      "loss:  5.92446959e-05\n",
      "training step: 183000\n",
      "loss:  9.65279e-05\n",
      "training step: 184000\n",
      "loss:  9.90517e-05\n",
      "training step: 185000\n",
      "loss:  5.29216122e-05\n",
      "training step: 186000\n",
      "loss:  5.22078844e-05\n",
      "training step: 187000\n",
      "loss:  5.03621195e-05\n",
      "training step: 188000\n",
      "loss:  5.08385456e-05\n",
      "training step: 189000\n",
      "loss:  4.9915594e-05\n",
      "training step: 190000\n",
      "loss:  4.93232219e-05\n",
      "training step: 191000\n",
      "loss:  4.89281301e-05\n",
      "training step: 192000\n",
      "loss:  4.87527e-05\n",
      "training step: 193000\n",
      "loss:  5.01078139e-05\n",
      "training step: 194000\n",
      "loss:  4.9036913e-05\n",
      "training step: 195000\n",
      "loss:  4.75584e-05\n",
      "training step: 196000\n",
      "loss:  4.67332138e-05\n",
      "training step: 197000\n",
      "loss:  5.77183382e-05\n",
      "training step: 198000\n",
      "loss:  0.00128935918\n",
      "training step: 199000\n"
     ]
    },
    {
     "name": "stderr",
     "output_type": "stream",
     "text": [
      "2022-12-13 15:45:59.532417: W tensorflow/python/util/util.cc:368] Sets are not currently considered sequences, but this may change in the future, so consider avoiding using them.\n"
     ]
    },
    {
     "name": "stdout",
     "output_type": "stream",
     "text": [
      "INFO:tensorflow:Assets written to: ./save/model/assets\n"
     ]
    }
   ],
   "source": [
    "setting = {'activation':'tanh', 'nn_shape':(256,256,256), 'batch_size':len(train_homo_), 'training_steps':200000,\\\n",
    "'learning_rate': 0.00008, 'decay_rate':0.95, 'decay_per_steps':1000, 'save_step':1000, 'drop_rate':0, 'save_path':'./save',\\\n",
    "'seed':None, 'debug_traj':False}\n",
    "NN = nn.NN(setting_dict=setting)\n",
    "NN.train(train_homo_,train_chomo_)"
   ]
  },
  {
   "cell_type": "code",
   "execution_count": 35,
   "id": "1d40d7c2-71df-4a50-a08a-74e93b6be85c",
   "metadata": {},
   "outputs": [
    {
     "name": "stdout",
     "output_type": "stream",
     "text": [
      "Error of full data set: 0.355 % \n",
      "Error of training set with 6731 samples: 0.355 % \n",
      "Error of testing set with 6 samples: 0.214 % \n"
     ]
    }
   ],
   "source": [
    "error1 = np.mean(np.multiply(abs(NN.model(train_homo_pairs, training=False).numpy().reshape((len(train_homo_pairs),))-train_c_homo), np.power(train_c_homo,-1))*100)\n",
    "error2 = np.mean(np.multiply(abs(NN.model(train_homo_, training=False).numpy().reshape((len(train_homo_),))-train_chomo_), np.power(train_chomo_,-1))*100)\n",
    "error3 = np.mean(np.multiply(abs(NN.model(test_homo, training=False).numpy().reshape((len(test_homo),))-test_chomo), np.power(test_chomo,-1))*100)\n",
    "print('Error of full data set: %5.3f %% \\nError of training set with %d samples: %5.3f %% \\nError of testing set with %d samples: %5.3f %% '%(error1,len(train_homo_),error2,len(test_homo),error3))"
   ]
  },
  {
   "cell_type": "code",
   "execution_count": 14,
   "id": "bf91055a-2945-4716-bfd1-2479d889c0f0",
   "metadata": {},
   "outputs": [
    {
     "name": "stdout",
     "output_type": "stream",
     "text": [
      "34.652025490514426\n"
     ]
    }
   ],
   "source": [
    "import tensorflow as tf\n",
    "# NN.model.save('./nat_dimer_33884/')\n",
    "load_test = tf.keras.models.load_model('./nat_dimer_rot_6731/model/', compile=False)\n",
    "et = np.mean(np.multiply(abs(load_test(train_homo_pairs, training=False).numpy().reshape((len(train_homo_pairs),))-train_c_homo), np.power(train_c_homo,-1))*100)\n",
    "print(et)"
   ]
  },
  {
   "cell_type": "code",
   "execution_count": 13,
   "id": "1adeb6ea-422e-4bab-91d4-88242e5c4791",
   "metadata": {},
   "outputs": [
    {
     "data": {
      "image/png": "[encoded data removed]",
      "text/plain": [
       "<Figure size 432x288 with 1 Axes>"
      ]
     },
     "metadata": {
      "needs_background": "light"
     },
     "output_type": "display_data"
    }
   ],
   "source": [
    "import matplotlib.pyplot as plt\n",
    "# plotting\n",
    "pred1 = NN.model(train_homo_pairs, training=False).numpy().reshape((len(train_homo_pairs),))\n",
    "x = np.exp(-pred1) * 27.211\n",
    "y1 = np.exp(-train_c_homo) * 27.211\n",
    "y2 = train_c_lumo\n",
    "x0 = [0,1.25]\n",
    "y0 = [0,1.25]\n",
    "fig, ax = plt.subplots()\n",
    "ax.scatter(x,y1)\n",
    "ax.plot(x0,y0, color='r')\n",
    "ax.set_xlim(0,1.25)\n",
    "ax.set_ylim(0,1.25)\n",
    "ax.set_xlabel('NN Electron Coupling (eV)')\n",
    "ax.set_ylabel('CDFT Electron Coupling (eV)')\n",
    "ax.set_title('Error: %5.3f%%'%error1)\n",
    "ax.set_aspect('equal')"
   ]
  },
  {
   "cell_type": "code",
   "execution_count": 29,
   "id": "b143ab74-322f-4b26-9ee5-7f7d433b2074",
   "metadata": {},
   "outputs": [
    {
     "data": {
      "application/vnd.jupyter.widget-view+json": {
       "model_id": "59d239a8da2c4f6c8b97f76ed600e5c0",
       "version_major": 2,
       "version_minor": 0
      },
      "image/png": "[encoded data removed]",
      "text/html": [
       "\n",
       "            <div style=\"display: inline-block;\">\n",
       "                <div class=\"jupyter-widgets widget-label\" style=\"text-align: center;\">\n",
       "                    Figure\n",
       "                </div>\n",
       "                <img src='data:image/png;base64,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' width=432.0/>\n",
       "            </div>\n",
       "        "
      ],
      "text/plain": [
       "Canvas(toolbar=Toolbar(toolitems=[('Home', 'Reset original view', 'home', 'home'), ('Back', 'Back to previous …"
      ]
     },
     "metadata": {},
     "output_type": "display_data"
    }
   ],
   "source": [
    "import matplotlib.pyplot as plt\n",
    "%matplotlib inline\n",
    "%matplotlib widget\n",
    "\n",
    "error = np.mean(np.multiply(abs(NN.model(train_homo_pairs[0:1681], training=False).numpy().reshape((len(train_homo_pairs[0:1681]),))-train_c_homo[0:1681]), np.power(train_c_homo[0:1681],-1))*100)\n",
    "x = np.linspace(0, 4, 41)\n",
    "y = np.linspace(0, 4, 41)\n",
    "Z = NN.model(train_homo_pairs[0:1681], training=False).numpy().reshape((41,41)).T\n",
    "Z1 = c_homo[0:1681].reshape((41,41)).T\n",
    "\n",
    "fix, ax = plt.subplots()\n",
    "ax.contourf(x,y, np.exp(-Z))\n",
    "ax.set_title('Error: %5.3f%%'%error)\n",
    "ax.set_aspect('equal')\n",
    "# plt.savefig('homo_pred.png')"
   ]
  },
  {
   "cell_type": "code",
   "execution_count": 22,
   "id": "c790e593-9420-43a7-8f9c-514740afee92",
   "metadata": {},
   "outputs": [
    {
     "data": {
      "application/vnd.jupyter.widget-view+json": {
       "model_id": "727bf27097da418ba689c863a5cb1302",
       "version_major": 2,
       "version_minor": 0
      },
      "image/png": "[encoded data removed]",
      "text/html": [
       "\n",
       "            <div style=\"display: inline-block;\">\n",
       "                <div class=\"jupyter-widgets widget-label\" style=\"text-align: center;\">\n",
       "                    Figure\n",
       "                </div>\n",
       "                <img src='data:image/png;base64,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' width=432.0/>\n",
       "            </div>\n",
       "        "
      ],
      "text/plain": [
       "Canvas(toolbar=Toolbar(toolitems=[('Home', 'Reset original view', 'home', 'home'), ('Back', 'Back to previous …"
      ]
     },
     "metadata": {},
     "output_type": "display_data"
    }
   ],
   "source": [
    "fix, ax = plt.subplots()\n",
    "ax.contourf(x,y, Z1)\n",
    "ax.set_title('True')\n",
    "ax.set_aspect('equal')\n",
    "# plt.savefig('homo_true.png')"
   ]
  },
  {
   "cell_type": "code",
   "execution_count": 37,
   "id": "5fcdb5de-64a1-48c9-b3cf-e2a74567b5b9",
   "metadata": {},
   "outputs": [
    {
     "name": "stdout",
     "output_type": "stream",
     "text": [
      "481\n"
     ]
    },
    {
     "data": {
      "application/vnd.jupyter.widget-view+json": {
       "model_id": "70c98afa766f492b91e01c85b6881608",
       "version_major": 2,
       "version_minor": 0
      },
      "image/png": "[encoded data removed]",
      "text/html": [
       "\n",
       "            <div style=\"display: inline-block;\">\n",
       "                <div class=\"jupyter-widgets widget-label\" style=\"text-align: center;\">\n",
       "                    Figure\n",
       "                </div>\n",
       "                <img src='data:image/png;base64,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' width=432.0/>\n",
       "            </div>\n",
       "        "
      ],
      "text/plain": [
       "Canvas(toolbar=Toolbar(toolitems=[('Home', 'Reset original view', 'home', 'home'), ('Back', 'Back to previous …"
      ]
     },
     "metadata": {},
     "output_type": "display_data"
    }
   ],
   "source": [
    "C = []\n",
    "for i in x:\n",
    "    for j in y:\n",
    "        C_ = (i,j)\n",
    "        C.append(C_)\n",
    "C = np.array(C)\n",
    "C_ = copy.deepcopy(C)\n",
    "C = np.delete(C,index,0)\n",
    "C__ = np.delete(C_,idiff,0)\n",
    "print(len(C__))\n",
    "\n",
    "Z = NN.model(test_homo, training=False).numpy()\n",
    "\n",
    "fig = plt.figure(figsize=(6,6))\n",
    "ax = fig.add_subplot()\n",
    "ax.scatter(C__[:, 0], C__[:, 1], c=np.exp(-Z),s=62, marker=',')\n",
    "\n",
    "ax.set_xlabel('X Axis')\n",
    "ax.set_ylabel('Y Axis')\n",
    "\n",
    "error = np.mean(np.multiply(NN.model(test_homo, training=False).numpy().reshape((len(test_homo),))-test_chomo, np.power(test_chomo,-1))*100)\n",
    "plt.title('ML with error of test set: %5.3f %%'%error)\n",
    "plt.tight_layout()\n",
    "plt.show()\n",
    "\n",
    "# plt.savefig('test.jpg')"
   ]
  },
  {
   "cell_type": "code",
   "execution_count": 38,
   "id": "c0db72c7-b7b1-494a-85dd-a4056bb496f6",
   "metadata": {},
   "outputs": [
    {
     "data": {
      "application/vnd.jupyter.widget-view+json": {
       "model_id": "216d6b93959f4f0fb0a8c65ed861b24e",
       "version_major": 2,
       "version_minor": 0
      },
      "image/png": "[encoded data removed]",
      "text/html": [
       "\n",
       "            <div style=\"display: inline-block;\">\n",
       "                <div class=\"jupyter-widgets widget-label\" style=\"text-align: center;\">\n",
       "                    Figure\n",
       "                </div>\n",
       "                <img src='data:image/png;base64,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' width=432.0/>\n",
       "            </div>\n",
       "        "
      ],
      "text/plain": [
       "Canvas(toolbar=Toolbar(toolitems=[('Home', 'Reset original view', 'home', 'home'), ('Back', 'Back to previous …"
      ]
     },
     "metadata": {},
     "output_type": "display_data"
    }
   ],
   "source": [
    "Z1 = train_chomo\n",
    "fig = plt.figure(figsize=(6,6))\n",
    "ax = fig.add_subplot()\n",
    "ax.scatter(C_[:, 0], C_[:, 1], c=np.exp(-Z1),s=62, marker=',')\n",
    "\n",
    "ax.set_xlabel('X Axis')\n",
    "ax.set_ylabel('Y Axis')\n",
    "\n",
    "# plt.title('HOMO of Naphthalene')\n",
    "plt.tight_layout()\n",
    "plt.show()\n",
    "# plt.savefig('test.jpg')"
   ]
  },
  {
   "cell_type": "code",
   "execution_count": 23,
   "id": "dbeac264-1b61-4a8a-bb30-b368f5551f44",
   "metadata": {},
   "outputs": [
    {
     "name": "stdout",
     "output_type": "stream",
     "text": [
      "Model: \"private_mlp\"\n",
      "_________________________________________________________________\n",
      " Layer (type)                Output Shape              Param #   \n",
      "=================================================================\n",
      " flatten (Flatten)           multiple                  0         \n",
      "                                                                 \n",
      " flatten_1 (Flatten)         multiple                  0         \n",
      "                                                                 \n",
      " concatenate (Concatenate)   multiple                  0         \n",
      "                                                                 \n",
      " batch_normalization (BatchN  multiple                 1024      \n",
      " ormalization)                                                   \n",
      "                                                                 \n",
      " batch_normalization_1 (Batc  multiple                 1024      \n",
      " hNormalization)                                                 \n",
      "                                                                 \n",
      " batch_normalization_2 (Batc  multiple                 1024      \n",
      " hNormalization)                                                 \n",
      "                                                                 \n",
      " dense (Dense)               multiple                  33024     \n",
      "                                                                 \n",
      " dense_1 (Dense)             multiple                  65792     \n",
      "                                                                 \n",
      " dense_2 (Dense)             multiple                  65792     \n",
      "                                                                 \n",
      " dense_3 (Dense)             multiple                  257       \n",
      "                                                                 \n",
      "=================================================================\n",
      "Total params: 167,937\n",
      "Trainable params: 166,401\n",
      "Non-trainable params: 1,536\n",
      "_________________________________________________________________\n"
     ]
    }
   ],
   "source": [
    "NN.model.summary()"
   ]
  },
  {
   "cell_type": "code",
   "execution_count": 23,
   "id": "21f79bb1-be4a-437a-8da6-ecaabc74407c",
   "metadata": {},
   "outputs": [
    {
     "name": "stdout",
     "output_type": "stream",
     "text": [
      "(15129, 128)\n"
     ]
    }
   ],
   "source": [
    "from gpr_frame import GPR\n",
    "# from sklearn.gaussian_process import GaussianProcessRegressor\n",
    "# from sklearn.gaussian_process.kernels import RBF\n",
    "# from sklearn.metrics import mean_squared_error as mse\n",
    "# from sklearn.metrics import mean_absolute_error as mae\n",
    "\n",
    "# class GPR():\n",
    "#     def __init__(self, json_path=None, setting_dict=None):\n",
    "#         setting_ = {'alpha':1, 'kernel':'RBF', 'optimizer':'fmin_l_bfgs_b', 'length_scale':1.0, 'length_scale_bounds':(1e-2, 1e2)}  # default setting   \n",
    "#         if json_path is not None:\n",
    "#             setting = json.load(json_path)\n",
    "#         elif (json_path is None) and (setting_dict is not None):\n",
    "#             setting = setting_dict\n",
    "#         else:\n",
    "#             print('No setting is specified, default setting will be applied.')\n",
    "#             setting = setting_\n",
    "#         self.setting = setting\n",
    "\n",
    "#         if self.setting['kernel'] == 'RBF':\n",
    "#             self.kernel = RBF(length_scale=self.setting['length_scale'], length_scale_bounds=self.setting['length_scale_bounds'])\n",
    "        \n",
    "#         self.alpha = self.setting['alpha']\n",
    "\n",
    "#     def train(self, X, Y):\n",
    "#         self.model = GaussianProcessRegressor(kernel=self.kernel, alpha=self.alpha)\n",
    "#         self.model.fit(X, Y)\n",
    "\n",
    "#     def predict(self, X):\n",
    "#         x_pred, std_pred = self.model.predict(X, return_std=True)\n",
    "#         return x_pred, std_pred\n",
    "    \n",
    "gpr = GPR(setting_dict={'alpha':0.01, 'kernel':'RBF', 'optimizer':'fmin_l_bfgs_b', 'length_scale':0.1, 'length_scale_bounds':(1e-2, 1e1)})\n",
    "dshape = train_homo_.shape\n",
    "new_train = train_homo_.reshape((dshape[0],dshape[1]*dshape[2]*dshape[3]))\n",
    "print(new_train.shape)\n",
    "gpr.train(new_train, train_chomo_)"
   ]
  },
  {
   "cell_type": "code",
   "execution_count": 24,
   "id": "3ee80782-795c-4137-9dce-4a825bb91774",
   "metadata": {},
   "outputs": [],
   "source": [
    "pred1, std1 = gpr.predict(train_homo_pairs.reshape((len(train_homo_pairs),2*8*8)))\n",
    "pred2, std2 = gpr.predict(train_homo_.reshape((len(train_homo_),2*8*8)))\n",
    "pred3, std3 = gpr.predict(test_homo.reshape((len(test_homo),2*8*8)))"
   ]
  },
  {
   "cell_type": "code",
   "execution_count": 25,
   "id": "9cd5fa17-1593-47b0-a51d-3550d7487677",
   "metadata": {},
   "outputs": [
    {
     "name": "stdout",
     "output_type": "stream",
     "text": [
      "Error of full data set: -0.150 % \n",
      "Error of training set with 15129 samples: -0.021 % \n",
      "Error of testing set with 35301 samples: -0.205 % \n"
     ]
    }
   ],
   "source": [
    "error1 = np.mean(np.multiply(pred1-train_c_homo, np.power(train_c_homo,-1))*100)\n",
    "error2 = np.mean(np.multiply(pred2-train_chomo_, np.power(train_chomo_,-1))*100)\n",
    "error3 = np.mean(np.multiply(pred3-test_chomo, np.power(test_chomo,-1))*100)\n",
    "print('Error of full data set: %5.3f %% \\nError of training set with %d samples: %5.3f %% \\nError of testing set with %d samples: %5.3f %% '%(error1,len(train_homo_),error2,len(test_homo),error3))"
   ]
  },
  {
   "cell_type": "code",
   "execution_count": 26,
   "id": "ec48a944-30cd-4368-bf69-bb4e6fc8c0e8",
   "metadata": {},
   "outputs": [
    {
     "name": "stdout",
     "output_type": "stream",
     "text": [
      "Error of full data set: 1.591 % \n",
      "Error of training set with 15129 samples: 0.721 % \n",
      "Error of testing set with 35301 samples: 1.964 % \n"
     ]
    }
   ],
   "source": [
    "error1 = np.mean(np.multiply(abs(pred1-train_c_homo), np.power(train_c_homo,-1))*100)\n",
    "error2 = np.mean(np.multiply(abs(pred2-train_chomo_), np.power(train_chomo_,-1))*100)\n",
    "error3 = np.mean(np.multiply(abs(pred3-test_chomo), np.power(test_chomo,-1))*100)\n",
    "print('Error of full data set: %5.3f %% \\nError of training set with %d samples: %5.3f %% \\nError of testing set with %d samples: %5.3f %% '%(error1,len(train_homo_),error2,len(test_homo),error3))"
   ]
  },
  {
   "cell_type": "code",
   "execution_count": null,
   "id": "e91b52ed-f343-41e5-bea7-5ce26bebe914",
   "metadata": {},
   "outputs": [],
   "source": [
    "# plotting\n",
    "x = np.exp(-pred1) * 27.211\n",
    "y1 = np.exp(-train_c_homo) * 27.211\n",
    "y2 = train_c_lumo\n",
    "x0 = [0,1.25]\n",
    "y0 = [0,1.25]\n",
    "fig, ax = plt.subplots()\n",
    "ax.scatter(x,y1)\n",
    "ax.plot(x0,y0, color='r')\n",
    "ax.set_xlim(0,1.25)\n",
    "ax.set_ylim(0,1.25)\n",
    "ax.set_xlabel('GPR Electron Coupling (eV)')\n",
    "ax.set_ylabel('CDFT Electron Coupling (eV)')\n",
    "# ax.set_title('Error: %5.3f%%'%error)\n",
    "ax.set_aspect('equal')"
   ]
  },
  {
   "cell_type": "code",
   "execution_count": null,
   "id": "72c1c6e1-b4cf-4890-a245-30324d0c3128",
   "metadata": {},
   "outputs": [
    {
     "ename": "IndentationError",
     "evalue": "unindent does not match any outer indentation level (<tokenize>, line 6)",
     "output_type": "error",
     "traceback": [
      "\u001b[0;36m  File \u001b[0;32m\"<tokenize>\"\u001b[0;36m, line \u001b[0;32m6\u001b[0m\n\u001b[0;31m    for j in y:\u001b[0m\n\u001b[0m    ^\u001b[0m\n\u001b[0;31mIndentationError\u001b[0m\u001b[0;31m:\u001b[0m unindent does not match any outer indentation level\n"
     ]
    }
   ],
   "source": [
    "C = []\n",
    "for i in x:\n",
    "    for j in y:\n",
    "        C_ = (i,j)\n",
    "        C.append(C_)\n",
    "C = np.array(C)\n",
    "C_ = copy.deepcopy(C)\n",
    "C = np.deleteete(C_,idiff,0)(C,index,0)\n",
    "C__ = np.del\n",
    "print(len(C__))\n",
    "pred, std = gpr.predict(test_homo.reshape((481,2*8*8)))\n",
    "fig = plt.figure(figsize=(4,4))\n",
    "ax = fig.add_subplot()\n",
    "ax.scatter(C__[:, 0], C__[:, 1], c=np.exp(-pred),s=40, marker=',')"
   ]
  },
  {
   "cell_type": "code",
   "execution_count": 45,
   "id": "b9d73056-72fe-4aef-ac94-59b00f8642f4",
   "metadata": {},
   "outputs": [
    {
     "data": {
      "application/vnd.jupyter.widget-view+json": {
       "model_id": "687a59324646414cbdf5addb4c66cd79",
       "version_major": 2,
       "version_minor": 0
      },
      "image/png": "[encoded data removed]",
      "text/html": [
       "\n",
       "            <div style=\"display: inline-block;\">\n",
       "                <div class=\"jupyter-widgets widget-label\" style=\"text-align: center;\">\n",
       "                    Figure\n",
       "                </div>\n",
       "                <img src='data:image/png;base64,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' width=432.0/>\n",
       "            </div>\n",
       "        "
      ],
      "text/plain": [
       "Canvas(toolbar=Toolbar(toolitems=[('Home', 'Reset original view', 'home', 'home'), ('Back', 'Back to previous …"
      ]
     },
     "metadata": {},
     "output_type": "display_data"
    }
   ],
   "source": [
    "import matplotlib.pyplot as plt\n",
    "%matplotlib inline\n",
    "%matplotlib widget\n",
    "\n",
    "# error = np.mean(np.multiply(NN.model(train_homo_pairs, training=False).numpy().reshape((len(train_homo_pairs),))-train_c_homo, np.power(train_c_homo,-1))*100)\n",
    "x = np.linspace(0, 4, 41)\n",
    "y = np.linspace(0, 4, 41)\n",
    "# Z = NN.model(train_homo_pairs, training=False).numpy().reshape((41,41)).T\n",
    "pred, std = gpr.predict(train_homo_pairs.reshape((1681,2*8*8)))\n",
    "Z = pred.reshape((41,41)).T\n",
    "Z1 = c_homo.reshape((41,41)).T\n",
    "\n",
    "fix, ax = plt.subplots()\n",
    "ax.contourf(x,y, np.exp(-Z))\n",
    "# ax.set_title('Error: %5.3f%%'%error)\n",
    "ax.set_aspect('equal')\n",
    "\n",
    "# plt.savefig('homo_pred.png')"
   ]
  }
 ],
 "metadata": {
  "kernelspec": {
   "display_name": "venv",
   "language": "python",
   "name": "venv"
  },
  "language_info": {
   "codemirror_mode": {
    "name": "ipython",
    "version": 3
   },
   "file_extension": ".py",
   "mimetype": "text/x-python",
   "name": "python",
   "nbconvert_exporter": "python",
   "pygments_lexer": "ipython3",
   "version": "3.9.7"
  }
 },
 "nbformat": 4,
 "nbformat_minor": 5
}
